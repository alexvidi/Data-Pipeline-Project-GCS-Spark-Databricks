{
 "cells": [
  {
   "cell_type": "code",
   "execution_count": 0,
   "metadata": {
    "application/vnd.databricks.v1+cell": {
     "cellMetadata": {
      "byteLimit": 2048000,
      "rowLimit": 10000
     },
     "inputWidgets": {},
     "nuid": "38c2602d-8148-4f68-a8cf-7f3a52f92c95",
     "showTitle": false,
     "tableResultSettingsMap": {},
     "title": ""
    }
   },
   "outputs": [
    {
     "name": "stdout",
     "output_type": "stream",
     "text": [
      "Python interpreter will be restarted.\n",
      "Collecting google-cloud-storage\n",
      "  Downloading google_cloud_storage-3.1.0-py2.py3-none-any.whl (174 kB)\n",
      "Requirement already satisfied: requests<3.0.0dev,>=2.18.0 in /databricks/python3/lib/python3.9/site-packages (from google-cloud-storage) (2.27.1)\n",
      "Collecting google-crc32c<2.0dev,>=1.0\n",
      "  Downloading google_crc32c-1.6.0-cp39-cp39-manylinux_2_17_x86_64.manylinux2014_x86_64.whl (37 kB)\n",
      "Collecting google-cloud-core<3.0dev,>=2.4.2\n",
      "  Downloading google_cloud_core-2.4.3-py2.py3-none-any.whl (29 kB)\n",
      "Collecting google-auth<3.0dev,>=2.26.1\n",
      "  Downloading google_auth-2.38.0-py2.py3-none-any.whl (210 kB)\n",
      "Collecting google-api-core<3.0.0dev,>=2.15.0\n",
      "  Downloading google_api_core-2.24.2-py3-none-any.whl (160 kB)\n",
      "Collecting google-resumable-media>=2.7.2\n",
      "  Downloading google_resumable_media-2.7.2-py2.py3-none-any.whl (81 kB)\n",
      "Collecting proto-plus<2.0.0,>=1.22.3\n",
      "  Downloading proto_plus-1.26.1-py3-none-any.whl (50 kB)\n",
      "Collecting protobuf!=3.20.0,!=3.20.1,!=4.21.0,!=4.21.1,!=4.21.2,!=4.21.3,!=4.21.4,!=4.21.5,<7.0.0,>=3.19.5\n",
      "  Downloading protobuf-6.30.1-cp39-abi3-manylinux2014_x86_64.whl (316 kB)\n",
      "Collecting googleapis-common-protos<2.0.0,>=1.56.2\n",
      "  Downloading googleapis_common_protos-1.69.1-py2.py3-none-any.whl (293 kB)\n",
      "Collecting cachetools<6.0,>=2.0.0\n",
      "  Downloading cachetools-5.5.2-py3-none-any.whl (10 kB)\n",
      "Collecting rsa<5,>=3.1.4\n",
      "  Downloading rsa-4.9-py3-none-any.whl (34 kB)\n",
      "Collecting pyasn1-modules>=0.2.1\n",
      "  Downloading pyasn1_modules-0.4.1-py3-none-any.whl (181 kB)\n",
      "Collecting protobuf!=3.20.0,!=3.20.1,!=4.21.0,!=4.21.1,!=4.21.2,!=4.21.3,!=4.21.4,!=4.21.5,<7.0.0,>=3.19.5\n",
      "  Downloading protobuf-5.29.3-cp38-abi3-manylinux2014_x86_64.whl (319 kB)\n",
      "Collecting pyasn1<0.7.0,>=0.4.6\n",
      "  Downloading pyasn1-0.6.1-py3-none-any.whl (83 kB)\n",
      "Requirement already satisfied: charset-normalizer~=2.0.0 in /databricks/python3/lib/python3.9/site-packages (from requests<3.0.0dev,>=2.18.0->google-cloud-storage) (2.0.4)\n",
      "Requirement already satisfied: idna<4,>=2.5 in /databricks/python3/lib/python3.9/site-packages (from requests<3.0.0dev,>=2.18.0->google-cloud-storage) (3.3)\n",
      "Requirement already satisfied: certifi>=2017.4.17 in /databricks/python3/lib/python3.9/site-packages (from requests<3.0.0dev,>=2.18.0->google-cloud-storage) (2021.10.8)\n",
      "Requirement already satisfied: urllib3<1.27,>=1.21.1 in /databricks/python3/lib/python3.9/site-packages (from requests<3.0.0dev,>=2.18.0->google-cloud-storage) (1.26.9)\n",
      "Installing collected packages: pyasn1, rsa, pyasn1-modules, protobuf, cachetools, proto-plus, googleapis-common-protos, google-auth, google-crc32c, google-api-core, google-resumable-media, google-cloud-core, google-cloud-storage\n",
      "  Attempting uninstall: protobuf\n",
      "    Found existing installation: protobuf 3.19.4\n",
      "    Not uninstalling protobuf at /databricks/python3/lib/python3.9/site-packages, outside environment /local_disk0/.ephemeral_nfs/envs/pythonEnv-5c235b86-f817-42b8-a40c-e3e6053fac34\n",
      "    Can't uninstall 'protobuf'. No files were found to uninstall.\n",
      "Successfully installed cachetools-5.5.2 google-api-core-2.24.2 google-auth-2.38.0 google-cloud-core-2.4.3 google-cloud-storage-3.1.0 google-crc32c-1.6.0 google-resumable-media-2.7.2 googleapis-common-protos-1.69.1 proto-plus-1.26.1 protobuf-5.29.3 pyasn1-0.6.1 pyasn1-modules-0.4.1 rsa-4.9\n",
      "Python interpreter will be restarted.\n"
     ]
    }
   ],
   "source": [
    "%pip install google-cloud-storage\n"
   ]
  },
  {
   "cell_type": "code",
   "execution_count": 0,
   "metadata": {
    "application/vnd.databricks.v1+cell": {
     "cellMetadata": {
      "byteLimit": 2048000,
      "rowLimit": 10000
     },
     "inputWidgets": {},
     "nuid": "d7a7abca-0091-44d4-89e9-b34c01062755",
     "showTitle": false,
     "tableResultSettingsMap": {},
     "title": ""
    }
   },
   "outputs": [
    {
     "name": "stdout",
     "output_type": "stream",
     "text": [
      "Credentials stored in: /tmp/gcp_credentials.json\n"
     ]
    }
   ],
   "source": [
    "from google.cloud import storage\n",
    "from pyspark.sql import SparkSession\n",
    "import json\n",
    "\n",
    "# credentials\n",
    "credentials = {}\n",
    "\n",
    "# Temporarily store the credentials in Databricks\n",
    "credentials_path = \"/tmp/gcp_credentials.json\"\n",
    "with open(credentials_path, \"w\") as f:\n",
    "    json.dump(credentials, f)\n",
    "\n",
    "print(\"Credentials stored in:\", credentials_path)\n",
    "\n"
   ]
  },
  {
   "cell_type": "code",
   "execution_count": 0,
   "metadata": {
    "application/vnd.databricks.v1+cell": {
     "cellMetadata": {
      "byteLimit": 2048000,
      "rowLimit": 10000
     },
     "inputWidgets": {},
     "nuid": "4c1e82f0-bdd1-42b7-bb6b-e05ba92f3b6f",
     "showTitle": false,
     "tableResultSettingsMap": {},
     "title": ""
    }
   },
   "outputs": [
    {
     "name": "stdout",
     "output_type": "stream",
     "text": [
      "+---+---------+--------+----------+---+------+--------------------+----------------+--------+------------+---------+--------------------+----------+------+------+--------+------------------+--------------+--------------------+-----------------+--------------------+--------------------+--------------------+-------+-----------+--------------------+--------------------+-----+\n",
      "| id|firstName|lastName|maidenName|age|gender|               email|           phone|username|    password|birthDate|               image|bloodGroup|height|weight|eyeColor|              hair|            ip|             address|       macAddress|          university|                bank|             company|    ein|        ssn|           userAgent|              crypto| role|\n",
      "+---+---------+--------+----------+---+------+--------------------+----------------+--------+------------+---------+--------------------+----------+------+------+--------+------------------+--------------+--------------------+-----------------+--------------------+--------------------+--------------------+-------+-----------+--------------------+--------------------+-----+\n",
      "|  1|    Emily| Johnson|     Smith| 28|female|emily.johnson@x.d...|+81 965-431-3024|  emilys|  emilyspass|1996-5-30|https://dummyjson...|        O-|193.24| 63.16|   Green|    {Brown, Curly}|  42.48.100.32|{626 Main Street,...|47:fa:41:18:ec:eb|University of Wis...|{03/26, 928976065...|{{263 Tenth Stree...|977-175|900-590-289|Mozilla/5.0 (Maci...|{Bitcoin, Ethereu...|admin|\n",
      "|  2|  Michael|Williams|          | 35|  male|michael.williams@...|+49 258-627-6644|michaelw|michaelwpass|1989-8-10|https://dummyjson...|        B+|186.22| 76.32|     Red| {Green, Straight}| 12.13.116.142|{385 Fifth Street...|79:15:78:99:60:aa|Ohio State Univer...|{02/27, 673780785...|{{395 Main Street...|912-602|108-953-962|Mozilla/5.0 (Wind...|{Bitcoin, Ethereu...|admin|\n",
      "|  3|   Sophia|   Brown|          | 42|female|sophia.brown@x.du...|+81 210-652-2785| sophiab| sophiabpass|1982-11-6|https://dummyjson...|        O-|177.72|  52.6|   Hazel|     {White, Wavy}|214.225.51.195|{1642 Ninth Stree...|12:a3:d3:6f:5c:5b|Pepperdine Univer...|{04/25, 779589547...|{{1896 Washington...|963-113|638-461-822|Mozilla/5.0 (Wind...|{Bitcoin, Ethereu...|admin|\n",
      "|  4|    James|   Davis|          | 45|  male|james.davis@x.dum...|+49 614-958-9364|  jamesd|  jamesdpass| 1979-5-4|https://dummyjson...|       AB+|193.31|  62.1|   Amber|{Blonde, Straight}|101.118.131.66|{238 Jefferson St...|10:7d:df:1f:97:58|University of Sou...|{05/29, 500551984...|{{1622 Lincoln St...|904-810|116-951-314|Mozilla/5.0 (Maci...|{Bitcoin, Ethereu...|admin|\n",
      "|  5|     Emma|  Miller|   Johnson| 30|female|emma.miller@x.dum...|+91 759-776-1614|   emmaj|   emmajpass|1994-6-13|https://dummyjson...|       AB-| 192.8| 63.62|   Green| {White, Straight}|224.126.22.183|{607 Fourth Stree...|32:b9:7e:8d:f5:e8|Northeastern Univ...|{03/26, 577295011...|{{1460 Sixth Stre...|403-505|526-210-885|Mozilla/5.0 (Wind...|{Bitcoin, Ethereu...|admin|\n",
      "+---+---------+--------+----------+---+------+--------------------+----------------+--------+------------+---------+--------------------+----------+------+------+--------+------------------+--------------+--------------------+-----------------+--------------------+--------------------+--------------------+-------+-----------+--------------------+--------------------+-----+\n",
      "only showing top 5 rows\n",
      "\n"
     ]
    }
   ],
   "source": [
    "from pyspark.sql import SparkSession\n",
    "\n",
    "# Initialize Spark session\n",
    "spark = SparkSession.builder.appName(\"Read_GCS\").getOrCreate()\n",
    "\n",
    "# Configure Spark to use the credentials stored in /tmp/\n",
    "spark.conf.set(\"google.cloud.auth.service.account.json.keyfile\", \"/tmp/gcp_credentials.json\")\n",
    "\n",
    "# Define the bucket name and Parquet file path in GCS\n",
    "bucket_name = \"data-engineering-bucket-alexvidi\"  # Adjust with your bucket name\n",
    "gcs_path = f\"gs://{bucket_name}/users.parquet\"\n",
    "\n",
    "# Read the Parquet file from GCS\n",
    "df = spark.read.parquet(gcs_path)\n",
    "\n",
    "# Display the data\n",
    "df.show(5)\n",
    "\n"
   ]
  },
  {
   "cell_type": "code",
   "execution_count": 0,
   "metadata": {
    "application/vnd.databricks.v1+cell": {
     "cellMetadata": {
      "byteLimit": 2048000,
      "rowLimit": 10000
     },
     "inputWidgets": {},
     "nuid": "08444c74-1267-4962-8baf-4e31701f3f78",
     "showTitle": false,
     "tableResultSettingsMap": {},
     "title": ""
    }
   },
   "outputs": [
    {
     "data": {
      "text/html": [
       "<style scoped>\n",
       "  .table-result-container {\n",
       "    max-height: 300px;\n",
       "    overflow: auto;\n",
       "  }\n",
       "  table, th, td {\n",
       "    border: 1px solid black;\n",
       "    border-collapse: collapse;\n",
       "  }\n",
       "  th, td {\n",
       "    padding: 5px;\n",
       "  }\n",
       "  th {\n",
       "    text-align: left;\n",
       "  }\n",
       "</style><div class='table-result-container'><table class='table-result'><thead style='background-color: white'><tr><th>id</th><th>firstName</th><th>lastName</th><th>age</th><th>email</th><th>gender</th></tr></thead><tbody><tr><td>1</td><td>Emily</td><td>Johnson</td><td>28</td><td>emily.johnson@x.dummyjson.com</td><td>female</td></tr><tr><td>2</td><td>Michael</td><td>Williams</td><td>35</td><td>michael.williams@x.dummyjson.com</td><td>male</td></tr><tr><td>3</td><td>Sophia</td><td>Brown</td><td>42</td><td>sophia.brown@x.dummyjson.com</td><td>female</td></tr><tr><td>4</td><td>James</td><td>Davis</td><td>45</td><td>james.davis@x.dummyjson.com</td><td>male</td></tr><tr><td>5</td><td>Emma</td><td>Miller</td><td>30</td><td>emma.miller@x.dummyjson.com</td><td>female</td></tr><tr><td>6</td><td>Olivia</td><td>Wilson</td><td>22</td><td>olivia.wilson@x.dummyjson.com</td><td>female</td></tr><tr><td>7</td><td>Alexander</td><td>Jones</td><td>38</td><td>alexander.jones@x.dummyjson.com</td><td>male</td></tr><tr><td>8</td><td>Ava</td><td>Taylor</td><td>27</td><td>ava.taylor@x.dummyjson.com</td><td>female</td></tr><tr><td>9</td><td>Ethan</td><td>Martinez</td><td>33</td><td>ethan.martinez@x.dummyjson.com</td><td>male</td></tr><tr><td>10</td><td>Isabella</td><td>Anderson</td><td>31</td><td>isabella.anderson@x.dummyjson.com</td><td>female</td></tr><tr><td>11</td><td>Liam</td><td>Garcia</td><td>29</td><td>liam.garcia@x.dummyjson.com</td><td>male</td></tr><tr><td>12</td><td>Mia</td><td>Rodriguez</td><td>24</td><td>mia.rodriguez@x.dummyjson.com</td><td>female</td></tr><tr><td>13</td><td>Noah</td><td>Hernandez</td><td>40</td><td>noah.hernandez@x.dummyjson.com</td><td>male</td></tr><tr><td>14</td><td>Charlotte</td><td>Lopez</td><td>36</td><td>charlotte.lopez@x.dummyjson.com</td><td>female</td></tr><tr><td>15</td><td>William</td><td>Gonzalez</td><td>32</td><td>william.gonzalez@x.dummyjson.com</td><td>male</td></tr><tr><td>16</td><td>Avery</td><td>Perez</td><td>25</td><td>avery.perez@x.dummyjson.com</td><td>female</td></tr><tr><td>17</td><td>Evelyn</td><td>Sanchez</td><td>37</td><td>evelyn.sanchez@x.dummyjson.com</td><td>female</td></tr><tr><td>18</td><td>Logan</td><td>Torres</td><td>31</td><td>logan.torres@x.dummyjson.com</td><td>male</td></tr><tr><td>19</td><td>Abigail</td><td>Rivera</td><td>28</td><td>abigail.rivera@x.dummyjson.com</td><td>female</td></tr><tr><td>20</td><td>Jackson</td><td>Evans</td><td>34</td><td>jackson.evans@x.dummyjson.com</td><td>male</td></tr><tr><td>21</td><td>Madison</td><td>Collins</td><td>26</td><td>madison.collins@x.dummyjson.com</td><td>female</td></tr><tr><td>22</td><td>Elijah</td><td>Stewart</td><td>33</td><td>elijah.stewart@x.dummyjson.com</td><td>male</td></tr><tr><td>23</td><td>Chloe</td><td>Morales</td><td>39</td><td>chloe.morales@x.dummyjson.com</td><td>female</td></tr><tr><td>24</td><td>Mateo</td><td>Nguyen</td><td>30</td><td>mateo.nguyen@x.dummyjson.com</td><td>male</td></tr><tr><td>25</td><td>Harper</td><td>Kelly</td><td>27</td><td>harper.kelly@x.dummyjson.com</td><td>female</td></tr><tr><td>26</td><td>Evelyn</td><td>Gonzalez</td><td>35</td><td>evelyn.gonzalez@x.dummyjson.com</td><td>female</td></tr><tr><td>27</td><td>Daniel</td><td>Cook</td><td>41</td><td>daniel.cook@x.dummyjson.com</td><td>male</td></tr><tr><td>28</td><td>Lily</td><td>Lee</td><td>29</td><td>lily.lee@x.dummyjson.com</td><td>female</td></tr><tr><td>29</td><td>Henry</td><td>Hill</td><td>38</td><td>henry.hill@x.dummyjson.com</td><td>male</td></tr><tr><td>30</td><td>Addison</td><td>Wright</td><td>32</td><td>addison.wright@x.dummyjson.com</td><td>female</td></tr></tbody></table></div>"
      ]
     },
     "metadata": {
      "application/vnd.databricks.v1+output": {
       "addedWidgets": {},
       "aggData": [],
       "aggError": "",
       "aggOverflow": false,
       "aggSchema": [],
       "aggSeriesLimitReached": false,
       "aggType": "",
       "arguments": {},
       "columnCustomDisplayInfos": {},
       "data": [
        [
         1,
         "Emily",
         "Johnson",
         28,
         "emily.johnson@x.dummyjson.com",
         "female"
        ],
        [
         2,
         "Michael",
         "Williams",
         35,
         "michael.williams@x.dummyjson.com",
         "male"
        ],
        [
         3,
         "Sophia",
         "Brown",
         42,
         "sophia.brown@x.dummyjson.com",
         "female"
        ],
        [
         4,
         "James",
         "Davis",
         45,
         "james.davis@x.dummyjson.com",
         "male"
        ],
        [
         5,
         "Emma",
         "Miller",
         30,
         "emma.miller@x.dummyjson.com",
         "female"
        ],
        [
         6,
         "Olivia",
         "Wilson",
         22,
         "olivia.wilson@x.dummyjson.com",
         "female"
        ],
        [
         7,
         "Alexander",
         "Jones",
         38,
         "alexander.jones@x.dummyjson.com",
         "male"
        ],
        [
         8,
         "Ava",
         "Taylor",
         27,
         "ava.taylor@x.dummyjson.com",
         "female"
        ],
        [
         9,
         "Ethan",
         "Martinez",
         33,
         "ethan.martinez@x.dummyjson.com",
         "male"
        ],
        [
         10,
         "Isabella",
         "Anderson",
         31,
         "isabella.anderson@x.dummyjson.com",
         "female"
        ],
        [
         11,
         "Liam",
         "Garcia",
         29,
         "liam.garcia@x.dummyjson.com",
         "male"
        ],
        [
         12,
         "Mia",
         "Rodriguez",
         24,
         "mia.rodriguez@x.dummyjson.com",
         "female"
        ],
        [
         13,
         "Noah",
         "Hernandez",
         40,
         "noah.hernandez@x.dummyjson.com",
         "male"
        ],
        [
         14,
         "Charlotte",
         "Lopez",
         36,
         "charlotte.lopez@x.dummyjson.com",
         "female"
        ],
        [
         15,
         "William",
         "Gonzalez",
         32,
         "william.gonzalez@x.dummyjson.com",
         "male"
        ],
        [
         16,
         "Avery",
         "Perez",
         25,
         "avery.perez@x.dummyjson.com",
         "female"
        ],
        [
         17,
         "Evelyn",
         "Sanchez",
         37,
         "evelyn.sanchez@x.dummyjson.com",
         "female"
        ],
        [
         18,
         "Logan",
         "Torres",
         31,
         "logan.torres@x.dummyjson.com",
         "male"
        ],
        [
         19,
         "Abigail",
         "Rivera",
         28,
         "abigail.rivera@x.dummyjson.com",
         "female"
        ],
        [
         20,
         "Jackson",
         "Evans",
         34,
         "jackson.evans@x.dummyjson.com",
         "male"
        ],
        [
         21,
         "Madison",
         "Collins",
         26,
         "madison.collins@x.dummyjson.com",
         "female"
        ],
        [
         22,
         "Elijah",
         "Stewart",
         33,
         "elijah.stewart@x.dummyjson.com",
         "male"
        ],
        [
         23,
         "Chloe",
         "Morales",
         39,
         "chloe.morales@x.dummyjson.com",
         "female"
        ],
        [
         24,
         "Mateo",
         "Nguyen",
         30,
         "mateo.nguyen@x.dummyjson.com",
         "male"
        ],
        [
         25,
         "Harper",
         "Kelly",
         27,
         "harper.kelly@x.dummyjson.com",
         "female"
        ],
        [
         26,
         "Evelyn",
         "Gonzalez",
         35,
         "evelyn.gonzalez@x.dummyjson.com",
         "female"
        ],
        [
         27,
         "Daniel",
         "Cook",
         41,
         "daniel.cook@x.dummyjson.com",
         "male"
        ],
        [
         28,
         "Lily",
         "Lee",
         29,
         "lily.lee@x.dummyjson.com",
         "female"
        ],
        [
         29,
         "Henry",
         "Hill",
         38,
         "henry.hill@x.dummyjson.com",
         "male"
        ],
        [
         30,
         "Addison",
         "Wright",
         32,
         "addison.wright@x.dummyjson.com",
         "female"
        ]
       ],
       "datasetInfos": [],
       "dbfsResultPath": null,
       "isJsonSchema": true,
       "metadata": {},
       "overflow": false,
       "plotOptions": {
        "customPlotOptions": {},
        "displayType": "table",
        "pivotAggregation": null,
        "pivotColumns": null,
        "xColumns": null,
        "yColumns": null
       },
       "removedWidgets": [],
       "schema": [
        {
         "metadata": "{}",
         "name": "id",
         "type": "\"long\""
        },
        {
         "metadata": "{}",
         "name": "firstName",
         "type": "\"string\""
        },
        {
         "metadata": "{}",
         "name": "lastName",
         "type": "\"string\""
        },
        {
         "metadata": "{}",
         "name": "age",
         "type": "\"long\""
        },
        {
         "metadata": "{}",
         "name": "email",
         "type": "\"string\""
        },
        {
         "metadata": "{}",
         "name": "gender",
         "type": "\"string\""
        }
       ],
       "type": "table"
      }
     },
     "output_type": "display_data"
    }
   ],
   "source": [
    "# Select specific columns\n",
    "df_selected = df.select(\"id\", \"firstName\", \"lastName\", \"age\", \"email\", \"gender\")\n",
    "display(df_selected)\n"
   ]
  },
  {
   "cell_type": "code",
   "execution_count": 0,
   "metadata": {
    "application/vnd.databricks.v1+cell": {
     "cellMetadata": {
      "byteLimit": 2048000,
      "rowLimit": 10000
     },
     "inputWidgets": {},
     "nuid": "4c8f2d78-9393-40b9-b354-83bbbca9f058",
     "showTitle": false,
     "tableResultSettingsMap": {},
     "title": ""
    }
   },
   "outputs": [
    {
     "data": {
      "text/html": [
       "<style scoped>\n",
       "  .table-result-container {\n",
       "    max-height: 300px;\n",
       "    overflow: auto;\n",
       "  }\n",
       "  table, th, td {\n",
       "    border: 1px solid black;\n",
       "    border-collapse: collapse;\n",
       "  }\n",
       "  th, td {\n",
       "    padding: 5px;\n",
       "  }\n",
       "  th {\n",
       "    text-align: left;\n",
       "  }\n",
       "</style><div class='table-result-container'><table class='table-result'><thead style='background-color: white'><tr><th>id</th><th>firstName</th><th>lastName</th><th>maidenName</th><th>age</th><th>gender</th><th>email</th><th>phone</th><th>username</th><th>password</th><th>birthDate</th><th>image</th><th>bloodGroup</th><th>height</th><th>weight</th><th>eyeColor</th><th>hair</th><th>ip</th><th>address</th><th>macAddress</th><th>university</th><th>bank</th><th>company</th><th>ein</th><th>ssn</th><th>userAgent</th><th>crypto</th><th>role</th></tr></thead><tbody><tr><td>2</td><td>Michael</td><td>Williams</td><td></td><td>35</td><td>male</td><td>michael.williams@x.dummyjson.com</td><td>+49 258-627-6644</td><td>michaelw</td><td>michaelwpass</td><td>1989-8-10</td><td>https://dummyjson.com/icon/michaelw/128</td><td>B+</td><td>186.22</td><td>76.32</td><td>Red</td><td>List(Green, Straight)</td><td>12.13.116.142</td><td>List(385 Fifth Street, Houston, List(22.815468, 115.608581), United States, 38807, Alabama, AL)</td><td>79:15:78:99:60:aa</td><td>Ohio State University</td><td>List(02/27, 6737807858721625, Elo, SEK, 83IDT77FWYLCJVR8ISDACFH0)</td><td>List(List(395 Main Street, Los Angeles, List(79.098326, -119.624845), United States, 73442, New Hampshire, NH), Support, Spinka - Dickinson, Support Specialist)</td><td>912-602</td><td>108-953-962</td><td>Mozilla/5.0 (Windows NT 10.0; Win64; x64) AppleWebKit/537.36 (KHTML, like Gecko) Edge/97.0.1072.76 Safari/537.36</td><td>List(Bitcoin, Ethereum (ERC20), 0xb9fc2fe63b2a6c003f1c324c3bfa53259162181a)</td><td>admin</td></tr><tr><td>3</td><td>Sophia</td><td>Brown</td><td></td><td>42</td><td>female</td><td>sophia.brown@x.dummyjson.com</td><td>+81 210-652-2785</td><td>sophiab</td><td>sophiabpass</td><td>1982-11-6</td><td>https://dummyjson.com/icon/sophiab/128</td><td>O-</td><td>177.72</td><td>52.6</td><td>Hazel</td><td>List(White, Wavy)</td><td>214.225.51.195</td><td>List(1642 Ninth Street, Washington, List(45.289366, 46.832664), United States, 32822, Alabama, AL)</td><td>12:a3:d3:6f:5c:5b</td><td>Pepperdine University</td><td>List(04/25, 7795895470082859, Korean Express, SEK, 90XYKT83LMM7AARZ8JN958JC)</td><td>List(List(1896 Washington Street, Dallas, List(20.086743, -34.577107), United States, 88511, Nevada, NV), Research and Development, Schiller - Zieme, Accountant)</td><td>963-113</td><td>638-461-822</td><td>Mozilla/5.0 (Windows NT 10.0; Win64; x64) AppleWebKit/537.36 (KHTML, like Gecko) Chrome/96.0.4664.45 Safari/537.36</td><td>List(Bitcoin, Ethereum (ERC20), 0xb9fc2fe63b2a6c003f1c324c3bfa53259162181a)</td><td>admin</td></tr><tr><td>4</td><td>James</td><td>Davis</td><td></td><td>45</td><td>male</td><td>james.davis@x.dummyjson.com</td><td>+49 614-958-9364</td><td>jamesd</td><td>jamesdpass</td><td>1979-5-4</td><td>https://dummyjson.com/icon/jamesd/128</td><td>AB+</td><td>193.31</td><td>62.1</td><td>Amber</td><td>List(Blonde, Straight)</td><td>101.118.131.66</td><td>List(238 Jefferson Street, Seattle, List(16.782513, -139.34723), United States, 68354, Pennsylvania, PA)</td><td>10:7d:df:1f:97:58</td><td>University of Southern California</td><td>List(05/29, 5005519846254763, Mastercard, INR, 7N7ZH1PJ8Q4WU1K965HQQR27)</td><td>List(List(1622 Lincoln Street, Fort Worth, List(54.91193, -79.498328), United States, 27768, Pennsylvania, PA), Support, Pagac and Sons, Research Analyst)</td><td>904-810</td><td>116-951-314</td><td>Mozilla/5.0 (Macintosh; Intel Mac OS X 10_15_7) AppleWebKit/537.36 (KHTML, like Gecko) Chrome/97.0.4692.99 Safari/537.36</td><td>List(Bitcoin, Ethereum (ERC20), 0xb9fc2fe63b2a6c003f1c324c3bfa53259162181a)</td><td>admin</td></tr><tr><td>7</td><td>Alexander</td><td>Jones</td><td></td><td>38</td><td>male</td><td>alexander.jones@x.dummyjson.com</td><td>+61 260-824-4986</td><td>alexanderj</td><td>alexanderjpass</td><td>1986-10-20</td><td>https://dummyjson.com/icon/alexanderj/128</td><td>AB-</td><td>153.89</td><td>77.42</td><td>Blue</td><td>List(White, Straight)</td><td>166.204.84.32</td><td>List(664 Maple Street, Indianapolis, List(35.289664, 7.063255), United States, 86684, Delaware, DE)</td><td>d2:64:58:2d:1c:46</td><td>University of Illinois--Urbana-Champaign</td><td>List(05/25, 7344951706130140, JCB, EUR, 49V4GVDVMP0MHIDD4VXMQ3A2)</td><td>List(List(996 Eighth Street, Washington, List(-75.462366, -128.025697), United States, 27858, Kansas, KS), Engineering, Dickens - Beahan, Web Developer)</td><td>638-127</td><td>722-993-925</td><td>Mozilla/5.0 (Macintosh; Intel Mac OS X 10_15_7) AppleWebKit/537.36 (KHTML, like Gecko) Chrome/95.0.4638.69 Safari/537.36</td><td>List(Bitcoin, Ethereum (ERC20), 0xb9fc2fe63b2a6c003f1c324c3bfa53259162181a)</td><td>moderator</td></tr><tr><td>9</td><td>Ethan</td><td>Martinez</td><td></td><td>33</td><td>male</td><td>ethan.martinez@x.dummyjson.com</td><td>+92 933-608-5081</td><td>ethanm</td><td>ethanmpass</td><td>1991-2-12</td><td>https://dummyjson.com/icon/ethanm/128</td><td>AB+</td><td>159.19</td><td>68.81</td><td>Hazel</td><td>List(Purple, Curly)</td><td>63.191.127.71</td><td>List(466 Pine Street, San Antonio, List(74.074918, -25.312703), United States, 72360, Louisiana, LA)</td><td>59:e:9e:e3:29:da</td><td>Syracuse University</td><td>List(02/25, 7183482484317509, Visa, CAD, CW5U5KS23U7JYD22TVQL7SIH)</td><td>List(List(1597 Oak Street, Chicago, List(-67.45208, -23.209886), United States, 28100, Florida, FL), Support, Gorczany - Gottlieb, Legal Counsel)</td><td>790-434</td><td>569-650-348</td><td>Mozilla/5.0 (Windows NT 10.0; Win64; x64) AppleWebKit/537.36 (KHTML, like Gecko) Chrome/95.0.4638.69 Safari/537.36</td><td>List(Bitcoin, Ethereum (ERC20), 0xb9fc2fe63b2a6c003f1c324c3bfa53259162181a)</td><td>moderator</td></tr><tr><td>10</td><td>Isabella</td><td>Anderson</td><td>Davis</td><td>31</td><td>female</td><td>isabella.anderson@x.dummyjson.com</td><td>+49 770-658-4885</td><td>isabellad</td><td>isabelladpass</td><td>1993-6-10</td><td>https://dummyjson.com/icon/isabellad/128</td><td>A-</td><td>150.56</td><td>50.1</td><td>Brown</td><td>List(Blonde, Curly)</td><td>114.9.114.205</td><td>List(1964 Oak Street, New York, List(41.331324, 151.782727), United States, 89352, Utah, UT)</td><td>b1:b0:d0:a2:82:80</td><td>California Institute of Technology (Caltech)</td><td>List(05/27, 6118714010128731, NPS, CNY, GBZRGDMKUOTO34HBCI7A986J)</td><td>List(List(1029 Adams Street, San Diego, List(-25.843393, -62.692681), United States, 63847, Maryland, MD), Marketing, Pollich - Hilpert, Chief Financial Officer)</td><td>127-297</td><td>902-438-728</td><td>Mozilla/5.0 (Macintosh; Intel Mac OS X 10_15_7) AppleWebKit/537.36 (KHTML, like Gecko) Chrome/96.0.4664.93 Safari/537.36</td><td>List(Bitcoin, Ethereum (ERC20), 0xb9fc2fe63b2a6c003f1c324c3bfa53259162181a)</td><td>moderator</td></tr><tr><td>13</td><td>Noah</td><td>Hernandez</td><td></td><td>40</td><td>male</td><td>noah.hernandez@x.dummyjson.com</td><td>+49 393-605-6968</td><td>noahh</td><td>noahhpass</td><td>1984-6-5</td><td>https://dummyjson.com/icon/noahh/128</td><td>AB+</td><td>188.62</td><td>69.49</td><td>Brown</td><td>List(Red, Curly)</td><td>169.154.126.57</td><td>List(1413 Maple Street, New York, List(-25.0377, -151.70469), United States, 73696, North Dakota, ND)</td><td>d4:fe:ae:8f:eb:a3</td><td>New York University (NYU)</td><td>List(05/26, 1681772579326385, Discover, SEK, G4UIZKIQVPJM9D31XQVR1E9Z)</td><td>List(List(62 Third Street, Seattle, List(19.490447, -13.173207), United States, 83474, Oregon, OR), Engineering, Botsford, Marquardt and Roberts, Database Administrator)</td><td>877-628</td><td>660-847-389</td><td>Mozilla/5.0 (Windows NT 10.0; Win64; x64) AppleWebKit/537.36 (KHTML, like Gecko) Chrome/95.0.4638.54 Safari/537.36</td><td>List(Bitcoin, Ethereum (ERC20), 0xb9fc2fe63b2a6c003f1c324c3bfa53259162181a)</td><td>moderator</td></tr><tr><td>14</td><td>Charlotte</td><td>Lopez</td><td>Martinez</td><td>36</td><td>female</td><td>charlotte.lopez@x.dummyjson.com</td><td>+44 373-953-5028</td><td>charlottem</td><td>charlottempass</td><td>1988-6-8</td><td>https://dummyjson.com/icon/charlottem/128</td><td>AB-</td><td>178.92</td><td>82.46</td><td>Brown</td><td>List(Gray, Kinky)</td><td>119.103.95.60</td><td>List(208 Second Street, Columbus, List(-44.443762, -151.420561), United States, 42044, Ohio, OH)</td><td>f6:ff:37:aa:6c:f1</td><td>Northeastern University</td><td>List(02/27, 5675368650551956, Maestro, CNY, FKK6U634LGI3E7N517DLVVTL)</td><td>List(List(569 Jefferson Street, Los Angeles, List(-18.371256, 22.566258), United States, 17779, Montana, MT), Accounting, Zulauf and Sons, Chief Executive Officer)</td><td>364-782</td><td>255-491-479</td><td>Mozilla/5.0 (Windows NT 10.0; Win64; x64) AppleWebKit/537.36 (KHTML, like Gecko) Chrome/96.0.4664.45 Safari/537.36</td><td>List(Bitcoin, Ethereum (ERC20), 0xb9fc2fe63b2a6c003f1c324c3bfa53259162181a)</td><td>moderator</td></tr><tr><td>15</td><td>William</td><td>Gonzalez</td><td></td><td>32</td><td>male</td><td>william.gonzalez@x.dummyjson.com</td><td>+81 905-252-7319</td><td>williamg</td><td>williamgpass</td><td>1992-3-27</td><td>https://dummyjson.com/icon/williamg/128</td><td>B-</td><td>173.21</td><td>82.41</td><td>Hazel</td><td>List(Gray, Curly)</td><td>250.2.241.204</td><td>List(31 Maple Street, San Jose, List(8.152876, 113.29799), United States, 78243, Utah, UT)</td><td>f5:68:28:f9:ec:89</td><td>Tufts University</td><td>List(03/27, 6053000793215148, Mir, EUR, AR01SNDMKGECX0EYH7UCW61W)</td><td>List(List(1538 Eighth Street, San Jose, List(24.169361, -29.395167), United States, 29673, Missouri, MO), Marketing, Spinka - Dickinson, Software Architect)</td><td>830-515</td><td>690-544-755</td><td>Mozilla/5.0 (Macintosh; Intel Mac OS X 10_15_7) AppleWebKit/537.36 (KHTML, like Gecko) Chrome/96.0.4664.93 Safari/537.36</td><td>List(Bitcoin, Ethereum (ERC20), 0xb9fc2fe63b2a6c003f1c324c3bfa53259162181a)</td><td>moderator</td></tr><tr><td>17</td><td>Evelyn</td><td>Sanchez</td><td></td><td>37</td><td>female</td><td>evelyn.sanchez@x.dummyjson.com</td><td>+1 623-880-6871</td><td>evelyns</td><td>evelynspass</td><td>1987-10-13</td><td>https://dummyjson.com/icon/evelyns/128</td><td>B+</td><td>184.08</td><td>83.15</td><td>Violet</td><td>List(Blue, Curly)</td><td>87.114.135.146</td><td>List(1170 Lincoln Street, San Diego, List(-83.31484, 11.768071), United States, 43423, Wyoming, WY)</td><td>f8:e5:bd:43:bc:d8</td><td>Washington University in St. Louis</td><td>List(04/29, 4557521697420096, UnionPay, SEK, KN8XAPR2J5UB8AKDI1EVJ56R)</td><td>List(List(1802 Ninth Street, San Diego, List(29.034592, -78.004598), United States, 89416, Minnesota, MN), Support, Predovic - Johns, Chief Financial Officer)</td><td>604-817</td><td>689-332-644</td><td>Mozilla/5.0 (Macintosh; Intel Mac OS X 10_15_7) AppleWebKit/537.36 (KHTML, like Gecko) Chrome/96.0.4664.45 Safari/537.36</td><td>List(Bitcoin, Ethereum (ERC20), 0xb9fc2fe63b2a6c003f1c324c3bfa53259162181a)</td><td>user</td></tr><tr><td>18</td><td>Logan</td><td>Torres</td><td></td><td>31</td><td>male</td><td>logan.torres@x.dummyjson.com</td><td>+81 507-434-8733</td><td>logant</td><td>logantpass</td><td>1993-10-26</td><td>https://dummyjson.com/icon/logant/128</td><td>A+</td><td>190.04</td><td>72.43</td><td>Green</td><td>List(Green, Curly)</td><td>155.98.15.162</td><td>List(907 Seventh Street, Columbus, List(-64.846516, 174.775744), United States, 78805, Arkansas, AR)</td><td>40:d:5c:1:7d:bf</td><td>University of Illinois--Urbana-Champaign</td><td>List(05/26, 7884268130452098, UnionPay, NZD, HZM7V9PYHPZBN72IDFPXGN8Q)</td><td>List(List(947 Main Street, Denver, List(-24.654063, -147.255268), United States, 71896, Minnesota, MN), Training, Jast - Nader, Data Analyst)</td><td>576-218</td><td>806-639-934</td><td>Mozilla/5.0 (Macintosh; Intel Mac OS X 10_15_7) AppleWebKit/537.36 (KHTML, like Gecko) Chrome/96.0.4664.45 Safari/537.36</td><td>List(Bitcoin, Ethereum (ERC20), 0xb9fc2fe63b2a6c003f1c324c3bfa53259162181a)</td><td>user</td></tr><tr><td>20</td><td>Jackson</td><td>Evans</td><td></td><td>34</td><td>male</td><td>jackson.evans@x.dummyjson.com</td><td>+44 468-628-6686</td><td>jacksone</td><td>jacksonepass</td><td>1990-11-30</td><td>https://dummyjson.com/icon/jacksone/128</td><td>O-</td><td>162.57</td><td>74.37</td><td>Green</td><td>List(Red, Straight)</td><td>221.127.144.198</td><td>List(1873 Main Street, New York, List(34.722451, 63.448927), United States, 26600, Arkansas, AR)</td><td>81:14:1:97:88:85</td><td>Ohio State University</td><td>List(04/26, 2109192842527801, BC Card, EUR, TX26FO9B7YR2VHYDSJBE32AX)</td><td>List(List(1706 First Street, Chicago, List(-80.416937, -83.224516), United States, 34725, Hawaii, HI), Legal, Kuhlman LLC, Web Developer)</td><td>843-260</td><td>248-787-886</td><td>Mozilla/5.0 (Macintosh; Intel Mac OS X 10_15_7) AppleWebKit/537.36 (KHTML, like Gecko) Chrome/97.0.4692.99 Safari/537.36</td><td>List(Bitcoin, Ethereum (ERC20), 0xb9fc2fe63b2a6c003f1c324c3bfa53259162181a)</td><td>user</td></tr><tr><td>22</td><td>Elijah</td><td>Stewart</td><td></td><td>33</td><td>male</td><td>elijah.stewart@x.dummyjson.com</td><td>+44 468-357-7872</td><td>elijahs</td><td>elijahspass</td><td>1991-10-22</td><td>https://dummyjson.com/icon/elijahs/128</td><td>A-</td><td>195.33</td><td>81.64</td><td>Blue</td><td>List(Purple, Straight)</td><td>23.87.135.62</td><td>List(1701 Eighth Street, Columbus, List(-54.833799, -174.504027), United States, 31585, Illinois, IL)</td><td>75:17:c6:35:fc:6d</td><td>Georgetown University</td><td>List(05/27, 0798116671286564, JCB, GBP, E1XUHCC1N39WGU6XESSK1CAO)</td><td>List(List(155 Ninth Street, Washington, List(61.279254, -12.607767), United States, 19039, South Dakota, SD), Legal, Langworth Group, Business Analyst)</td><td>520-394</td><td>287-380-801</td><td>Mozilla/5.0 (Macintosh; Intel Mac OS X 10_15_7) AppleWebKit/537.36 (KHTML, like Gecko) Chrome/96.0.4664.93 Safari/537.36</td><td>List(Bitcoin, Ethereum (ERC20), 0xb9fc2fe63b2a6c003f1c324c3bfa53259162181a)</td><td>user</td></tr><tr><td>23</td><td>Chloe</td><td>Morales</td><td></td><td>39</td><td>female</td><td>chloe.morales@x.dummyjson.com</td><td>+92 468-541-7133</td><td>chloem</td><td>chloempass</td><td>1985-4-21</td><td>https://dummyjson.com/icon/chloem/128</td><td>O+</td><td>185.07</td><td>63.97</td><td>Brown</td><td>List(Red, Kinky)</td><td>66.78.20.21</td><td>List(401 Fourth Street, Dallas, List(-30.190759, -58.705979), United States, 54972, New Jersey, NJ)</td><td>fc:f:29:e1:37:b8</td><td>Syracuse University</td><td>List(05/28, 3150496938377346, American Express, PKR, P7YLGOOBWBD1SRWDWSFO3PZ0)</td><td>List(List(269 Third Street, Houston, List(40.098115, -1.762972), United States, 10385, North Carolina, NC), Sales, Grady LLC, Database Administrator)</td><td>913-597</td><td>938-883-163</td><td>Mozilla/5.0 (Windows NT 10.0; Win64; x64) AppleWebKit/537.36 (KHTML, like Gecko) Chrome/96.0.4664.93 Safari/537.36</td><td>List(Bitcoin, Ethereum (ERC20), 0xb9fc2fe63b2a6c003f1c324c3bfa53259162181a)</td><td>user</td></tr><tr><td>26</td><td>Evelyn</td><td>Gonzalez</td><td></td><td>35</td><td>female</td><td>evelyn.gonzalez@x.dummyjson.com</td><td>+61 708-508-4638</td><td>evelyng</td><td>evelyngpass</td><td>1989-2-5</td><td>https://dummyjson.com/icon/evelyng/128</td><td>O+</td><td>168.94</td><td>58.47</td><td>Red</td><td>List(Black, Wavy)</td><td>42.52.74.232</td><td>List(1065 Lincoln Street, Dallas, List(67.768359, 71.268643), United States, 84898, Maine, ME)</td><td>89:5e:5a:2a:72:42</td><td>Washington University in St. Louis</td><td>List(03/28, 9584313788145560, RuPay, INR, X4UPULQG61VIGA97USY7AAEB)</td><td>List(List(584 Ninth Street, Jacksonville, List(26.014021, 40.572436), United States, 45633, Wisconsin, WI), Accounting, Tromp, Gaylord and Weber, Project Manager)</td><td>569-275</td><td>487-680-127</td><td>Mozilla/5.0 (Windows NT 10.0; Win64; x64) AppleWebKit/537.36 (KHTML, like Gecko) Chrome/95.0.4638.54 Safari/537.36</td><td>List(Bitcoin, Ethereum (ERC20), 0xb9fc2fe63b2a6c003f1c324c3bfa53259162181a)</td><td>user</td></tr><tr><td>27</td><td>Daniel</td><td>Cook</td><td></td><td>41</td><td>male</td><td>daniel.cook@x.dummyjson.com</td><td>+44 254-761-6843</td><td>danielc</td><td>danielcpass</td><td>1983-12-25</td><td>https://dummyjson.com/icon/danielc/128</td><td>AB+</td><td>186.21</td><td>83.72</td><td>Brown</td><td>List(Blonde, Curly)</td><td>1.61.73.142</td><td>List(1163 Pine Street, Los Angeles, List(-3.456681, -134.937482), United States, 58781, Nevada, NV)</td><td>6e:73:dc:3a:85:10</td><td>Columbia University</td><td>List(01/26, 8452555751345228, Korean Express, NZD, A8DBPECO4X6D09WYOVT8UZK8)</td><td>List(List(938 Fifth Street, San Francisco, List(21.323588, -83.531427), United States, 45305, South Dakota, SD), Support, Morissette, Baumbach and Auer, Legal Counsel)</td><td>585-905</td><td>645-515-583</td><td>Mozilla/5.0 (Windows NT 10.0; Win64; x64; rv:97.0) Gecko/20100101 Firefox/97.0</td><td>List(Bitcoin, Ethereum (ERC20), 0xb9fc2fe63b2a6c003f1c324c3bfa53259162181a)</td><td>user</td></tr><tr><td>29</td><td>Henry</td><td>Hill</td><td></td><td>38</td><td>male</td><td>henry.hill@x.dummyjson.com</td><td>+1 240-833-4680</td><td>henryh</td><td>henryhpass</td><td>1986-8-19</td><td>https://dummyjson.com/icon/henryh/128</td><td>O-</td><td>180.25</td><td>95.84</td><td>Gray</td><td>List(Black, Straight)</td><td>194.43.55.202</td><td>List(1837 Maple Street, Indianapolis, List(35.498256, 154.088476), United States, 81783, Delaware, DE)</td><td>fa:c3:1b:21:5f:44</td><td>University of Illinois--Urbana-Champaign</td><td>List(02/26, 7262597174206766, Diners Club International, SEK, 7N3JP8KN9AUNXOWRQGAU2JX6)</td><td>List(List(1651 Lincoln Street, San Francisco, List(-59.936335, -12.405368), United States, 61805, West Virginia, WV), Services, Gerlach, Funk and Schoen, Sales Manager)</td><td>118-957</td><td>925-686-100</td><td>Mozilla/5.0 (Windows NT 10.0; Win64; x64) AppleWebKit/537.36 (KHTML, like Gecko) Chrome/96.0.4664.93 Safari/537.36</td><td>List(Bitcoin, Ethereum (ERC20), 0xb9fc2fe63b2a6c003f1c324c3bfa53259162181a)</td><td>user</td></tr><tr><td>30</td><td>Addison</td><td>Wright</td><td></td><td>32</td><td>female</td><td>addison.wright@x.dummyjson.com</td><td>+1 514-384-3300</td><td>addisonw</td><td>addisonwpass</td><td>1992-1-3</td><td>https://dummyjson.com/icon/addisonw/128</td><td>B+</td><td>179.32</td><td>76.93</td><td>Brown</td><td>List(Blonde, Straight)</td><td>11.35.69.81</td><td>List(568 Tenth Street, San Francisco, List(20.946052, 100.228822), United States, 54698, Montana, MT)</td><td>fb:0:94:21:16:c</td><td>Syracuse University</td><td>List(05/28, 3756638438861539, Carte Bancaire, JPY, OOPQTNZ74OLPKVT7TGB89UQL)</td><td>List(List(1173 Eighth Street, San Diego, List(65.324413, 87.142893), United States, 85777, Michigan, MI), Services, Kreiger Inc, Human Resources Manager)</td><td>415-286</td><td>804-492-390</td><td>Mozilla/5.0 (Macintosh; Intel Mac OS X 10_15_7) AppleWebKit/537.36 (KHTML, like Gecko) Chrome/96.0.4664.93 Safari/537.36</td><td>List(Bitcoin, Ethereum (ERC20), 0xb9fc2fe63b2a6c003f1c324c3bfa53259162181a)</td><td>user</td></tr></tbody></table></div>"
      ]
     },
     "metadata": {
      "application/vnd.databricks.v1+output": {
       "addedWidgets": {},
       "aggData": [],
       "aggError": "",
       "aggOverflow": false,
       "aggSchema": [],
       "aggSeriesLimitReached": false,
       "aggType": "",
       "arguments": {},
       "columnCustomDisplayInfos": {},
       "data": [
        [
         2,
         "Michael",
         "Williams",
         "",
         35,
         "male",
         "michael.williams@x.dummyjson.com",
         "+49 258-627-6644",
         "michaelw",
         "michaelwpass",
         "1989-8-10",
         "https://dummyjson.com/icon/michaelw/128",
         "B+",
         186.22,
         76.32,
         "Red",
         [
          "Green",
          "Straight"
         ],
         "12.13.116.142",
         [
          "385 Fifth Street",
          "Houston",
          [
           22.815468,
           115.608581
          ],
          "United States",
          "38807",
          "Alabama",
          "AL"
         ],
         "79:15:78:99:60:aa",
         "Ohio State University",
         [
          "02/27",
          "6737807858721625",
          "Elo",
          "SEK",
          "83IDT77FWYLCJVR8ISDACFH0"
         ],
         [
          [
           "395 Main Street",
           "Los Angeles",
           [
            79.098326,
            -119.624845
           ],
           "United States",
           "73442",
           "New Hampshire",
           "NH"
          ],
          "Support",
          "Spinka - Dickinson",
          "Support Specialist"
         ],
         "912-602",
         "108-953-962",
         "Mozilla/5.0 (Windows NT 10.0; Win64; x64) AppleWebKit/537.36 (KHTML, like Gecko) Edge/97.0.1072.76 Safari/537.36",
         [
          "Bitcoin",
          "Ethereum (ERC20)",
          "0xb9fc2fe63b2a6c003f1c324c3bfa53259162181a"
         ],
         "admin"
        ],
        [
         3,
         "Sophia",
         "Brown",
         "",
         42,
         "female",
         "sophia.brown@x.dummyjson.com",
         "+81 210-652-2785",
         "sophiab",
         "sophiabpass",
         "1982-11-6",
         "https://dummyjson.com/icon/sophiab/128",
         "O-",
         177.72,
         52.6,
         "Hazel",
         [
          "White",
          "Wavy"
         ],
         "214.225.51.195",
         [
          "1642 Ninth Street",
          "Washington",
          [
           45.289366,
           46.832664
          ],
          "United States",
          "32822",
          "Alabama",
          "AL"
         ],
         "12:a3:d3:6f:5c:5b",
         "Pepperdine University",
         [
          "04/25",
          "7795895470082859",
          "Korean Express",
          "SEK",
          "90XYKT83LMM7AARZ8JN958JC"
         ],
         [
          [
           "1896 Washington Street",
           "Dallas",
           [
            20.086743,
            -34.577107
           ],
           "United States",
           "88511",
           "Nevada",
           "NV"
          ],
          "Research and Development",
          "Schiller - Zieme",
          "Accountant"
         ],
         "963-113",
         "638-461-822",
         "Mozilla/5.0 (Windows NT 10.0; Win64; x64) AppleWebKit/537.36 (KHTML, like Gecko) Chrome/96.0.4664.45 Safari/537.36",
         [
          "Bitcoin",
          "Ethereum (ERC20)",
          "0xb9fc2fe63b2a6c003f1c324c3bfa53259162181a"
         ],
         "admin"
        ],
        [
         4,
         "James",
         "Davis",
         "",
         45,
         "male",
         "james.davis@x.dummyjson.com",
         "+49 614-958-9364",
         "jamesd",
         "jamesdpass",
         "1979-5-4",
         "https://dummyjson.com/icon/jamesd/128",
         "AB+",
         193.31,
         62.1,
         "Amber",
         [
          "Blonde",
          "Straight"
         ],
         "101.118.131.66",
         [
          "238 Jefferson Street",
          "Seattle",
          [
           16.782513,
           -139.34723
          ],
          "United States",
          "68354",
          "Pennsylvania",
          "PA"
         ],
         "10:7d:df:1f:97:58",
         "University of Southern California",
         [
          "05/29",
          "5005519846254763",
          "Mastercard",
          "INR",
          "7N7ZH1PJ8Q4WU1K965HQQR27"
         ],
         [
          [
           "1622 Lincoln Street",
           "Fort Worth",
           [
            54.91193,
            -79.498328
           ],
           "United States",
           "27768",
           "Pennsylvania",
           "PA"
          ],
          "Support",
          "Pagac and Sons",
          "Research Analyst"
         ],
         "904-810",
         "116-951-314",
         "Mozilla/5.0 (Macintosh; Intel Mac OS X 10_15_7) AppleWebKit/537.36 (KHTML, like Gecko) Chrome/97.0.4692.99 Safari/537.36",
         [
          "Bitcoin",
          "Ethereum (ERC20)",
          "0xb9fc2fe63b2a6c003f1c324c3bfa53259162181a"
         ],
         "admin"
        ],
        [
         7,
         "Alexander",
         "Jones",
         "",
         38,
         "male",
         "alexander.jones@x.dummyjson.com",
         "+61 260-824-4986",
         "alexanderj",
         "alexanderjpass",
         "1986-10-20",
         "https://dummyjson.com/icon/alexanderj/128",
         "AB-",
         153.89,
         77.42,
         "Blue",
         [
          "White",
          "Straight"
         ],
         "166.204.84.32",
         [
          "664 Maple Street",
          "Indianapolis",
          [
           35.289664,
           7.063255
          ],
          "United States",
          "86684",
          "Delaware",
          "DE"
         ],
         "d2:64:58:2d:1c:46",
         "University of Illinois--Urbana-Champaign",
         [
          "05/25",
          "7344951706130140",
          "JCB",
          "EUR",
          "49V4GVDVMP0MHIDD4VXMQ3A2"
         ],
         [
          [
           "996 Eighth Street",
           "Washington",
           [
            -75.462366,
            -128.025697
           ],
           "United States",
           "27858",
           "Kansas",
           "KS"
          ],
          "Engineering",
          "Dickens - Beahan",
          "Web Developer"
         ],
         "638-127",
         "722-993-925",
         "Mozilla/5.0 (Macintosh; Intel Mac OS X 10_15_7) AppleWebKit/537.36 (KHTML, like Gecko) Chrome/95.0.4638.69 Safari/537.36",
         [
          "Bitcoin",
          "Ethereum (ERC20)",
          "0xb9fc2fe63b2a6c003f1c324c3bfa53259162181a"
         ],
         "moderator"
        ],
        [
         9,
         "Ethan",
         "Martinez",
         "",
         33,
         "male",
         "ethan.martinez@x.dummyjson.com",
         "+92 933-608-5081",
         "ethanm",
         "ethanmpass",
         "1991-2-12",
         "https://dummyjson.com/icon/ethanm/128",
         "AB+",
         159.19,
         68.81,
         "Hazel",
         [
          "Purple",
          "Curly"
         ],
         "63.191.127.71",
         [
          "466 Pine Street",
          "San Antonio",
          [
           74.074918,
           -25.312703
          ],
          "United States",
          "72360",
          "Louisiana",
          "LA"
         ],
         "59:e:9e:e3:29:da",
         "Syracuse University",
         [
          "02/25",
          "7183482484317509",
          "Visa",
          "CAD",
          "CW5U5KS23U7JYD22TVQL7SIH"
         ],
         [
          [
           "1597 Oak Street",
           "Chicago",
           [
            -67.45208,
            -23.209886
           ],
           "United States",
           "28100",
           "Florida",
           "FL"
          ],
          "Support",
          "Gorczany - Gottlieb",
          "Legal Counsel"
         ],
         "790-434",
         "569-650-348",
         "Mozilla/5.0 (Windows NT 10.0; Win64; x64) AppleWebKit/537.36 (KHTML, like Gecko) Chrome/95.0.4638.69 Safari/537.36",
         [
          "Bitcoin",
          "Ethereum (ERC20)",
          "0xb9fc2fe63b2a6c003f1c324c3bfa53259162181a"
         ],
         "moderator"
        ],
        [
         10,
         "Isabella",
         "Anderson",
         "Davis",
         31,
         "female",
         "isabella.anderson@x.dummyjson.com",
         "+49 770-658-4885",
         "isabellad",
         "isabelladpass",
         "1993-6-10",
         "https://dummyjson.com/icon/isabellad/128",
         "A-",
         150.56,
         50.1,
         "Brown",
         [
          "Blonde",
          "Curly"
         ],
         "114.9.114.205",
         [
          "1964 Oak Street",
          "New York",
          [
           41.331324,
           151.782727
          ],
          "United States",
          "89352",
          "Utah",
          "UT"
         ],
         "b1:b0:d0:a2:82:80",
         "California Institute of Technology (Caltech)",
         [
          "05/27",
          "6118714010128731",
          "NPS",
          "CNY",
          "GBZRGDMKUOTO34HBCI7A986J"
         ],
         [
          [
           "1029 Adams Street",
           "San Diego",
           [
            -25.843393,
            -62.692681
           ],
           "United States",
           "63847",
           "Maryland",
           "MD"
          ],
          "Marketing",
          "Pollich - Hilpert",
          "Chief Financial Officer"
         ],
         "127-297",
         "902-438-728",
         "Mozilla/5.0 (Macintosh; Intel Mac OS X 10_15_7) AppleWebKit/537.36 (KHTML, like Gecko) Chrome/96.0.4664.93 Safari/537.36",
         [
          "Bitcoin",
          "Ethereum (ERC20)",
          "0xb9fc2fe63b2a6c003f1c324c3bfa53259162181a"
         ],
         "moderator"
        ],
        [
         13,
         "Noah",
         "Hernandez",
         "",
         40,
         "male",
         "noah.hernandez@x.dummyjson.com",
         "+49 393-605-6968",
         "noahh",
         "noahhpass",
         "1984-6-5",
         "https://dummyjson.com/icon/noahh/128",
         "AB+",
         188.62,
         69.49,
         "Brown",
         [
          "Red",
          "Curly"
         ],
         "169.154.126.57",
         [
          "1413 Maple Street",
          "New York",
          [
           -25.0377,
           -151.70469
          ],
          "United States",
          "73696",
          "North Dakota",
          "ND"
         ],
         "d4:fe:ae:8f:eb:a3",
         "New York University (NYU)",
         [
          "05/26",
          "1681772579326385",
          "Discover",
          "SEK",
          "G4UIZKIQVPJM9D31XQVR1E9Z"
         ],
         [
          [
           "62 Third Street",
           "Seattle",
           [
            19.490447,
            -13.173207
           ],
           "United States",
           "83474",
           "Oregon",
           "OR"
          ],
          "Engineering",
          "Botsford, Marquardt and Roberts",
          "Database Administrator"
         ],
         "877-628",
         "660-847-389",
         "Mozilla/5.0 (Windows NT 10.0; Win64; x64) AppleWebKit/537.36 (KHTML, like Gecko) Chrome/95.0.4638.54 Safari/537.36",
         [
          "Bitcoin",
          "Ethereum (ERC20)",
          "0xb9fc2fe63b2a6c003f1c324c3bfa53259162181a"
         ],
         "moderator"
        ],
        [
         14,
         "Charlotte",
         "Lopez",
         "Martinez",
         36,
         "female",
         "charlotte.lopez@x.dummyjson.com",
         "+44 373-953-5028",
         "charlottem",
         "charlottempass",
         "1988-6-8",
         "https://dummyjson.com/icon/charlottem/128",
         "AB-",
         178.92,
         82.46,
         "Brown",
         [
          "Gray",
          "Kinky"
         ],
         "119.103.95.60",
         [
          "208 Second Street",
          "Columbus",
          [
           -44.443762,
           -151.420561
          ],
          "United States",
          "42044",
          "Ohio",
          "OH"
         ],
         "f6:ff:37:aa:6c:f1",
         "Northeastern University",
         [
          "02/27",
          "5675368650551956",
          "Maestro",
          "CNY",
          "FKK6U634LGI3E7N517DLVVTL"
         ],
         [
          [
           "569 Jefferson Street",
           "Los Angeles",
           [
            -18.371256,
            22.566258
           ],
           "United States",
           "17779",
           "Montana",
           "MT"
          ],
          "Accounting",
          "Zulauf and Sons",
          "Chief Executive Officer"
         ],
         "364-782",
         "255-491-479",
         "Mozilla/5.0 (Windows NT 10.0; Win64; x64) AppleWebKit/537.36 (KHTML, like Gecko) Chrome/96.0.4664.45 Safari/537.36",
         [
          "Bitcoin",
          "Ethereum (ERC20)",
          "0xb9fc2fe63b2a6c003f1c324c3bfa53259162181a"
         ],
         "moderator"
        ],
        [
         15,
         "William",
         "Gonzalez",
         "",
         32,
         "male",
         "william.gonzalez@x.dummyjson.com",
         "+81 905-252-7319",
         "williamg",
         "williamgpass",
         "1992-3-27",
         "https://dummyjson.com/icon/williamg/128",
         "B-",
         173.21,
         82.41,
         "Hazel",
         [
          "Gray",
          "Curly"
         ],
         "250.2.241.204",
         [
          "31 Maple Street",
          "San Jose",
          [
           8.152876,
           113.29799
          ],
          "United States",
          "78243",
          "Utah",
          "UT"
         ],
         "f5:68:28:f9:ec:89",
         "Tufts University",
         [
          "03/27",
          "6053000793215148",
          "Mir",
          "EUR",
          "AR01SNDMKGECX0EYH7UCW61W"
         ],
         [
          [
           "1538 Eighth Street",
           "San Jose",
           [
            24.169361,
            -29.395167
           ],
           "United States",
           "29673",
           "Missouri",
           "MO"
          ],
          "Marketing",
          "Spinka - Dickinson",
          "Software Architect"
         ],
         "830-515",
         "690-544-755",
         "Mozilla/5.0 (Macintosh; Intel Mac OS X 10_15_7) AppleWebKit/537.36 (KHTML, like Gecko) Chrome/96.0.4664.93 Safari/537.36",
         [
          "Bitcoin",
          "Ethereum (ERC20)",
          "0xb9fc2fe63b2a6c003f1c324c3bfa53259162181a"
         ],
         "moderator"
        ],
        [
         17,
         "Evelyn",
         "Sanchez",
         "",
         37,
         "female",
         "evelyn.sanchez@x.dummyjson.com",
         "+1 623-880-6871",
         "evelyns",
         "evelynspass",
         "1987-10-13",
         "https://dummyjson.com/icon/evelyns/128",
         "B+",
         184.08,
         83.15,
         "Violet",
         [
          "Blue",
          "Curly"
         ],
         "87.114.135.146",
         [
          "1170 Lincoln Street",
          "San Diego",
          [
           -83.31484,
           11.768071
          ],
          "United States",
          "43423",
          "Wyoming",
          "WY"
         ],
         "f8:e5:bd:43:bc:d8",
         "Washington University in St. Louis",
         [
          "04/29",
          "4557521697420096",
          "UnionPay",
          "SEK",
          "KN8XAPR2J5UB8AKDI1EVJ56R"
         ],
         [
          [
           "1802 Ninth Street",
           "San Diego",
           [
            29.034592,
            -78.004598
           ],
           "United States",
           "89416",
           "Minnesota",
           "MN"
          ],
          "Support",
          "Predovic - Johns",
          "Chief Financial Officer"
         ],
         "604-817",
         "689-332-644",
         "Mozilla/5.0 (Macintosh; Intel Mac OS X 10_15_7) AppleWebKit/537.36 (KHTML, like Gecko) Chrome/96.0.4664.45 Safari/537.36",
         [
          "Bitcoin",
          "Ethereum (ERC20)",
          "0xb9fc2fe63b2a6c003f1c324c3bfa53259162181a"
         ],
         "user"
        ],
        [
         18,
         "Logan",
         "Torres",
         "",
         31,
         "male",
         "logan.torres@x.dummyjson.com",
         "+81 507-434-8733",
         "logant",
         "logantpass",
         "1993-10-26",
         "https://dummyjson.com/icon/logant/128",
         "A+",
         190.04,
         72.43,
         "Green",
         [
          "Green",
          "Curly"
         ],
         "155.98.15.162",
         [
          "907 Seventh Street",
          "Columbus",
          [
           -64.846516,
           174.775744
          ],
          "United States",
          "78805",
          "Arkansas",
          "AR"
         ],
         "40:d:5c:1:7d:bf",
         "University of Illinois--Urbana-Champaign",
         [
          "05/26",
          "7884268130452098",
          "UnionPay",
          "NZD",
          "HZM7V9PYHPZBN72IDFPXGN8Q"
         ],
         [
          [
           "947 Main Street",
           "Denver",
           [
            -24.654063,
            -147.255268
           ],
           "United States",
           "71896",
           "Minnesota",
           "MN"
          ],
          "Training",
          "Jast - Nader",
          "Data Analyst"
         ],
         "576-218",
         "806-639-934",
         "Mozilla/5.0 (Macintosh; Intel Mac OS X 10_15_7) AppleWebKit/537.36 (KHTML, like Gecko) Chrome/96.0.4664.45 Safari/537.36",
         [
          "Bitcoin",
          "Ethereum (ERC20)",
          "0xb9fc2fe63b2a6c003f1c324c3bfa53259162181a"
         ],
         "user"
        ],
        [
         20,
         "Jackson",
         "Evans",
         "",
         34,
         "male",
         "jackson.evans@x.dummyjson.com",
         "+44 468-628-6686",
         "jacksone",
         "jacksonepass",
         "1990-11-30",
         "https://dummyjson.com/icon/jacksone/128",
         "O-",
         162.57,
         74.37,
         "Green",
         [
          "Red",
          "Straight"
         ],
         "221.127.144.198",
         [
          "1873 Main Street",
          "New York",
          [
           34.722451,
           63.448927
          ],
          "United States",
          "26600",
          "Arkansas",
          "AR"
         ],
         "81:14:1:97:88:85",
         "Ohio State University",
         [
          "04/26",
          "2109192842527801",
          "BC Card",
          "EUR",
          "TX26FO9B7YR2VHYDSJBE32AX"
         ],
         [
          [
           "1706 First Street",
           "Chicago",
           [
            -80.416937,
            -83.224516
           ],
           "United States",
           "34725",
           "Hawaii",
           "HI"
          ],
          "Legal",
          "Kuhlman LLC",
          "Web Developer"
         ],
         "843-260",
         "248-787-886",
         "Mozilla/5.0 (Macintosh; Intel Mac OS X 10_15_7) AppleWebKit/537.36 (KHTML, like Gecko) Chrome/97.0.4692.99 Safari/537.36",
         [
          "Bitcoin",
          "Ethereum (ERC20)",
          "0xb9fc2fe63b2a6c003f1c324c3bfa53259162181a"
         ],
         "user"
        ],
        [
         22,
         "Elijah",
         "Stewart",
         "",
         33,
         "male",
         "elijah.stewart@x.dummyjson.com",
         "+44 468-357-7872",
         "elijahs",
         "elijahspass",
         "1991-10-22",
         "https://dummyjson.com/icon/elijahs/128",
         "A-",
         195.33,
         81.64,
         "Blue",
         [
          "Purple",
          "Straight"
         ],
         "23.87.135.62",
         [
          "1701 Eighth Street",
          "Columbus",
          [
           -54.833799,
           -174.504027
          ],
          "United States",
          "31585",
          "Illinois",
          "IL"
         ],
         "75:17:c6:35:fc:6d",
         "Georgetown University",
         [
          "05/27",
          "0798116671286564",
          "JCB",
          "GBP",
          "E1XUHCC1N39WGU6XESSK1CAO"
         ],
         [
          [
           "155 Ninth Street",
           "Washington",
           [
            61.279254,
            -12.607767
           ],
           "United States",
           "19039",
           "South Dakota",
           "SD"
          ],
          "Legal",
          "Langworth Group",
          "Business Analyst"
         ],
         "520-394",
         "287-380-801",
         "Mozilla/5.0 (Macintosh; Intel Mac OS X 10_15_7) AppleWebKit/537.36 (KHTML, like Gecko) Chrome/96.0.4664.93 Safari/537.36",
         [
          "Bitcoin",
          "Ethereum (ERC20)",
          "0xb9fc2fe63b2a6c003f1c324c3bfa53259162181a"
         ],
         "user"
        ],
        [
         23,
         "Chloe",
         "Morales",
         "",
         39,
         "female",
         "chloe.morales@x.dummyjson.com",
         "+92 468-541-7133",
         "chloem",
         "chloempass",
         "1985-4-21",
         "https://dummyjson.com/icon/chloem/128",
         "O+",
         185.07,
         63.97,
         "Brown",
         [
          "Red",
          "Kinky"
         ],
         "66.78.20.21",
         [
          "401 Fourth Street",
          "Dallas",
          [
           -30.190759,
           -58.705979
          ],
          "United States",
          "54972",
          "New Jersey",
          "NJ"
         ],
         "fc:f:29:e1:37:b8",
         "Syracuse University",
         [
          "05/28",
          "3150496938377346",
          "American Express",
          "PKR",
          "P7YLGOOBWBD1SRWDWSFO3PZ0"
         ],
         [
          [
           "269 Third Street",
           "Houston",
           [
            40.098115,
            -1.762972
           ],
           "United States",
           "10385",
           "North Carolina",
           "NC"
          ],
          "Sales",
          "Grady LLC",
          "Database Administrator"
         ],
         "913-597",
         "938-883-163",
         "Mozilla/5.0 (Windows NT 10.0; Win64; x64) AppleWebKit/537.36 (KHTML, like Gecko) Chrome/96.0.4664.93 Safari/537.36",
         [
          "Bitcoin",
          "Ethereum (ERC20)",
          "0xb9fc2fe63b2a6c003f1c324c3bfa53259162181a"
         ],
         "user"
        ],
        [
         26,
         "Evelyn",
         "Gonzalez",
         "",
         35,
         "female",
         "evelyn.gonzalez@x.dummyjson.com",
         "+61 708-508-4638",
         "evelyng",
         "evelyngpass",
         "1989-2-5",
         "https://dummyjson.com/icon/evelyng/128",
         "O+",
         168.94,
         58.47,
         "Red",
         [
          "Black",
          "Wavy"
         ],
         "42.52.74.232",
         [
          "1065 Lincoln Street",
          "Dallas",
          [
           67.768359,
           71.268643
          ],
          "United States",
          "84898",
          "Maine",
          "ME"
         ],
         "89:5e:5a:2a:72:42",
         "Washington University in St. Louis",
         [
          "03/28",
          "9584313788145560",
          "RuPay",
          "INR",
          "X4UPULQG61VIGA97USY7AAEB"
         ],
         [
          [
           "584 Ninth Street",
           "Jacksonville",
           [
            26.014021,
            40.572436
           ],
           "United States",
           "45633",
           "Wisconsin",
           "WI"
          ],
          "Accounting",
          "Tromp, Gaylord and Weber",
          "Project Manager"
         ],
         "569-275",
         "487-680-127",
         "Mozilla/5.0 (Windows NT 10.0; Win64; x64) AppleWebKit/537.36 (KHTML, like Gecko) Chrome/95.0.4638.54 Safari/537.36",
         [
          "Bitcoin",
          "Ethereum (ERC20)",
          "0xb9fc2fe63b2a6c003f1c324c3bfa53259162181a"
         ],
         "user"
        ],
        [
         27,
         "Daniel",
         "Cook",
         "",
         41,
         "male",
         "daniel.cook@x.dummyjson.com",
         "+44 254-761-6843",
         "danielc",
         "danielcpass",
         "1983-12-25",
         "https://dummyjson.com/icon/danielc/128",
         "AB+",
         186.21,
         83.72,
         "Brown",
         [
          "Blonde",
          "Curly"
         ],
         "1.61.73.142",
         [
          "1163 Pine Street",
          "Los Angeles",
          [
           -3.456681,
           -134.937482
          ],
          "United States",
          "58781",
          "Nevada",
          "NV"
         ],
         "6e:73:dc:3a:85:10",
         "Columbia University",
         [
          "01/26",
          "8452555751345228",
          "Korean Express",
          "NZD",
          "A8DBPECO4X6D09WYOVT8UZK8"
         ],
         [
          [
           "938 Fifth Street",
           "San Francisco",
           [
            21.323588,
            -83.531427
           ],
           "United States",
           "45305",
           "South Dakota",
           "SD"
          ],
          "Support",
          "Morissette, Baumbach and Auer",
          "Legal Counsel"
         ],
         "585-905",
         "645-515-583",
         "Mozilla/5.0 (Windows NT 10.0; Win64; x64; rv:97.0) Gecko/20100101 Firefox/97.0",
         [
          "Bitcoin",
          "Ethereum (ERC20)",
          "0xb9fc2fe63b2a6c003f1c324c3bfa53259162181a"
         ],
         "user"
        ],
        [
         29,
         "Henry",
         "Hill",
         "",
         38,
         "male",
         "henry.hill@x.dummyjson.com",
         "+1 240-833-4680",
         "henryh",
         "henryhpass",
         "1986-8-19",
         "https://dummyjson.com/icon/henryh/128",
         "O-",
         180.25,
         95.84,
         "Gray",
         [
          "Black",
          "Straight"
         ],
         "194.43.55.202",
         [
          "1837 Maple Street",
          "Indianapolis",
          [
           35.498256,
           154.088476
          ],
          "United States",
          "81783",
          "Delaware",
          "DE"
         ],
         "fa:c3:1b:21:5f:44",
         "University of Illinois--Urbana-Champaign",
         [
          "02/26",
          "7262597174206766",
          "Diners Club International",
          "SEK",
          "7N3JP8KN9AUNXOWRQGAU2JX6"
         ],
         [
          [
           "1651 Lincoln Street",
           "San Francisco",
           [
            -59.936335,
            -12.405368
           ],
           "United States",
           "61805",
           "West Virginia",
           "WV"
          ],
          "Services",
          "Gerlach, Funk and Schoen",
          "Sales Manager"
         ],
         "118-957",
         "925-686-100",
         "Mozilla/5.0 (Windows NT 10.0; Win64; x64) AppleWebKit/537.36 (KHTML, like Gecko) Chrome/96.0.4664.93 Safari/537.36",
         [
          "Bitcoin",
          "Ethereum (ERC20)",
          "0xb9fc2fe63b2a6c003f1c324c3bfa53259162181a"
         ],
         "user"
        ],
        [
         30,
         "Addison",
         "Wright",
         "",
         32,
         "female",
         "addison.wright@x.dummyjson.com",
         "+1 514-384-3300",
         "addisonw",
         "addisonwpass",
         "1992-1-3",
         "https://dummyjson.com/icon/addisonw/128",
         "B+",
         179.32,
         76.93,
         "Brown",
         [
          "Blonde",
          "Straight"
         ],
         "11.35.69.81",
         [
          "568 Tenth Street",
          "San Francisco",
          [
           20.946052,
           100.228822
          ],
          "United States",
          "54698",
          "Montana",
          "MT"
         ],
         "fb:0:94:21:16:c",
         "Syracuse University",
         [
          "05/28",
          "3756638438861539",
          "Carte Bancaire",
          "JPY",
          "OOPQTNZ74OLPKVT7TGB89UQL"
         ],
         [
          [
           "1173 Eighth Street",
           "San Diego",
           [
            65.324413,
            87.142893
           ],
           "United States",
           "85777",
           "Michigan",
           "MI"
          ],
          "Services",
          "Kreiger Inc",
          "Human Resources Manager"
         ],
         "415-286",
         "804-492-390",
         "Mozilla/5.0 (Macintosh; Intel Mac OS X 10_15_7) AppleWebKit/537.36 (KHTML, like Gecko) Chrome/96.0.4664.93 Safari/537.36",
         [
          "Bitcoin",
          "Ethereum (ERC20)",
          "0xb9fc2fe63b2a6c003f1c324c3bfa53259162181a"
         ],
         "user"
        ]
       ],
       "datasetInfos": [],
       "dbfsResultPath": null,
       "isJsonSchema": true,
       "metadata": {},
       "overflow": false,
       "plotOptions": {
        "customPlotOptions": {},
        "displayType": "table",
        "pivotAggregation": null,
        "pivotColumns": null,
        "xColumns": null,
        "yColumns": null
       },
       "removedWidgets": [],
       "schema": [
        {
         "metadata": "{}",
         "name": "id",
         "type": "\"long\""
        },
        {
         "metadata": "{}",
         "name": "firstName",
         "type": "\"string\""
        },
        {
         "metadata": "{}",
         "name": "lastName",
         "type": "\"string\""
        },
        {
         "metadata": "{}",
         "name": "maidenName",
         "type": "\"string\""
        },
        {
         "metadata": "{}",
         "name": "age",
         "type": "\"long\""
        },
        {
         "metadata": "{}",
         "name": "gender",
         "type": "\"string\""
        },
        {
         "metadata": "{}",
         "name": "email",
         "type": "\"string\""
        },
        {
         "metadata": "{}",
         "name": "phone",
         "type": "\"string\""
        },
        {
         "metadata": "{}",
         "name": "username",
         "type": "\"string\""
        },
        {
         "metadata": "{}",
         "name": "password",
         "type": "\"string\""
        },
        {
         "metadata": "{}",
         "name": "birthDate",
         "type": "\"string\""
        },
        {
         "metadata": "{}",
         "name": "image",
         "type": "\"string\""
        },
        {
         "metadata": "{}",
         "name": "bloodGroup",
         "type": "\"string\""
        },
        {
         "metadata": "{}",
         "name": "height",
         "type": "\"double\""
        },
        {
         "metadata": "{}",
         "name": "weight",
         "type": "\"double\""
        },
        {
         "metadata": "{}",
         "name": "eyeColor",
         "type": "\"string\""
        },
        {
         "metadata": "{}",
         "name": "hair",
         "type": "{\"type\":\"struct\",\"fields\":[{\"name\":\"color\",\"type\":\"string\",\"nullable\":true,\"metadata\":{}},{\"name\":\"type\",\"type\":\"string\",\"nullable\":true,\"metadata\":{}}]}"
        },
        {
         "metadata": "{}",
         "name": "ip",
         "type": "\"string\""
        },
        {
         "metadata": "{}",
         "name": "address",
         "type": "{\"type\":\"struct\",\"fields\":[{\"name\":\"address\",\"type\":\"string\",\"nullable\":true,\"metadata\":{}},{\"name\":\"city\",\"type\":\"string\",\"nullable\":true,\"metadata\":{}},{\"name\":\"coordinates\",\"type\":{\"type\":\"struct\",\"fields\":[{\"name\":\"lat\",\"type\":\"double\",\"nullable\":true,\"metadata\":{}},{\"name\":\"lng\",\"type\":\"double\",\"nullable\":true,\"metadata\":{}}]},\"nullable\":true,\"metadata\":{}},{\"name\":\"country\",\"type\":\"string\",\"nullable\":true,\"metadata\":{}},{\"name\":\"postalCode\",\"type\":\"string\",\"nullable\":true,\"metadata\":{}},{\"name\":\"state\",\"type\":\"string\",\"nullable\":true,\"metadata\":{}},{\"name\":\"stateCode\",\"type\":\"string\",\"nullable\":true,\"metadata\":{}}]}"
        },
        {
         "metadata": "{}",
         "name": "macAddress",
         "type": "\"string\""
        },
        {
         "metadata": "{}",
         "name": "university",
         "type": "\"string\""
        },
        {
         "metadata": "{}",
         "name": "bank",
         "type": "{\"type\":\"struct\",\"fields\":[{\"name\":\"cardExpire\",\"type\":\"string\",\"nullable\":true,\"metadata\":{}},{\"name\":\"cardNumber\",\"type\":\"string\",\"nullable\":true,\"metadata\":{}},{\"name\":\"cardType\",\"type\":\"string\",\"nullable\":true,\"metadata\":{}},{\"name\":\"currency\",\"type\":\"string\",\"nullable\":true,\"metadata\":{}},{\"name\":\"iban\",\"type\":\"string\",\"nullable\":true,\"metadata\":{}}]}"
        },
        {
         "metadata": "{}",
         "name": "company",
         "type": "{\"type\":\"struct\",\"fields\":[{\"name\":\"address\",\"type\":{\"type\":\"struct\",\"fields\":[{\"name\":\"address\",\"type\":\"string\",\"nullable\":true,\"metadata\":{}},{\"name\":\"city\",\"type\":\"string\",\"nullable\":true,\"metadata\":{}},{\"name\":\"coordinates\",\"type\":{\"type\":\"struct\",\"fields\":[{\"name\":\"lat\",\"type\":\"double\",\"nullable\":true,\"metadata\":{}},{\"name\":\"lng\",\"type\":\"double\",\"nullable\":true,\"metadata\":{}}]},\"nullable\":true,\"metadata\":{}},{\"name\":\"country\",\"type\":\"string\",\"nullable\":true,\"metadata\":{}},{\"name\":\"postalCode\",\"type\":\"string\",\"nullable\":true,\"metadata\":{}},{\"name\":\"state\",\"type\":\"string\",\"nullable\":true,\"metadata\":{}},{\"name\":\"stateCode\",\"type\":\"string\",\"nullable\":true,\"metadata\":{}}]},\"nullable\":true,\"metadata\":{}},{\"name\":\"department\",\"type\":\"string\",\"nullable\":true,\"metadata\":{}},{\"name\":\"name\",\"type\":\"string\",\"nullable\":true,\"metadata\":{}},{\"name\":\"title\",\"type\":\"string\",\"nullable\":true,\"metadata\":{}}]}"
        },
        {
         "metadata": "{}",
         "name": "ein",
         "type": "\"string\""
        },
        {
         "metadata": "{}",
         "name": "ssn",
         "type": "\"string\""
        },
        {
         "metadata": "{}",
         "name": "userAgent",
         "type": "\"string\""
        },
        {
         "metadata": "{}",
         "name": "crypto",
         "type": "{\"type\":\"struct\",\"fields\":[{\"name\":\"coin\",\"type\":\"string\",\"nullable\":true,\"metadata\":{}},{\"name\":\"network\",\"type\":\"string\",\"nullable\":true,\"metadata\":{}},{\"name\":\"wallet\",\"type\":\"string\",\"nullable\":true,\"metadata\":{}}]}"
        },
        {
         "metadata": "{}",
         "name": "role",
         "type": "\"string\""
        }
       ],
       "type": "table"
      }
     },
     "output_type": "display_data"
    }
   ],
   "source": [
    "# Filter users older than 30\n",
    "df_filtered = df.filter(df.age > 30)\n",
    "display(df_filtered)\n"
   ]
  },
  {
   "cell_type": "code",
   "execution_count": 0,
   "metadata": {
    "application/vnd.databricks.v1+cell": {
     "cellMetadata": {
      "byteLimit": 2048000,
      "rowLimit": 10000
     },
     "inputWidgets": {},
     "nuid": "ef6125fc-a902-4567-b7ec-745b731afb5f",
     "showTitle": false,
     "tableResultSettingsMap": {},
     "title": ""
    }
   },
   "outputs": [
    {
     "data": {
      "text/html": [
       "<style scoped>\n",
       "  .table-result-container {\n",
       "    max-height: 300px;\n",
       "    overflow: auto;\n",
       "  }\n",
       "  table, th, td {\n",
       "    border: 1px solid black;\n",
       "    border-collapse: collapse;\n",
       "  }\n",
       "  th, td {\n",
       "    padding: 5px;\n",
       "  }\n",
       "  th {\n",
       "    text-align: left;\n",
       "  }\n",
       "</style><div class='table-result-container'><table class='table-result'><thead style='background-color: white'><tr><th>id</th><th>firstName</th><th>lastName</th><th>maidenName</th><th>age</th><th>gender</th><th>email</th><th>phone</th><th>username</th><th>password</th><th>birthDate</th><th>image</th><th>bloodGroup</th><th>height</th><th>weight</th><th>eyeColor</th><th>hair</th><th>ip</th><th>address</th><th>macAddress</th><th>university</th><th>bank</th><th>company</th><th>ein</th><th>ssn</th><th>userAgent</th><th>crypto</th><th>role</th><th>birthYear</th></tr></thead><tbody><tr><td>1</td><td>Emily</td><td>Johnson</td><td>Smith</td><td>28</td><td>female</td><td>emily.johnson@x.dummyjson.com</td><td>+81 965-431-3024</td><td>emilys</td><td>emilyspass</td><td>1996-5-30</td><td>https://dummyjson.com/icon/emilys/128</td><td>O-</td><td>193.24</td><td>63.16</td><td>Green</td><td>List(Brown, Curly)</td><td>42.48.100.32</td><td>List(626 Main Street, Phoenix, List(-77.16213, -92.084824), United States, 29112, Mississippi, MS)</td><td>47:fa:41:18:ec:eb</td><td>University of Wisconsin--Madison</td><td>List(03/26, 9289760655481815, Elo, CNY, YPUXISOBI7TTHPK2BR3HAIXL)</td><td>List(List(263 Tenth Street, San Francisco, List(71.814525, -161.150263), United States, 37657, Wisconsin, WI), Engineering, Dooley, Kozey and Cronin, Sales Manager)</td><td>977-175</td><td>900-590-289</td><td>Mozilla/5.0 (Macintosh; Intel Mac OS X 10_15_7) AppleWebKit/537.36 (KHTML, like Gecko) Chrome/96.0.4664.93 Safari/537.36</td><td>List(Bitcoin, Ethereum (ERC20), 0xb9fc2fe63b2a6c003f1c324c3bfa53259162181a)</td><td>admin</td><td>1997</td></tr><tr><td>2</td><td>Michael</td><td>Williams</td><td></td><td>35</td><td>male</td><td>michael.williams@x.dummyjson.com</td><td>+49 258-627-6644</td><td>michaelw</td><td>michaelwpass</td><td>1989-8-10</td><td>https://dummyjson.com/icon/michaelw/128</td><td>B+</td><td>186.22</td><td>76.32</td><td>Red</td><td>List(Green, Straight)</td><td>12.13.116.142</td><td>List(385 Fifth Street, Houston, List(22.815468, 115.608581), United States, 38807, Alabama, AL)</td><td>79:15:78:99:60:aa</td><td>Ohio State University</td><td>List(02/27, 6737807858721625, Elo, SEK, 83IDT77FWYLCJVR8ISDACFH0)</td><td>List(List(395 Main Street, Los Angeles, List(79.098326, -119.624845), United States, 73442, New Hampshire, NH), Support, Spinka - Dickinson, Support Specialist)</td><td>912-602</td><td>108-953-962</td><td>Mozilla/5.0 (Windows NT 10.0; Win64; x64) AppleWebKit/537.36 (KHTML, like Gecko) Edge/97.0.1072.76 Safari/537.36</td><td>List(Bitcoin, Ethereum (ERC20), 0xb9fc2fe63b2a6c003f1c324c3bfa53259162181a)</td><td>admin</td><td>1990</td></tr><tr><td>3</td><td>Sophia</td><td>Brown</td><td></td><td>42</td><td>female</td><td>sophia.brown@x.dummyjson.com</td><td>+81 210-652-2785</td><td>sophiab</td><td>sophiabpass</td><td>1982-11-6</td><td>https://dummyjson.com/icon/sophiab/128</td><td>O-</td><td>177.72</td><td>52.6</td><td>Hazel</td><td>List(White, Wavy)</td><td>214.225.51.195</td><td>List(1642 Ninth Street, Washington, List(45.289366, 46.832664), United States, 32822, Alabama, AL)</td><td>12:a3:d3:6f:5c:5b</td><td>Pepperdine University</td><td>List(04/25, 7795895470082859, Korean Express, SEK, 90XYKT83LMM7AARZ8JN958JC)</td><td>List(List(1896 Washington Street, Dallas, List(20.086743, -34.577107), United States, 88511, Nevada, NV), Research and Development, Schiller - Zieme, Accountant)</td><td>963-113</td><td>638-461-822</td><td>Mozilla/5.0 (Windows NT 10.0; Win64; x64) AppleWebKit/537.36 (KHTML, like Gecko) Chrome/96.0.4664.45 Safari/537.36</td><td>List(Bitcoin, Ethereum (ERC20), 0xb9fc2fe63b2a6c003f1c324c3bfa53259162181a)</td><td>admin</td><td>1983</td></tr><tr><td>4</td><td>James</td><td>Davis</td><td></td><td>45</td><td>male</td><td>james.davis@x.dummyjson.com</td><td>+49 614-958-9364</td><td>jamesd</td><td>jamesdpass</td><td>1979-5-4</td><td>https://dummyjson.com/icon/jamesd/128</td><td>AB+</td><td>193.31</td><td>62.1</td><td>Amber</td><td>List(Blonde, Straight)</td><td>101.118.131.66</td><td>List(238 Jefferson Street, Seattle, List(16.782513, -139.34723), United States, 68354, Pennsylvania, PA)</td><td>10:7d:df:1f:97:58</td><td>University of Southern California</td><td>List(05/29, 5005519846254763, Mastercard, INR, 7N7ZH1PJ8Q4WU1K965HQQR27)</td><td>List(List(1622 Lincoln Street, Fort Worth, List(54.91193, -79.498328), United States, 27768, Pennsylvania, PA), Support, Pagac and Sons, Research Analyst)</td><td>904-810</td><td>116-951-314</td><td>Mozilla/5.0 (Macintosh; Intel Mac OS X 10_15_7) AppleWebKit/537.36 (KHTML, like Gecko) Chrome/97.0.4692.99 Safari/537.36</td><td>List(Bitcoin, Ethereum (ERC20), 0xb9fc2fe63b2a6c003f1c324c3bfa53259162181a)</td><td>admin</td><td>1980</td></tr><tr><td>5</td><td>Emma</td><td>Miller</td><td>Johnson</td><td>30</td><td>female</td><td>emma.miller@x.dummyjson.com</td><td>+91 759-776-1614</td><td>emmaj</td><td>emmajpass</td><td>1994-6-13</td><td>https://dummyjson.com/icon/emmaj/128</td><td>AB-</td><td>192.8</td><td>63.62</td><td>Green</td><td>List(White, Straight)</td><td>224.126.22.183</td><td>List(607 Fourth Street, Jacksonville, List(0.505589, -157.43281), United States, 26593, Colorado, CO)</td><td>32:b9:7e:8d:f5:e8</td><td>Northeastern University</td><td>List(03/26, 5772950119588627, American Express, CAD, TAVHURD845KVBTB8W81AQXRY)</td><td>List(List(1460 Sixth Street, San Antonio, List(44.346545, -26.944701), United States, 21965, Idaho, ID), Human Resources, Graham - Gulgowski, Quality Assurance Engineer)</td><td>403-505</td><td>526-210-885</td><td>Mozilla/5.0 (Windows NT 10.0; Win64; x64; rv:97.0) Gecko/20100101 Firefox/97.0</td><td>List(Bitcoin, Ethereum (ERC20), 0xb9fc2fe63b2a6c003f1c324c3bfa53259162181a)</td><td>admin</td><td>1995</td></tr><tr><td>6</td><td>Olivia</td><td>Wilson</td><td></td><td>22</td><td>female</td><td>olivia.wilson@x.dummyjson.com</td><td>+91 607-295-6448</td><td>oliviaw</td><td>oliviawpass</td><td>2002-4-20</td><td>https://dummyjson.com/icon/oliviaw/128</td><td>B+</td><td>182.61</td><td>58.0</td><td>Hazel</td><td>List(Gray, Curly)</td><td>249.178.112.207</td><td>List(547 First Street, Fort Worth, List(75.32627, -26.15285), United States, 83843, Tennessee, TN)</td><td>9c:7f:ea:34:18:19</td><td>University of North Carolina--Chapel Hill</td><td>List(05/28, 6771923832947881, Diners Club International, BRL, V6H0O5OE3Q4JVKWDTYWZABMD)</td><td>List(List(425 Sixth Street, Indianapolis, List(74.986644, -132.916888), United States, 74263, Oklahoma, OK), Product Management, Pfannerstill Inc, Research Analyst)</td><td>921-709</td><td>836-772-168</td><td>Mozilla/5.0 (Macintosh; Intel Mac OS X 10_15_7) AppleWebKit/605.1.15 (KHTML, like Gecko) Version/15.3 Safari/605.1.15</td><td>List(Bitcoin, Ethereum (ERC20), 0xb9fc2fe63b2a6c003f1c324c3bfa53259162181a)</td><td>moderator</td><td>2003</td></tr><tr><td>7</td><td>Alexander</td><td>Jones</td><td></td><td>38</td><td>male</td><td>alexander.jones@x.dummyjson.com</td><td>+61 260-824-4986</td><td>alexanderj</td><td>alexanderjpass</td><td>1986-10-20</td><td>https://dummyjson.com/icon/alexanderj/128</td><td>AB-</td><td>153.89</td><td>77.42</td><td>Blue</td><td>List(White, Straight)</td><td>166.204.84.32</td><td>List(664 Maple Street, Indianapolis, List(35.289664, 7.063255), United States, 86684, Delaware, DE)</td><td>d2:64:58:2d:1c:46</td><td>University of Illinois--Urbana-Champaign</td><td>List(05/25, 7344951706130140, JCB, EUR, 49V4GVDVMP0MHIDD4VXMQ3A2)</td><td>List(List(996 Eighth Street, Washington, List(-75.462366, -128.025697), United States, 27858, Kansas, KS), Engineering, Dickens - Beahan, Web Developer)</td><td>638-127</td><td>722-993-925</td><td>Mozilla/5.0 (Macintosh; Intel Mac OS X 10_15_7) AppleWebKit/537.36 (KHTML, like Gecko) Chrome/95.0.4638.69 Safari/537.36</td><td>List(Bitcoin, Ethereum (ERC20), 0xb9fc2fe63b2a6c003f1c324c3bfa53259162181a)</td><td>moderator</td><td>1987</td></tr><tr><td>8</td><td>Ava</td><td>Taylor</td><td></td><td>27</td><td>female</td><td>ava.taylor@x.dummyjson.com</td><td>+1 458-853-7877</td><td>avat</td><td>avatpass</td><td>1997-8-25</td><td>https://dummyjson.com/icon/avat/128</td><td>AB-</td><td>168.47</td><td>57.08</td><td>Hazel</td><td>List(Red, Kinky)</td><td>150.73.197.233</td><td>List(1197 First Street, Fort Worth, List(-81.194833, -87.948158), United States, 24771, Rhode Island, RI)</td><td>8d:2e:c2:d6:e7:a8</td><td>University of Wisconsin--Madison</td><td>List(01/29, 6412128967460199, Maestro, CNY, TS66YQ8R16OX7IJKLUONDQHP)</td><td>List(List(930 Lincoln Street, Austin, List(87.970083, -42.769351), United States, 47592, Colorado, CO), Marketing, Nikolaus Inc, Chief Executive Officer)</td><td>297-762</td><td>257-419-109</td><td>Mozilla/5.0 (Windows NT 10.0; Win64; x64) AppleWebKit/537.36 (KHTML, like Gecko) Chrome/96.0.4664.45 Safari/537.36</td><td>List(Bitcoin, Ethereum (ERC20), 0xb9fc2fe63b2a6c003f1c324c3bfa53259162181a)</td><td>moderator</td><td>1998</td></tr><tr><td>9</td><td>Ethan</td><td>Martinez</td><td></td><td>33</td><td>male</td><td>ethan.martinez@x.dummyjson.com</td><td>+92 933-608-5081</td><td>ethanm</td><td>ethanmpass</td><td>1991-2-12</td><td>https://dummyjson.com/icon/ethanm/128</td><td>AB+</td><td>159.19</td><td>68.81</td><td>Hazel</td><td>List(Purple, Curly)</td><td>63.191.127.71</td><td>List(466 Pine Street, San Antonio, List(74.074918, -25.312703), United States, 72360, Louisiana, LA)</td><td>59:e:9e:e3:29:da</td><td>Syracuse University</td><td>List(02/25, 7183482484317509, Visa, CAD, CW5U5KS23U7JYD22TVQL7SIH)</td><td>List(List(1597 Oak Street, Chicago, List(-67.45208, -23.209886), United States, 28100, Florida, FL), Support, Gorczany - Gottlieb, Legal Counsel)</td><td>790-434</td><td>569-650-348</td><td>Mozilla/5.0 (Windows NT 10.0; Win64; x64) AppleWebKit/537.36 (KHTML, like Gecko) Chrome/95.0.4638.69 Safari/537.36</td><td>List(Bitcoin, Ethereum (ERC20), 0xb9fc2fe63b2a6c003f1c324c3bfa53259162181a)</td><td>moderator</td><td>1992</td></tr><tr><td>10</td><td>Isabella</td><td>Anderson</td><td>Davis</td><td>31</td><td>female</td><td>isabella.anderson@x.dummyjson.com</td><td>+49 770-658-4885</td><td>isabellad</td><td>isabelladpass</td><td>1993-6-10</td><td>https://dummyjson.com/icon/isabellad/128</td><td>A-</td><td>150.56</td><td>50.1</td><td>Brown</td><td>List(Blonde, Curly)</td><td>114.9.114.205</td><td>List(1964 Oak Street, New York, List(41.331324, 151.782727), United States, 89352, Utah, UT)</td><td>b1:b0:d0:a2:82:80</td><td>California Institute of Technology (Caltech)</td><td>List(05/27, 6118714010128731, NPS, CNY, GBZRGDMKUOTO34HBCI7A986J)</td><td>List(List(1029 Adams Street, San Diego, List(-25.843393, -62.692681), United States, 63847, Maryland, MD), Marketing, Pollich - Hilpert, Chief Financial Officer)</td><td>127-297</td><td>902-438-728</td><td>Mozilla/5.0 (Macintosh; Intel Mac OS X 10_15_7) AppleWebKit/537.36 (KHTML, like Gecko) Chrome/96.0.4664.93 Safari/537.36</td><td>List(Bitcoin, Ethereum (ERC20), 0xb9fc2fe63b2a6c003f1c324c3bfa53259162181a)</td><td>moderator</td><td>1994</td></tr><tr><td>11</td><td>Liam</td><td>Garcia</td><td></td><td>29</td><td>male</td><td>liam.garcia@x.dummyjson.com</td><td>+92 870-217-6201</td><td>liamg</td><td>liamgpass</td><td>1995-6-6</td><td>https://dummyjson.com/icon/liamg/128</td><td>AB-</td><td>162.32</td><td>93.16</td><td>Violet</td><td>List(Red, Wavy)</td><td>56.201.85.9</td><td>List(576 Fifth Street, Denver, List(-66.218177, -145.340165), United States, 57252, South Dakota, SD)</td><td>31:9a:28:8b:99:6c</td><td>Ohio State University</td><td>List(02/27, 2302893002194899, Discover, GBP, O8ENPRB9UVBL2EFZ7601KC09)</td><td>List(List(27 Cedar Street, Philadelphia, List(-81.841588, 31.79423), United States, 79574, Connecticut, CT), Services, Considine - Torp, Web Developer)</td><td>326-604</td><td>933-784-949</td><td>Mozilla/5.0 (Macintosh; Intel Mac OS X 10_15_7) AppleWebKit/537.36 (KHTML, like Gecko) Chrome/97.0.4692.99 Safari/537.36</td><td>List(Bitcoin, Ethereum (ERC20), 0xb9fc2fe63b2a6c003f1c324c3bfa53259162181a)</td><td>moderator</td><td>1996</td></tr><tr><td>12</td><td>Mia</td><td>Rodriguez</td><td></td><td>24</td><td>female</td><td>mia.rodriguez@x.dummyjson.com</td><td>+49 989-461-8403</td><td>miar</td><td>miarpass</td><td>2000-8-4</td><td>https://dummyjson.com/icon/miar/128</td><td>O-</td><td>188.08</td><td>56.03</td><td>Blue</td><td>List(Purple, Wavy)</td><td>11.72.253.90</td><td>List(1627 Sixth Street, Jacksonville, List(24.857497, -34.865429), United States, 41810, West Virginia, WV)</td><td>53:d7:a4:6:1e:58</td><td>William & Mary</td><td>List(05/26, 1539872303456158, Carte Bancaire, CAD, EBMD95RLK8B82ZAZNXBJ09V5)</td><td>List(List(1039 Washington Street, Philadelphia, List(85.455933, 164.246103), United States, 57518, New Jersey, NJ), Accounting, Miller, Schowalter and Wisozk, Business Analyst)</td><td>754-660</td><td>749-524-124</td><td>Mozilla/5.0 (Macintosh; Intel Mac OS X 10_15_7) AppleWebKit/537.36 (KHTML, like Gecko) Chrome/95.0.4638.54 Safari/537.36</td><td>List(Bitcoin, Ethereum (ERC20), 0xb9fc2fe63b2a6c003f1c324c3bfa53259162181a)</td><td>moderator</td><td>2001</td></tr><tr><td>13</td><td>Noah</td><td>Hernandez</td><td></td><td>40</td><td>male</td><td>noah.hernandez@x.dummyjson.com</td><td>+49 393-605-6968</td><td>noahh</td><td>noahhpass</td><td>1984-6-5</td><td>https://dummyjson.com/icon/noahh/128</td><td>AB+</td><td>188.62</td><td>69.49</td><td>Brown</td><td>List(Red, Curly)</td><td>169.154.126.57</td><td>List(1413 Maple Street, New York, List(-25.0377, -151.70469), United States, 73696, North Dakota, ND)</td><td>d4:fe:ae:8f:eb:a3</td><td>New York University (NYU)</td><td>List(05/26, 1681772579326385, Discover, SEK, G4UIZKIQVPJM9D31XQVR1E9Z)</td><td>List(List(62 Third Street, Seattle, List(19.490447, -13.173207), United States, 83474, Oregon, OR), Engineering, Botsford, Marquardt and Roberts, Database Administrator)</td><td>877-628</td><td>660-847-389</td><td>Mozilla/5.0 (Windows NT 10.0; Win64; x64) AppleWebKit/537.36 (KHTML, like Gecko) Chrome/95.0.4638.54 Safari/537.36</td><td>List(Bitcoin, Ethereum (ERC20), 0xb9fc2fe63b2a6c003f1c324c3bfa53259162181a)</td><td>moderator</td><td>1985</td></tr><tr><td>14</td><td>Charlotte</td><td>Lopez</td><td>Martinez</td><td>36</td><td>female</td><td>charlotte.lopez@x.dummyjson.com</td><td>+44 373-953-5028</td><td>charlottem</td><td>charlottempass</td><td>1988-6-8</td><td>https://dummyjson.com/icon/charlottem/128</td><td>AB-</td><td>178.92</td><td>82.46</td><td>Brown</td><td>List(Gray, Kinky)</td><td>119.103.95.60</td><td>List(208 Second Street, Columbus, List(-44.443762, -151.420561), United States, 42044, Ohio, OH)</td><td>f6:ff:37:aa:6c:f1</td><td>Northeastern University</td><td>List(02/27, 5675368650551956, Maestro, CNY, FKK6U634LGI3E7N517DLVVTL)</td><td>List(List(569 Jefferson Street, Los Angeles, List(-18.371256, 22.566258), United States, 17779, Montana, MT), Accounting, Zulauf and Sons, Chief Executive Officer)</td><td>364-782</td><td>255-491-479</td><td>Mozilla/5.0 (Windows NT 10.0; Win64; x64) AppleWebKit/537.36 (KHTML, like Gecko) Chrome/96.0.4664.45 Safari/537.36</td><td>List(Bitcoin, Ethereum (ERC20), 0xb9fc2fe63b2a6c003f1c324c3bfa53259162181a)</td><td>moderator</td><td>1989</td></tr><tr><td>15</td><td>William</td><td>Gonzalez</td><td></td><td>32</td><td>male</td><td>william.gonzalez@x.dummyjson.com</td><td>+81 905-252-7319</td><td>williamg</td><td>williamgpass</td><td>1992-3-27</td><td>https://dummyjson.com/icon/williamg/128</td><td>B-</td><td>173.21</td><td>82.41</td><td>Hazel</td><td>List(Gray, Curly)</td><td>250.2.241.204</td><td>List(31 Maple Street, San Jose, List(8.152876, 113.29799), United States, 78243, Utah, UT)</td><td>f5:68:28:f9:ec:89</td><td>Tufts University</td><td>List(03/27, 6053000793215148, Mir, EUR, AR01SNDMKGECX0EYH7UCW61W)</td><td>List(List(1538 Eighth Street, San Jose, List(24.169361, -29.395167), United States, 29673, Missouri, MO), Marketing, Spinka - Dickinson, Software Architect)</td><td>830-515</td><td>690-544-755</td><td>Mozilla/5.0 (Macintosh; Intel Mac OS X 10_15_7) AppleWebKit/537.36 (KHTML, like Gecko) Chrome/96.0.4664.93 Safari/537.36</td><td>List(Bitcoin, Ethereum (ERC20), 0xb9fc2fe63b2a6c003f1c324c3bfa53259162181a)</td><td>moderator</td><td>1993</td></tr><tr><td>16</td><td>Avery</td><td>Perez</td><td></td><td>25</td><td>female</td><td>avery.perez@x.dummyjson.com</td><td>+61 731-431-3457</td><td>averyp</td><td>averyppass</td><td>1999-3-10</td><td>https://dummyjson.com/icon/averyp/128</td><td>O-</td><td>172.68</td><td>93.9</td><td>Brown</td><td>List(Green, Curly)</td><td>131.217.4.214</td><td>List(1125 First Street, Columbus, List(12.789127, 85.792598), United States, 30973, Iowa, IA)</td><td>b3:ff:f3:c5:37:46</td><td>Harvard University</td><td>List(04/27, 0961014686718571, Carte Bancaire, USD, 28JYZAY4KYT48YI8QW40PWXR)</td><td>List(List(183 Maple Street, New York, List(-53.318189, 105.835271), United States, 45238, Rhode Island, RI), Accounting, Herzog Inc, Database Administrator)</td><td>348-493</td><td>679-523-686</td><td>Mozilla/5.0 (Macintosh; Intel Mac OS X 10_15_7) AppleWebKit/537.36 (KHTML, like Gecko) Chrome/95.0.4638.69 Safari/537.36</td><td>List(Bitcoin, Ethereum (ERC20), 0xb9fc2fe63b2a6c003f1c324c3bfa53259162181a)</td><td>user</td><td>2000</td></tr><tr><td>17</td><td>Evelyn</td><td>Sanchez</td><td></td><td>37</td><td>female</td><td>evelyn.sanchez@x.dummyjson.com</td><td>+1 623-880-6871</td><td>evelyns</td><td>evelynspass</td><td>1987-10-13</td><td>https://dummyjson.com/icon/evelyns/128</td><td>B+</td><td>184.08</td><td>83.15</td><td>Violet</td><td>List(Blue, Curly)</td><td>87.114.135.146</td><td>List(1170 Lincoln Street, San Diego, List(-83.31484, 11.768071), United States, 43423, Wyoming, WY)</td><td>f8:e5:bd:43:bc:d8</td><td>Washington University in St. Louis</td><td>List(04/29, 4557521697420096, UnionPay, SEK, KN8XAPR2J5UB8AKDI1EVJ56R)</td><td>List(List(1802 Ninth Street, San Diego, List(29.034592, -78.004598), United States, 89416, Minnesota, MN), Support, Predovic - Johns, Chief Financial Officer)</td><td>604-817</td><td>689-332-644</td><td>Mozilla/5.0 (Macintosh; Intel Mac OS X 10_15_7) AppleWebKit/537.36 (KHTML, like Gecko) Chrome/96.0.4664.45 Safari/537.36</td><td>List(Bitcoin, Ethereum (ERC20), 0xb9fc2fe63b2a6c003f1c324c3bfa53259162181a)</td><td>user</td><td>1988</td></tr><tr><td>18</td><td>Logan</td><td>Torres</td><td></td><td>31</td><td>male</td><td>logan.torres@x.dummyjson.com</td><td>+81 507-434-8733</td><td>logant</td><td>logantpass</td><td>1993-10-26</td><td>https://dummyjson.com/icon/logant/128</td><td>A+</td><td>190.04</td><td>72.43</td><td>Green</td><td>List(Green, Curly)</td><td>155.98.15.162</td><td>List(907 Seventh Street, Columbus, List(-64.846516, 174.775744), United States, 78805, Arkansas, AR)</td><td>40:d:5c:1:7d:bf</td><td>University of Illinois--Urbana-Champaign</td><td>List(05/26, 7884268130452098, UnionPay, NZD, HZM7V9PYHPZBN72IDFPXGN8Q)</td><td>List(List(947 Main Street, Denver, List(-24.654063, -147.255268), United States, 71896, Minnesota, MN), Training, Jast - Nader, Data Analyst)</td><td>576-218</td><td>806-639-934</td><td>Mozilla/5.0 (Macintosh; Intel Mac OS X 10_15_7) AppleWebKit/537.36 (KHTML, like Gecko) Chrome/96.0.4664.45 Safari/537.36</td><td>List(Bitcoin, Ethereum (ERC20), 0xb9fc2fe63b2a6c003f1c324c3bfa53259162181a)</td><td>user</td><td>1994</td></tr><tr><td>19</td><td>Abigail</td><td>Rivera</td><td></td><td>28</td><td>female</td><td>abigail.rivera@x.dummyjson.com</td><td>+91 228-363-7806</td><td>abigailr</td><td>abigailrpass</td><td>1996-10-11</td><td>https://dummyjson.com/icon/abigailr/128</td><td>B+</td><td>186.39</td><td>74.61</td><td>Violet</td><td>List(Blue, Kinky)</td><td>19.183.240.94</td><td>List(996 Oak Street, Chicago, List(44.321308, -3.723903), United States, 11407, New Mexico, NM)</td><td>1d:a6:58:2a:e5:e4</td><td>California Institute of Technology (Caltech)</td><td>List(02/28, 4832361886407551, RuPay, BRL, O02LHDNNFCVSM6D4H81DIQHE)</td><td>List(List(1402 Adams Street, Austin, List(25.672938, -76.54967), United States, 51456, Wisconsin, WI), Human Resources, Prohaska - Thiel, Business Analyst)</td><td>173-637</td><td>655-823-929</td><td>Mozilla/5.0 (Windows NT 10.0; Win64; x64) AppleWebKit/537.36 (KHTML, like Gecko) Edge/97.0.1072.76 Safari/537.36</td><td>List(Bitcoin, Ethereum (ERC20), 0xb9fc2fe63b2a6c003f1c324c3bfa53259162181a)</td><td>user</td><td>1997</td></tr><tr><td>20</td><td>Jackson</td><td>Evans</td><td></td><td>34</td><td>male</td><td>jackson.evans@x.dummyjson.com</td><td>+44 468-628-6686</td><td>jacksone</td><td>jacksonepass</td><td>1990-11-30</td><td>https://dummyjson.com/icon/jacksone/128</td><td>O-</td><td>162.57</td><td>74.37</td><td>Green</td><td>List(Red, Straight)</td><td>221.127.144.198</td><td>List(1873 Main Street, New York, List(34.722451, 63.448927), United States, 26600, Arkansas, AR)</td><td>81:14:1:97:88:85</td><td>Ohio State University</td><td>List(04/26, 2109192842527801, BC Card, EUR, TX26FO9B7YR2VHYDSJBE32AX)</td><td>List(List(1706 First Street, Chicago, List(-80.416937, -83.224516), United States, 34725, Hawaii, HI), Legal, Kuhlman LLC, Web Developer)</td><td>843-260</td><td>248-787-886</td><td>Mozilla/5.0 (Macintosh; Intel Mac OS X 10_15_7) AppleWebKit/537.36 (KHTML, like Gecko) Chrome/97.0.4692.99 Safari/537.36</td><td>List(Bitcoin, Ethereum (ERC20), 0xb9fc2fe63b2a6c003f1c324c3bfa53259162181a)</td><td>user</td><td>1991</td></tr><tr><td>21</td><td>Madison</td><td>Collins</td><td></td><td>26</td><td>female</td><td>madison.collins@x.dummyjson.com</td><td>+81 259-957-5711</td><td>madisonc</td><td>madisoncpass</td><td>1998-3-7</td><td>https://dummyjson.com/icon/madisonc/128</td><td>B-</td><td>189.28</td><td>56.96</td><td>Red</td><td>List(Gray, Curly)</td><td>85.34.1.204</td><td>List(1892 Lincoln Street, Philadelphia, List(52.993694, 160.486892), United States, 62091, New Jersey, NJ)</td><td>13:b0:d0:23:4d:26</td><td>University of Pennsylvania</td><td>List(04/28, 5549175461210252, Mir, CNY, Y0WSN5IED255808SIYBUOMWO)</td><td>List(List(1438 Main Street, San Diego, List(1.629613, 23.232982), United States, 63144, Delaware, DE), Engineering, Mayer - Smitham, Chief Technology Officer)</td><td>716-166</td><td>457-258-950</td><td>Mozilla/5.0 (Macintosh; Intel Mac OS X 10_15_7) AppleWebKit/537.36 (KHTML, like Gecko) Chrome/97.0.4692.99 Safari/537.36</td><td>List(Bitcoin, Ethereum (ERC20), 0xb9fc2fe63b2a6c003f1c324c3bfa53259162181a)</td><td>user</td><td>1999</td></tr><tr><td>22</td><td>Elijah</td><td>Stewart</td><td></td><td>33</td><td>male</td><td>elijah.stewart@x.dummyjson.com</td><td>+44 468-357-7872</td><td>elijahs</td><td>elijahspass</td><td>1991-10-22</td><td>https://dummyjson.com/icon/elijahs/128</td><td>A-</td><td>195.33</td><td>81.64</td><td>Blue</td><td>List(Purple, Straight)</td><td>23.87.135.62</td><td>List(1701 Eighth Street, Columbus, List(-54.833799, -174.504027), United States, 31585, Illinois, IL)</td><td>75:17:c6:35:fc:6d</td><td>Georgetown University</td><td>List(05/27, 0798116671286564, JCB, GBP, E1XUHCC1N39WGU6XESSK1CAO)</td><td>List(List(155 Ninth Street, Washington, List(61.279254, -12.607767), United States, 19039, South Dakota, SD), Legal, Langworth Group, Business Analyst)</td><td>520-394</td><td>287-380-801</td><td>Mozilla/5.0 (Macintosh; Intel Mac OS X 10_15_7) AppleWebKit/537.36 (KHTML, like Gecko) Chrome/96.0.4664.93 Safari/537.36</td><td>List(Bitcoin, Ethereum (ERC20), 0xb9fc2fe63b2a6c003f1c324c3bfa53259162181a)</td><td>user</td><td>1992</td></tr><tr><td>23</td><td>Chloe</td><td>Morales</td><td></td><td>39</td><td>female</td><td>chloe.morales@x.dummyjson.com</td><td>+92 468-541-7133</td><td>chloem</td><td>chloempass</td><td>1985-4-21</td><td>https://dummyjson.com/icon/chloem/128</td><td>O+</td><td>185.07</td><td>63.97</td><td>Brown</td><td>List(Red, Kinky)</td><td>66.78.20.21</td><td>List(401 Fourth Street, Dallas, List(-30.190759, -58.705979), United States, 54972, New Jersey, NJ)</td><td>fc:f:29:e1:37:b8</td><td>Syracuse University</td><td>List(05/28, 3150496938377346, American Express, PKR, P7YLGOOBWBD1SRWDWSFO3PZ0)</td><td>List(List(269 Third Street, Houston, List(40.098115, -1.762972), United States, 10385, North Carolina, NC), Sales, Grady LLC, Database Administrator)</td><td>913-597</td><td>938-883-163</td><td>Mozilla/5.0 (Windows NT 10.0; Win64; x64) AppleWebKit/537.36 (KHTML, like Gecko) Chrome/96.0.4664.93 Safari/537.36</td><td>List(Bitcoin, Ethereum (ERC20), 0xb9fc2fe63b2a6c003f1c324c3bfa53259162181a)</td><td>user</td><td>1986</td></tr><tr><td>24</td><td>Mateo</td><td>Nguyen</td><td></td><td>30</td><td>male</td><td>mateo.nguyen@x.dummyjson.com</td><td>+1 341-597-6694</td><td>mateon</td><td>mateonpass</td><td>1994-6-2</td><td>https://dummyjson.com/icon/mateon/128</td><td>O+</td><td>174.29</td><td>59.98</td><td>Red</td><td>List(Purple, Wavy)</td><td>192.57.144.7</td><td>List(1578 Fourth Street, Columbus, List(-32.828675, -82.557354), United States, 20673, Missouri, MO)</td><td>a7:26:10:7a:36:29</td><td>Columbia University</td><td>List(03/26, 5545852224851851, JCB, TRY, WEBE9SBX588VFUCVCA6KFHWB)</td><td>List(List(1967 Jefferson Street, Dallas, List(75.982676, 164.459743), United States, 78527, Louisiana, LA), Accounting, Spinka LLC, Business Analyst)</td><td>229-249</td><td>416-877-230</td><td>Mozilla/5.0 (Windows NT 10.0; Win64; x64) AppleWebKit/537.36 (KHTML, like Gecko) Chrome/95.0.4638.69 Safari/537.36</td><td>List(Bitcoin, Ethereum (ERC20), 0xb9fc2fe63b2a6c003f1c324c3bfa53259162181a)</td><td>user</td><td>1995</td></tr><tr><td>25</td><td>Harper</td><td>Kelly</td><td>Evans</td><td>27</td><td>female</td><td>harper.kelly@x.dummyjson.com</td><td>+92 518-863-2863</td><td>harpere</td><td>harperepass</td><td>1997-3-3</td><td>https://dummyjson.com/icon/harpere/128</td><td>AB-</td><td>184.32</td><td>81.69</td><td>Amber</td><td>List(Red, Curly)</td><td>174.111.61.162</td><td>List(1591 Adams Street, Philadelphia, List(-26.832913, -75.445017), United States, 69521, New York, NY)</td><td>b:ff:33:67:94:e4</td><td>Boston College</td><td>List(04/26, 1298153007505587, RuPay, JPY, DJI19LCUNUHP6YSGPY52D5VG)</td><td>List(List(16 Maple Street, Austin, List(-15.423746, 149.298887), United States, 68274, North Carolina, NC), Legal, Leffler, Rolfson and Becker, Business Development Manager)</td><td>592-557</td><td>209-544-548</td><td>Mozilla/5.0 (Macintosh; Intel Mac OS X 10_15_7) AppleWebKit/537.36 (KHTML, like Gecko) Chrome/97.0.4692.99 Safari/537.36</td><td>List(Bitcoin, Ethereum (ERC20), 0xb9fc2fe63b2a6c003f1c324c3bfa53259162181a)</td><td>user</td><td>1998</td></tr><tr><td>26</td><td>Evelyn</td><td>Gonzalez</td><td></td><td>35</td><td>female</td><td>evelyn.gonzalez@x.dummyjson.com</td><td>+61 708-508-4638</td><td>evelyng</td><td>evelyngpass</td><td>1989-2-5</td><td>https://dummyjson.com/icon/evelyng/128</td><td>O+</td><td>168.94</td><td>58.47</td><td>Red</td><td>List(Black, Wavy)</td><td>42.52.74.232</td><td>List(1065 Lincoln Street, Dallas, List(67.768359, 71.268643), United States, 84898, Maine, ME)</td><td>89:5e:5a:2a:72:42</td><td>Washington University in St. Louis</td><td>List(03/28, 9584313788145560, RuPay, INR, X4UPULQG61VIGA97USY7AAEB)</td><td>List(List(584 Ninth Street, Jacksonville, List(26.014021, 40.572436), United States, 45633, Wisconsin, WI), Accounting, Tromp, Gaylord and Weber, Project Manager)</td><td>569-275</td><td>487-680-127</td><td>Mozilla/5.0 (Windows NT 10.0; Win64; x64) AppleWebKit/537.36 (KHTML, like Gecko) Chrome/95.0.4638.54 Safari/537.36</td><td>List(Bitcoin, Ethereum (ERC20), 0xb9fc2fe63b2a6c003f1c324c3bfa53259162181a)</td><td>user</td><td>1990</td></tr><tr><td>27</td><td>Daniel</td><td>Cook</td><td></td><td>41</td><td>male</td><td>daniel.cook@x.dummyjson.com</td><td>+44 254-761-6843</td><td>danielc</td><td>danielcpass</td><td>1983-12-25</td><td>https://dummyjson.com/icon/danielc/128</td><td>AB+</td><td>186.21</td><td>83.72</td><td>Brown</td><td>List(Blonde, Curly)</td><td>1.61.73.142</td><td>List(1163 Pine Street, Los Angeles, List(-3.456681, -134.937482), United States, 58781, Nevada, NV)</td><td>6e:73:dc:3a:85:10</td><td>Columbia University</td><td>List(01/26, 8452555751345228, Korean Express, NZD, A8DBPECO4X6D09WYOVT8UZK8)</td><td>List(List(938 Fifth Street, San Francisco, List(21.323588, -83.531427), United States, 45305, South Dakota, SD), Support, Morissette, Baumbach and Auer, Legal Counsel)</td><td>585-905</td><td>645-515-583</td><td>Mozilla/5.0 (Windows NT 10.0; Win64; x64; rv:97.0) Gecko/20100101 Firefox/97.0</td><td>List(Bitcoin, Ethereum (ERC20), 0xb9fc2fe63b2a6c003f1c324c3bfa53259162181a)</td><td>user</td><td>1984</td></tr><tr><td>28</td><td>Lily</td><td>Lee</td><td>Brown</td><td>29</td><td>female</td><td>lily.lee@x.dummyjson.com</td><td>+1 808-757-9867</td><td>lilyb</td><td>lilybpass</td><td>1995-12-3</td><td>https://dummyjson.com/icon/lilyb/128</td><td>AB-</td><td>181.42</td><td>51.49</td><td>Gray</td><td>List(Purple, Straight)</td><td>67.184.255.96</td><td>List(1946 Oak Street, Phoenix, List(-9.87059, -72.336845), United States, 41540, Massachusetts, MA)</td><td>18:b6:c7:a:50:3f</td><td>Johns Hopkins University</td><td>List(05/29, 2903637820228856, Visa, JPY, BKX6ZWB8UJZD09RFOWFPPD3C)</td><td>List(List(1735 Cedar Street, Phoenix, List(72.231441, -158.147245), United States, 85797, Wyoming, WY), Product Management, Cremin Inc, Quality Assurance Engineer)</td><td>229-776</td><td>358-185-671</td><td>Mozilla/5.0 (Windows NT 10.0; Win64; x64) AppleWebKit/537.36 (KHTML, like Gecko) Edge/97.0.1072.76 Safari/537.36</td><td>List(Bitcoin, Ethereum (ERC20), 0xb9fc2fe63b2a6c003f1c324c3bfa53259162181a)</td><td>user</td><td>1996</td></tr><tr><td>29</td><td>Henry</td><td>Hill</td><td></td><td>38</td><td>male</td><td>henry.hill@x.dummyjson.com</td><td>+1 240-833-4680</td><td>henryh</td><td>henryhpass</td><td>1986-8-19</td><td>https://dummyjson.com/icon/henryh/128</td><td>O-</td><td>180.25</td><td>95.84</td><td>Gray</td><td>List(Black, Straight)</td><td>194.43.55.202</td><td>List(1837 Maple Street, Indianapolis, List(35.498256, 154.088476), United States, 81783, Delaware, DE)</td><td>fa:c3:1b:21:5f:44</td><td>University of Illinois--Urbana-Champaign</td><td>List(02/26, 7262597174206766, Diners Club International, SEK, 7N3JP8KN9AUNXOWRQGAU2JX6)</td><td>List(List(1651 Lincoln Street, San Francisco, List(-59.936335, -12.405368), United States, 61805, West Virginia, WV), Services, Gerlach, Funk and Schoen, Sales Manager)</td><td>118-957</td><td>925-686-100</td><td>Mozilla/5.0 (Windows NT 10.0; Win64; x64) AppleWebKit/537.36 (KHTML, like Gecko) Chrome/96.0.4664.93 Safari/537.36</td><td>List(Bitcoin, Ethereum (ERC20), 0xb9fc2fe63b2a6c003f1c324c3bfa53259162181a)</td><td>user</td><td>1987</td></tr><tr><td>30</td><td>Addison</td><td>Wright</td><td></td><td>32</td><td>female</td><td>addison.wright@x.dummyjson.com</td><td>+1 514-384-3300</td><td>addisonw</td><td>addisonwpass</td><td>1992-1-3</td><td>https://dummyjson.com/icon/addisonw/128</td><td>B+</td><td>179.32</td><td>76.93</td><td>Brown</td><td>List(Blonde, Straight)</td><td>11.35.69.81</td><td>List(568 Tenth Street, San Francisco, List(20.946052, 100.228822), United States, 54698, Montana, MT)</td><td>fb:0:94:21:16:c</td><td>Syracuse University</td><td>List(05/28, 3756638438861539, Carte Bancaire, JPY, OOPQTNZ74OLPKVT7TGB89UQL)</td><td>List(List(1173 Eighth Street, San Diego, List(65.324413, 87.142893), United States, 85777, Michigan, MI), Services, Kreiger Inc, Human Resources Manager)</td><td>415-286</td><td>804-492-390</td><td>Mozilla/5.0 (Macintosh; Intel Mac OS X 10_15_7) AppleWebKit/537.36 (KHTML, like Gecko) Chrome/96.0.4664.93 Safari/537.36</td><td>List(Bitcoin, Ethereum (ERC20), 0xb9fc2fe63b2a6c003f1c324c3bfa53259162181a)</td><td>user</td><td>1993</td></tr></tbody></table></div>"
      ]
     },
     "metadata": {
      "application/vnd.databricks.v1+output": {
       "addedWidgets": {},
       "aggData": [],
       "aggError": "",
       "aggOverflow": false,
       "aggSchema": [],
       "aggSeriesLimitReached": false,
       "aggType": "",
       "arguments": {},
       "columnCustomDisplayInfos": {},
       "data": [
        [
         1,
         "Emily",
         "Johnson",
         "Smith",
         28,
         "female",
         "emily.johnson@x.dummyjson.com",
         "+81 965-431-3024",
         "emilys",
         "emilyspass",
         "1996-5-30",
         "https://dummyjson.com/icon/emilys/128",
         "O-",
         193.24,
         63.16,
         "Green",
         [
          "Brown",
          "Curly"
         ],
         "42.48.100.32",
         [
          "626 Main Street",
          "Phoenix",
          [
           -77.16213,
           -92.084824
          ],
          "United States",
          "29112",
          "Mississippi",
          "MS"
         ],
         "47:fa:41:18:ec:eb",
         "University of Wisconsin--Madison",
         [
          "03/26",
          "9289760655481815",
          "Elo",
          "CNY",
          "YPUXISOBI7TTHPK2BR3HAIXL"
         ],
         [
          [
           "263 Tenth Street",
           "San Francisco",
           [
            71.814525,
            -161.150263
           ],
           "United States",
           "37657",
           "Wisconsin",
           "WI"
          ],
          "Engineering",
          "Dooley, Kozey and Cronin",
          "Sales Manager"
         ],
         "977-175",
         "900-590-289",
         "Mozilla/5.0 (Macintosh; Intel Mac OS X 10_15_7) AppleWebKit/537.36 (KHTML, like Gecko) Chrome/96.0.4664.93 Safari/537.36",
         [
          "Bitcoin",
          "Ethereum (ERC20)",
          "0xb9fc2fe63b2a6c003f1c324c3bfa53259162181a"
         ],
         "admin",
         1997
        ],
        [
         2,
         "Michael",
         "Williams",
         "",
         35,
         "male",
         "michael.williams@x.dummyjson.com",
         "+49 258-627-6644",
         "michaelw",
         "michaelwpass",
         "1989-8-10",
         "https://dummyjson.com/icon/michaelw/128",
         "B+",
         186.22,
         76.32,
         "Red",
         [
          "Green",
          "Straight"
         ],
         "12.13.116.142",
         [
          "385 Fifth Street",
          "Houston",
          [
           22.815468,
           115.608581
          ],
          "United States",
          "38807",
          "Alabama",
          "AL"
         ],
         "79:15:78:99:60:aa",
         "Ohio State University",
         [
          "02/27",
          "6737807858721625",
          "Elo",
          "SEK",
          "83IDT77FWYLCJVR8ISDACFH0"
         ],
         [
          [
           "395 Main Street",
           "Los Angeles",
           [
            79.098326,
            -119.624845
           ],
           "United States",
           "73442",
           "New Hampshire",
           "NH"
          ],
          "Support",
          "Spinka - Dickinson",
          "Support Specialist"
         ],
         "912-602",
         "108-953-962",
         "Mozilla/5.0 (Windows NT 10.0; Win64; x64) AppleWebKit/537.36 (KHTML, like Gecko) Edge/97.0.1072.76 Safari/537.36",
         [
          "Bitcoin",
          "Ethereum (ERC20)",
          "0xb9fc2fe63b2a6c003f1c324c3bfa53259162181a"
         ],
         "admin",
         1990
        ],
        [
         3,
         "Sophia",
         "Brown",
         "",
         42,
         "female",
         "sophia.brown@x.dummyjson.com",
         "+81 210-652-2785",
         "sophiab",
         "sophiabpass",
         "1982-11-6",
         "https://dummyjson.com/icon/sophiab/128",
         "O-",
         177.72,
         52.6,
         "Hazel",
         [
          "White",
          "Wavy"
         ],
         "214.225.51.195",
         [
          "1642 Ninth Street",
          "Washington",
          [
           45.289366,
           46.832664
          ],
          "United States",
          "32822",
          "Alabama",
          "AL"
         ],
         "12:a3:d3:6f:5c:5b",
         "Pepperdine University",
         [
          "04/25",
          "7795895470082859",
          "Korean Express",
          "SEK",
          "90XYKT83LMM7AARZ8JN958JC"
         ],
         [
          [
           "1896 Washington Street",
           "Dallas",
           [
            20.086743,
            -34.577107
           ],
           "United States",
           "88511",
           "Nevada",
           "NV"
          ],
          "Research and Development",
          "Schiller - Zieme",
          "Accountant"
         ],
         "963-113",
         "638-461-822",
         "Mozilla/5.0 (Windows NT 10.0; Win64; x64) AppleWebKit/537.36 (KHTML, like Gecko) Chrome/96.0.4664.45 Safari/537.36",
         [
          "Bitcoin",
          "Ethereum (ERC20)",
          "0xb9fc2fe63b2a6c003f1c324c3bfa53259162181a"
         ],
         "admin",
         1983
        ],
        [
         4,
         "James",
         "Davis",
         "",
         45,
         "male",
         "james.davis@x.dummyjson.com",
         "+49 614-958-9364",
         "jamesd",
         "jamesdpass",
         "1979-5-4",
         "https://dummyjson.com/icon/jamesd/128",
         "AB+",
         193.31,
         62.1,
         "Amber",
         [
          "Blonde",
          "Straight"
         ],
         "101.118.131.66",
         [
          "238 Jefferson Street",
          "Seattle",
          [
           16.782513,
           -139.34723
          ],
          "United States",
          "68354",
          "Pennsylvania",
          "PA"
         ],
         "10:7d:df:1f:97:58",
         "University of Southern California",
         [
          "05/29",
          "5005519846254763",
          "Mastercard",
          "INR",
          "7N7ZH1PJ8Q4WU1K965HQQR27"
         ],
         [
          [
           "1622 Lincoln Street",
           "Fort Worth",
           [
            54.91193,
            -79.498328
           ],
           "United States",
           "27768",
           "Pennsylvania",
           "PA"
          ],
          "Support",
          "Pagac and Sons",
          "Research Analyst"
         ],
         "904-810",
         "116-951-314",
         "Mozilla/5.0 (Macintosh; Intel Mac OS X 10_15_7) AppleWebKit/537.36 (KHTML, like Gecko) Chrome/97.0.4692.99 Safari/537.36",
         [
          "Bitcoin",
          "Ethereum (ERC20)",
          "0xb9fc2fe63b2a6c003f1c324c3bfa53259162181a"
         ],
         "admin",
         1980
        ],
        [
         5,
         "Emma",
         "Miller",
         "Johnson",
         30,
         "female",
         "emma.miller@x.dummyjson.com",
         "+91 759-776-1614",
         "emmaj",
         "emmajpass",
         "1994-6-13",
         "https://dummyjson.com/icon/emmaj/128",
         "AB-",
         192.8,
         63.62,
         "Green",
         [
          "White",
          "Straight"
         ],
         "224.126.22.183",
         [
          "607 Fourth Street",
          "Jacksonville",
          [
           0.505589,
           -157.43281
          ],
          "United States",
          "26593",
          "Colorado",
          "CO"
         ],
         "32:b9:7e:8d:f5:e8",
         "Northeastern University",
         [
          "03/26",
          "5772950119588627",
          "American Express",
          "CAD",
          "TAVHURD845KVBTB8W81AQXRY"
         ],
         [
          [
           "1460 Sixth Street",
           "San Antonio",
           [
            44.346545,
            -26.944701
           ],
           "United States",
           "21965",
           "Idaho",
           "ID"
          ],
          "Human Resources",
          "Graham - Gulgowski",
          "Quality Assurance Engineer"
         ],
         "403-505",
         "526-210-885",
         "Mozilla/5.0 (Windows NT 10.0; Win64; x64; rv:97.0) Gecko/20100101 Firefox/97.0",
         [
          "Bitcoin",
          "Ethereum (ERC20)",
          "0xb9fc2fe63b2a6c003f1c324c3bfa53259162181a"
         ],
         "admin",
         1995
        ],
        [
         6,
         "Olivia",
         "Wilson",
         "",
         22,
         "female",
         "olivia.wilson@x.dummyjson.com",
         "+91 607-295-6448",
         "oliviaw",
         "oliviawpass",
         "2002-4-20",
         "https://dummyjson.com/icon/oliviaw/128",
         "B+",
         182.61,
         58,
         "Hazel",
         [
          "Gray",
          "Curly"
         ],
         "249.178.112.207",
         [
          "547 First Street",
          "Fort Worth",
          [
           75.32627,
           -26.15285
          ],
          "United States",
          "83843",
          "Tennessee",
          "TN"
         ],
         "9c:7f:ea:34:18:19",
         "University of North Carolina--Chapel Hill",
         [
          "05/28",
          "6771923832947881",
          "Diners Club International",
          "BRL",
          "V6H0O5OE3Q4JVKWDTYWZABMD"
         ],
         [
          [
           "425 Sixth Street",
           "Indianapolis",
           [
            74.986644,
            -132.916888
           ],
           "United States",
           "74263",
           "Oklahoma",
           "OK"
          ],
          "Product Management",
          "Pfannerstill Inc",
          "Research Analyst"
         ],
         "921-709",
         "836-772-168",
         "Mozilla/5.0 (Macintosh; Intel Mac OS X 10_15_7) AppleWebKit/605.1.15 (KHTML, like Gecko) Version/15.3 Safari/605.1.15",
         [
          "Bitcoin",
          "Ethereum (ERC20)",
          "0xb9fc2fe63b2a6c003f1c324c3bfa53259162181a"
         ],
         "moderator",
         2003
        ],
        [
         7,
         "Alexander",
         "Jones",
         "",
         38,
         "male",
         "alexander.jones@x.dummyjson.com",
         "+61 260-824-4986",
         "alexanderj",
         "alexanderjpass",
         "1986-10-20",
         "https://dummyjson.com/icon/alexanderj/128",
         "AB-",
         153.89,
         77.42,
         "Blue",
         [
          "White",
          "Straight"
         ],
         "166.204.84.32",
         [
          "664 Maple Street",
          "Indianapolis",
          [
           35.289664,
           7.063255
          ],
          "United States",
          "86684",
          "Delaware",
          "DE"
         ],
         "d2:64:58:2d:1c:46",
         "University of Illinois--Urbana-Champaign",
         [
          "05/25",
          "7344951706130140",
          "JCB",
          "EUR",
          "49V4GVDVMP0MHIDD4VXMQ3A2"
         ],
         [
          [
           "996 Eighth Street",
           "Washington",
           [
            -75.462366,
            -128.025697
           ],
           "United States",
           "27858",
           "Kansas",
           "KS"
          ],
          "Engineering",
          "Dickens - Beahan",
          "Web Developer"
         ],
         "638-127",
         "722-993-925",
         "Mozilla/5.0 (Macintosh; Intel Mac OS X 10_15_7) AppleWebKit/537.36 (KHTML, like Gecko) Chrome/95.0.4638.69 Safari/537.36",
         [
          "Bitcoin",
          "Ethereum (ERC20)",
          "0xb9fc2fe63b2a6c003f1c324c3bfa53259162181a"
         ],
         "moderator",
         1987
        ],
        [
         8,
         "Ava",
         "Taylor",
         "",
         27,
         "female",
         "ava.taylor@x.dummyjson.com",
         "+1 458-853-7877",
         "avat",
         "avatpass",
         "1997-8-25",
         "https://dummyjson.com/icon/avat/128",
         "AB-",
         168.47,
         57.08,
         "Hazel",
         [
          "Red",
          "Kinky"
         ],
         "150.73.197.233",
         [
          "1197 First Street",
          "Fort Worth",
          [
           -81.194833,
           -87.948158
          ],
          "United States",
          "24771",
          "Rhode Island",
          "RI"
         ],
         "8d:2e:c2:d6:e7:a8",
         "University of Wisconsin--Madison",
         [
          "01/29",
          "6412128967460199",
          "Maestro",
          "CNY",
          "TS66YQ8R16OX7IJKLUONDQHP"
         ],
         [
          [
           "930 Lincoln Street",
           "Austin",
           [
            87.970083,
            -42.769351
           ],
           "United States",
           "47592",
           "Colorado",
           "CO"
          ],
          "Marketing",
          "Nikolaus Inc",
          "Chief Executive Officer"
         ],
         "297-762",
         "257-419-109",
         "Mozilla/5.0 (Windows NT 10.0; Win64; x64) AppleWebKit/537.36 (KHTML, like Gecko) Chrome/96.0.4664.45 Safari/537.36",
         [
          "Bitcoin",
          "Ethereum (ERC20)",
          "0xb9fc2fe63b2a6c003f1c324c3bfa53259162181a"
         ],
         "moderator",
         1998
        ],
        [
         9,
         "Ethan",
         "Martinez",
         "",
         33,
         "male",
         "ethan.martinez@x.dummyjson.com",
         "+92 933-608-5081",
         "ethanm",
         "ethanmpass",
         "1991-2-12",
         "https://dummyjson.com/icon/ethanm/128",
         "AB+",
         159.19,
         68.81,
         "Hazel",
         [
          "Purple",
          "Curly"
         ],
         "63.191.127.71",
         [
          "466 Pine Street",
          "San Antonio",
          [
           74.074918,
           -25.312703
          ],
          "United States",
          "72360",
          "Louisiana",
          "LA"
         ],
         "59:e:9e:e3:29:da",
         "Syracuse University",
         [
          "02/25",
          "7183482484317509",
          "Visa",
          "CAD",
          "CW5U5KS23U7JYD22TVQL7SIH"
         ],
         [
          [
           "1597 Oak Street",
           "Chicago",
           [
            -67.45208,
            -23.209886
           ],
           "United States",
           "28100",
           "Florida",
           "FL"
          ],
          "Support",
          "Gorczany - Gottlieb",
          "Legal Counsel"
         ],
         "790-434",
         "569-650-348",
         "Mozilla/5.0 (Windows NT 10.0; Win64; x64) AppleWebKit/537.36 (KHTML, like Gecko) Chrome/95.0.4638.69 Safari/537.36",
         [
          "Bitcoin",
          "Ethereum (ERC20)",
          "0xb9fc2fe63b2a6c003f1c324c3bfa53259162181a"
         ],
         "moderator",
         1992
        ],
        [
         10,
         "Isabella",
         "Anderson",
         "Davis",
         31,
         "female",
         "isabella.anderson@x.dummyjson.com",
         "+49 770-658-4885",
         "isabellad",
         "isabelladpass",
         "1993-6-10",
         "https://dummyjson.com/icon/isabellad/128",
         "A-",
         150.56,
         50.1,
         "Brown",
         [
          "Blonde",
          "Curly"
         ],
         "114.9.114.205",
         [
          "1964 Oak Street",
          "New York",
          [
           41.331324,
           151.782727
          ],
          "United States",
          "89352",
          "Utah",
          "UT"
         ],
         "b1:b0:d0:a2:82:80",
         "California Institute of Technology (Caltech)",
         [
          "05/27",
          "6118714010128731",
          "NPS",
          "CNY",
          "GBZRGDMKUOTO34HBCI7A986J"
         ],
         [
          [
           "1029 Adams Street",
           "San Diego",
           [
            -25.843393,
            -62.692681
           ],
           "United States",
           "63847",
           "Maryland",
           "MD"
          ],
          "Marketing",
          "Pollich - Hilpert",
          "Chief Financial Officer"
         ],
         "127-297",
         "902-438-728",
         "Mozilla/5.0 (Macintosh; Intel Mac OS X 10_15_7) AppleWebKit/537.36 (KHTML, like Gecko) Chrome/96.0.4664.93 Safari/537.36",
         [
          "Bitcoin",
          "Ethereum (ERC20)",
          "0xb9fc2fe63b2a6c003f1c324c3bfa53259162181a"
         ],
         "moderator",
         1994
        ],
        [
         11,
         "Liam",
         "Garcia",
         "",
         29,
         "male",
         "liam.garcia@x.dummyjson.com",
         "+92 870-217-6201",
         "liamg",
         "liamgpass",
         "1995-6-6",
         "https://dummyjson.com/icon/liamg/128",
         "AB-",
         162.32,
         93.16,
         "Violet",
         [
          "Red",
          "Wavy"
         ],
         "56.201.85.9",
         [
          "576 Fifth Street",
          "Denver",
          [
           -66.218177,
           -145.340165
          ],
          "United States",
          "57252",
          "South Dakota",
          "SD"
         ],
         "31:9a:28:8b:99:6c",
         "Ohio State University",
         [
          "02/27",
          "2302893002194899",
          "Discover",
          "GBP",
          "O8ENPRB9UVBL2EFZ7601KC09"
         ],
         [
          [
           "27 Cedar Street",
           "Philadelphia",
           [
            -81.841588,
            31.79423
           ],
           "United States",
           "79574",
           "Connecticut",
           "CT"
          ],
          "Services",
          "Considine - Torp",
          "Web Developer"
         ],
         "326-604",
         "933-784-949",
         "Mozilla/5.0 (Macintosh; Intel Mac OS X 10_15_7) AppleWebKit/537.36 (KHTML, like Gecko) Chrome/97.0.4692.99 Safari/537.36",
         [
          "Bitcoin",
          "Ethereum (ERC20)",
          "0xb9fc2fe63b2a6c003f1c324c3bfa53259162181a"
         ],
         "moderator",
         1996
        ],
        [
         12,
         "Mia",
         "Rodriguez",
         "",
         24,
         "female",
         "mia.rodriguez@x.dummyjson.com",
         "+49 989-461-8403",
         "miar",
         "miarpass",
         "2000-8-4",
         "https://dummyjson.com/icon/miar/128",
         "O-",
         188.08,
         56.03,
         "Blue",
         [
          "Purple",
          "Wavy"
         ],
         "11.72.253.90",
         [
          "1627 Sixth Street",
          "Jacksonville",
          [
           24.857497,
           -34.865429
          ],
          "United States",
          "41810",
          "West Virginia",
          "WV"
         ],
         "53:d7:a4:6:1e:58",
         "William & Mary",
         [
          "05/26",
          "1539872303456158",
          "Carte Bancaire",
          "CAD",
          "EBMD95RLK8B82ZAZNXBJ09V5"
         ],
         [
          [
           "1039 Washington Street",
           "Philadelphia",
           [
            85.455933,
            164.246103
           ],
           "United States",
           "57518",
           "New Jersey",
           "NJ"
          ],
          "Accounting",
          "Miller, Schowalter and Wisozk",
          "Business Analyst"
         ],
         "754-660",
         "749-524-124",
         "Mozilla/5.0 (Macintosh; Intel Mac OS X 10_15_7) AppleWebKit/537.36 (KHTML, like Gecko) Chrome/95.0.4638.54 Safari/537.36",
         [
          "Bitcoin",
          "Ethereum (ERC20)",
          "0xb9fc2fe63b2a6c003f1c324c3bfa53259162181a"
         ],
         "moderator",
         2001
        ],
        [
         13,
         "Noah",
         "Hernandez",
         "",
         40,
         "male",
         "noah.hernandez@x.dummyjson.com",
         "+49 393-605-6968",
         "noahh",
         "noahhpass",
         "1984-6-5",
         "https://dummyjson.com/icon/noahh/128",
         "AB+",
         188.62,
         69.49,
         "Brown",
         [
          "Red",
          "Curly"
         ],
         "169.154.126.57",
         [
          "1413 Maple Street",
          "New York",
          [
           -25.0377,
           -151.70469
          ],
          "United States",
          "73696",
          "North Dakota",
          "ND"
         ],
         "d4:fe:ae:8f:eb:a3",
         "New York University (NYU)",
         [
          "05/26",
          "1681772579326385",
          "Discover",
          "SEK",
          "G4UIZKIQVPJM9D31XQVR1E9Z"
         ],
         [
          [
           "62 Third Street",
           "Seattle",
           [
            19.490447,
            -13.173207
           ],
           "United States",
           "83474",
           "Oregon",
           "OR"
          ],
          "Engineering",
          "Botsford, Marquardt and Roberts",
          "Database Administrator"
         ],
         "877-628",
         "660-847-389",
         "Mozilla/5.0 (Windows NT 10.0; Win64; x64) AppleWebKit/537.36 (KHTML, like Gecko) Chrome/95.0.4638.54 Safari/537.36",
         [
          "Bitcoin",
          "Ethereum (ERC20)",
          "0xb9fc2fe63b2a6c003f1c324c3bfa53259162181a"
         ],
         "moderator",
         1985
        ],
        [
         14,
         "Charlotte",
         "Lopez",
         "Martinez",
         36,
         "female",
         "charlotte.lopez@x.dummyjson.com",
         "+44 373-953-5028",
         "charlottem",
         "charlottempass",
         "1988-6-8",
         "https://dummyjson.com/icon/charlottem/128",
         "AB-",
         178.92,
         82.46,
         "Brown",
         [
          "Gray",
          "Kinky"
         ],
         "119.103.95.60",
         [
          "208 Second Street",
          "Columbus",
          [
           -44.443762,
           -151.420561
          ],
          "United States",
          "42044",
          "Ohio",
          "OH"
         ],
         "f6:ff:37:aa:6c:f1",
         "Northeastern University",
         [
          "02/27",
          "5675368650551956",
          "Maestro",
          "CNY",
          "FKK6U634LGI3E7N517DLVVTL"
         ],
         [
          [
           "569 Jefferson Street",
           "Los Angeles",
           [
            -18.371256,
            22.566258
           ],
           "United States",
           "17779",
           "Montana",
           "MT"
          ],
          "Accounting",
          "Zulauf and Sons",
          "Chief Executive Officer"
         ],
         "364-782",
         "255-491-479",
         "Mozilla/5.0 (Windows NT 10.0; Win64; x64) AppleWebKit/537.36 (KHTML, like Gecko) Chrome/96.0.4664.45 Safari/537.36",
         [
          "Bitcoin",
          "Ethereum (ERC20)",
          "0xb9fc2fe63b2a6c003f1c324c3bfa53259162181a"
         ],
         "moderator",
         1989
        ],
        [
         15,
         "William",
         "Gonzalez",
         "",
         32,
         "male",
         "william.gonzalez@x.dummyjson.com",
         "+81 905-252-7319",
         "williamg",
         "williamgpass",
         "1992-3-27",
         "https://dummyjson.com/icon/williamg/128",
         "B-",
         173.21,
         82.41,
         "Hazel",
         [
          "Gray",
          "Curly"
         ],
         "250.2.241.204",
         [
          "31 Maple Street",
          "San Jose",
          [
           8.152876,
           113.29799
          ],
          "United States",
          "78243",
          "Utah",
          "UT"
         ],
         "f5:68:28:f9:ec:89",
         "Tufts University",
         [
          "03/27",
          "6053000793215148",
          "Mir",
          "EUR",
          "AR01SNDMKGECX0EYH7UCW61W"
         ],
         [
          [
           "1538 Eighth Street",
           "San Jose",
           [
            24.169361,
            -29.395167
           ],
           "United States",
           "29673",
           "Missouri",
           "MO"
          ],
          "Marketing",
          "Spinka - Dickinson",
          "Software Architect"
         ],
         "830-515",
         "690-544-755",
         "Mozilla/5.0 (Macintosh; Intel Mac OS X 10_15_7) AppleWebKit/537.36 (KHTML, like Gecko) Chrome/96.0.4664.93 Safari/537.36",
         [
          "Bitcoin",
          "Ethereum (ERC20)",
          "0xb9fc2fe63b2a6c003f1c324c3bfa53259162181a"
         ],
         "moderator",
         1993
        ],
        [
         16,
         "Avery",
         "Perez",
         "",
         25,
         "female",
         "avery.perez@x.dummyjson.com",
         "+61 731-431-3457",
         "averyp",
         "averyppass",
         "1999-3-10",
         "https://dummyjson.com/icon/averyp/128",
         "O-",
         172.68,
         93.9,
         "Brown",
         [
          "Green",
          "Curly"
         ],
         "131.217.4.214",
         [
          "1125 First Street",
          "Columbus",
          [
           12.789127,
           85.792598
          ],
          "United States",
          "30973",
          "Iowa",
          "IA"
         ],
         "b3:ff:f3:c5:37:46",
         "Harvard University",
         [
          "04/27",
          "0961014686718571",
          "Carte Bancaire",
          "USD",
          "28JYZAY4KYT48YI8QW40PWXR"
         ],
         [
          [
           "183 Maple Street",
           "New York",
           [
            -53.318189,
            105.835271
           ],
           "United States",
           "45238",
           "Rhode Island",
           "RI"
          ],
          "Accounting",
          "Herzog Inc",
          "Database Administrator"
         ],
         "348-493",
         "679-523-686",
         "Mozilla/5.0 (Macintosh; Intel Mac OS X 10_15_7) AppleWebKit/537.36 (KHTML, like Gecko) Chrome/95.0.4638.69 Safari/537.36",
         [
          "Bitcoin",
          "Ethereum (ERC20)",
          "0xb9fc2fe63b2a6c003f1c324c3bfa53259162181a"
         ],
         "user",
         2000
        ],
        [
         17,
         "Evelyn",
         "Sanchez",
         "",
         37,
         "female",
         "evelyn.sanchez@x.dummyjson.com",
         "+1 623-880-6871",
         "evelyns",
         "evelynspass",
         "1987-10-13",
         "https://dummyjson.com/icon/evelyns/128",
         "B+",
         184.08,
         83.15,
         "Violet",
         [
          "Blue",
          "Curly"
         ],
         "87.114.135.146",
         [
          "1170 Lincoln Street",
          "San Diego",
          [
           -83.31484,
           11.768071
          ],
          "United States",
          "43423",
          "Wyoming",
          "WY"
         ],
         "f8:e5:bd:43:bc:d8",
         "Washington University in St. Louis",
         [
          "04/29",
          "4557521697420096",
          "UnionPay",
          "SEK",
          "KN8XAPR2J5UB8AKDI1EVJ56R"
         ],
         [
          [
           "1802 Ninth Street",
           "San Diego",
           [
            29.034592,
            -78.004598
           ],
           "United States",
           "89416",
           "Minnesota",
           "MN"
          ],
          "Support",
          "Predovic - Johns",
          "Chief Financial Officer"
         ],
         "604-817",
         "689-332-644",
         "Mozilla/5.0 (Macintosh; Intel Mac OS X 10_15_7) AppleWebKit/537.36 (KHTML, like Gecko) Chrome/96.0.4664.45 Safari/537.36",
         [
          "Bitcoin",
          "Ethereum (ERC20)",
          "0xb9fc2fe63b2a6c003f1c324c3bfa53259162181a"
         ],
         "user",
         1988
        ],
        [
         18,
         "Logan",
         "Torres",
         "",
         31,
         "male",
         "logan.torres@x.dummyjson.com",
         "+81 507-434-8733",
         "logant",
         "logantpass",
         "1993-10-26",
         "https://dummyjson.com/icon/logant/128",
         "A+",
         190.04,
         72.43,
         "Green",
         [
          "Green",
          "Curly"
         ],
         "155.98.15.162",
         [
          "907 Seventh Street",
          "Columbus",
          [
           -64.846516,
           174.775744
          ],
          "United States",
          "78805",
          "Arkansas",
          "AR"
         ],
         "40:d:5c:1:7d:bf",
         "University of Illinois--Urbana-Champaign",
         [
          "05/26",
          "7884268130452098",
          "UnionPay",
          "NZD",
          "HZM7V9PYHPZBN72IDFPXGN8Q"
         ],
         [
          [
           "947 Main Street",
           "Denver",
           [
            -24.654063,
            -147.255268
           ],
           "United States",
           "71896",
           "Minnesota",
           "MN"
          ],
          "Training",
          "Jast - Nader",
          "Data Analyst"
         ],
         "576-218",
         "806-639-934",
         "Mozilla/5.0 (Macintosh; Intel Mac OS X 10_15_7) AppleWebKit/537.36 (KHTML, like Gecko) Chrome/96.0.4664.45 Safari/537.36",
         [
          "Bitcoin",
          "Ethereum (ERC20)",
          "0xb9fc2fe63b2a6c003f1c324c3bfa53259162181a"
         ],
         "user",
         1994
        ],
        [
         19,
         "Abigail",
         "Rivera",
         "",
         28,
         "female",
         "abigail.rivera@x.dummyjson.com",
         "+91 228-363-7806",
         "abigailr",
         "abigailrpass",
         "1996-10-11",
         "https://dummyjson.com/icon/abigailr/128",
         "B+",
         186.39,
         74.61,
         "Violet",
         [
          "Blue",
          "Kinky"
         ],
         "19.183.240.94",
         [
          "996 Oak Street",
          "Chicago",
          [
           44.321308,
           -3.723903
          ],
          "United States",
          "11407",
          "New Mexico",
          "NM"
         ],
         "1d:a6:58:2a:e5:e4",
         "California Institute of Technology (Caltech)",
         [
          "02/28",
          "4832361886407551",
          "RuPay",
          "BRL",
          "O02LHDNNFCVSM6D4H81DIQHE"
         ],
         [
          [
           "1402 Adams Street",
           "Austin",
           [
            25.672938,
            -76.54967
           ],
           "United States",
           "51456",
           "Wisconsin",
           "WI"
          ],
          "Human Resources",
          "Prohaska - Thiel",
          "Business Analyst"
         ],
         "173-637",
         "655-823-929",
         "Mozilla/5.0 (Windows NT 10.0; Win64; x64) AppleWebKit/537.36 (KHTML, like Gecko) Edge/97.0.1072.76 Safari/537.36",
         [
          "Bitcoin",
          "Ethereum (ERC20)",
          "0xb9fc2fe63b2a6c003f1c324c3bfa53259162181a"
         ],
         "user",
         1997
        ],
        [
         20,
         "Jackson",
         "Evans",
         "",
         34,
         "male",
         "jackson.evans@x.dummyjson.com",
         "+44 468-628-6686",
         "jacksone",
         "jacksonepass",
         "1990-11-30",
         "https://dummyjson.com/icon/jacksone/128",
         "O-",
         162.57,
         74.37,
         "Green",
         [
          "Red",
          "Straight"
         ],
         "221.127.144.198",
         [
          "1873 Main Street",
          "New York",
          [
           34.722451,
           63.448927
          ],
          "United States",
          "26600",
          "Arkansas",
          "AR"
         ],
         "81:14:1:97:88:85",
         "Ohio State University",
         [
          "04/26",
          "2109192842527801",
          "BC Card",
          "EUR",
          "TX26FO9B7YR2VHYDSJBE32AX"
         ],
         [
          [
           "1706 First Street",
           "Chicago",
           [
            -80.416937,
            -83.224516
           ],
           "United States",
           "34725",
           "Hawaii",
           "HI"
          ],
          "Legal",
          "Kuhlman LLC",
          "Web Developer"
         ],
         "843-260",
         "248-787-886",
         "Mozilla/5.0 (Macintosh; Intel Mac OS X 10_15_7) AppleWebKit/537.36 (KHTML, like Gecko) Chrome/97.0.4692.99 Safari/537.36",
         [
          "Bitcoin",
          "Ethereum (ERC20)",
          "0xb9fc2fe63b2a6c003f1c324c3bfa53259162181a"
         ],
         "user",
         1991
        ],
        [
         21,
         "Madison",
         "Collins",
         "",
         26,
         "female",
         "madison.collins@x.dummyjson.com",
         "+81 259-957-5711",
         "madisonc",
         "madisoncpass",
         "1998-3-7",
         "https://dummyjson.com/icon/madisonc/128",
         "B-",
         189.28,
         56.96,
         "Red",
         [
          "Gray",
          "Curly"
         ],
         "85.34.1.204",
         [
          "1892 Lincoln Street",
          "Philadelphia",
          [
           52.993694,
           160.486892
          ],
          "United States",
          "62091",
          "New Jersey",
          "NJ"
         ],
         "13:b0:d0:23:4d:26",
         "University of Pennsylvania",
         [
          "04/28",
          "5549175461210252",
          "Mir",
          "CNY",
          "Y0WSN5IED255808SIYBUOMWO"
         ],
         [
          [
           "1438 Main Street",
           "San Diego",
           [
            1.629613,
            23.232982
           ],
           "United States",
           "63144",
           "Delaware",
           "DE"
          ],
          "Engineering",
          "Mayer - Smitham",
          "Chief Technology Officer"
         ],
         "716-166",
         "457-258-950",
         "Mozilla/5.0 (Macintosh; Intel Mac OS X 10_15_7) AppleWebKit/537.36 (KHTML, like Gecko) Chrome/97.0.4692.99 Safari/537.36",
         [
          "Bitcoin",
          "Ethereum (ERC20)",
          "0xb9fc2fe63b2a6c003f1c324c3bfa53259162181a"
         ],
         "user",
         1999
        ],
        [
         22,
         "Elijah",
         "Stewart",
         "",
         33,
         "male",
         "elijah.stewart@x.dummyjson.com",
         "+44 468-357-7872",
         "elijahs",
         "elijahspass",
         "1991-10-22",
         "https://dummyjson.com/icon/elijahs/128",
         "A-",
         195.33,
         81.64,
         "Blue",
         [
          "Purple",
          "Straight"
         ],
         "23.87.135.62",
         [
          "1701 Eighth Street",
          "Columbus",
          [
           -54.833799,
           -174.504027
          ],
          "United States",
          "31585",
          "Illinois",
          "IL"
         ],
         "75:17:c6:35:fc:6d",
         "Georgetown University",
         [
          "05/27",
          "0798116671286564",
          "JCB",
          "GBP",
          "E1XUHCC1N39WGU6XESSK1CAO"
         ],
         [
          [
           "155 Ninth Street",
           "Washington",
           [
            61.279254,
            -12.607767
           ],
           "United States",
           "19039",
           "South Dakota",
           "SD"
          ],
          "Legal",
          "Langworth Group",
          "Business Analyst"
         ],
         "520-394",
         "287-380-801",
         "Mozilla/5.0 (Macintosh; Intel Mac OS X 10_15_7) AppleWebKit/537.36 (KHTML, like Gecko) Chrome/96.0.4664.93 Safari/537.36",
         [
          "Bitcoin",
          "Ethereum (ERC20)",
          "0xb9fc2fe63b2a6c003f1c324c3bfa53259162181a"
         ],
         "user",
         1992
        ],
        [
         23,
         "Chloe",
         "Morales",
         "",
         39,
         "female",
         "chloe.morales@x.dummyjson.com",
         "+92 468-541-7133",
         "chloem",
         "chloempass",
         "1985-4-21",
         "https://dummyjson.com/icon/chloem/128",
         "O+",
         185.07,
         63.97,
         "Brown",
         [
          "Red",
          "Kinky"
         ],
         "66.78.20.21",
         [
          "401 Fourth Street",
          "Dallas",
          [
           -30.190759,
           -58.705979
          ],
          "United States",
          "54972",
          "New Jersey",
          "NJ"
         ],
         "fc:f:29:e1:37:b8",
         "Syracuse University",
         [
          "05/28",
          "3150496938377346",
          "American Express",
          "PKR",
          "P7YLGOOBWBD1SRWDWSFO3PZ0"
         ],
         [
          [
           "269 Third Street",
           "Houston",
           [
            40.098115,
            -1.762972
           ],
           "United States",
           "10385",
           "North Carolina",
           "NC"
          ],
          "Sales",
          "Grady LLC",
          "Database Administrator"
         ],
         "913-597",
         "938-883-163",
         "Mozilla/5.0 (Windows NT 10.0; Win64; x64) AppleWebKit/537.36 (KHTML, like Gecko) Chrome/96.0.4664.93 Safari/537.36",
         [
          "Bitcoin",
          "Ethereum (ERC20)",
          "0xb9fc2fe63b2a6c003f1c324c3bfa53259162181a"
         ],
         "user",
         1986
        ],
        [
         24,
         "Mateo",
         "Nguyen",
         "",
         30,
         "male",
         "mateo.nguyen@x.dummyjson.com",
         "+1 341-597-6694",
         "mateon",
         "mateonpass",
         "1994-6-2",
         "https://dummyjson.com/icon/mateon/128",
         "O+",
         174.29,
         59.98,
         "Red",
         [
          "Purple",
          "Wavy"
         ],
         "192.57.144.7",
         [
          "1578 Fourth Street",
          "Columbus",
          [
           -32.828675,
           -82.557354
          ],
          "United States",
          "20673",
          "Missouri",
          "MO"
         ],
         "a7:26:10:7a:36:29",
         "Columbia University",
         [
          "03/26",
          "5545852224851851",
          "JCB",
          "TRY",
          "WEBE9SBX588VFUCVCA6KFHWB"
         ],
         [
          [
           "1967 Jefferson Street",
           "Dallas",
           [
            75.982676,
            164.459743
           ],
           "United States",
           "78527",
           "Louisiana",
           "LA"
          ],
          "Accounting",
          "Spinka LLC",
          "Business Analyst"
         ],
         "229-249",
         "416-877-230",
         "Mozilla/5.0 (Windows NT 10.0; Win64; x64) AppleWebKit/537.36 (KHTML, like Gecko) Chrome/95.0.4638.69 Safari/537.36",
         [
          "Bitcoin",
          "Ethereum (ERC20)",
          "0xb9fc2fe63b2a6c003f1c324c3bfa53259162181a"
         ],
         "user",
         1995
        ],
        [
         25,
         "Harper",
         "Kelly",
         "Evans",
         27,
         "female",
         "harper.kelly@x.dummyjson.com",
         "+92 518-863-2863",
         "harpere",
         "harperepass",
         "1997-3-3",
         "https://dummyjson.com/icon/harpere/128",
         "AB-",
         184.32,
         81.69,
         "Amber",
         [
          "Red",
          "Curly"
         ],
         "174.111.61.162",
         [
          "1591 Adams Street",
          "Philadelphia",
          [
           -26.832913,
           -75.445017
          ],
          "United States",
          "69521",
          "New York",
          "NY"
         ],
         "b:ff:33:67:94:e4",
         "Boston College",
         [
          "04/26",
          "1298153007505587",
          "RuPay",
          "JPY",
          "DJI19LCUNUHP6YSGPY52D5VG"
         ],
         [
          [
           "16 Maple Street",
           "Austin",
           [
            -15.423746,
            149.298887
           ],
           "United States",
           "68274",
           "North Carolina",
           "NC"
          ],
          "Legal",
          "Leffler, Rolfson and Becker",
          "Business Development Manager"
         ],
         "592-557",
         "209-544-548",
         "Mozilla/5.0 (Macintosh; Intel Mac OS X 10_15_7) AppleWebKit/537.36 (KHTML, like Gecko) Chrome/97.0.4692.99 Safari/537.36",
         [
          "Bitcoin",
          "Ethereum (ERC20)",
          "0xb9fc2fe63b2a6c003f1c324c3bfa53259162181a"
         ],
         "user",
         1998
        ],
        [
         26,
         "Evelyn",
         "Gonzalez",
         "",
         35,
         "female",
         "evelyn.gonzalez@x.dummyjson.com",
         "+61 708-508-4638",
         "evelyng",
         "evelyngpass",
         "1989-2-5",
         "https://dummyjson.com/icon/evelyng/128",
         "O+",
         168.94,
         58.47,
         "Red",
         [
          "Black",
          "Wavy"
         ],
         "42.52.74.232",
         [
          "1065 Lincoln Street",
          "Dallas",
          [
           67.768359,
           71.268643
          ],
          "United States",
          "84898",
          "Maine",
          "ME"
         ],
         "89:5e:5a:2a:72:42",
         "Washington University in St. Louis",
         [
          "03/28",
          "9584313788145560",
          "RuPay",
          "INR",
          "X4UPULQG61VIGA97USY7AAEB"
         ],
         [
          [
           "584 Ninth Street",
           "Jacksonville",
           [
            26.014021,
            40.572436
           ],
           "United States",
           "45633",
           "Wisconsin",
           "WI"
          ],
          "Accounting",
          "Tromp, Gaylord and Weber",
          "Project Manager"
         ],
         "569-275",
         "487-680-127",
         "Mozilla/5.0 (Windows NT 10.0; Win64; x64) AppleWebKit/537.36 (KHTML, like Gecko) Chrome/95.0.4638.54 Safari/537.36",
         [
          "Bitcoin",
          "Ethereum (ERC20)",
          "0xb9fc2fe63b2a6c003f1c324c3bfa53259162181a"
         ],
         "user",
         1990
        ],
        [
         27,
         "Daniel",
         "Cook",
         "",
         41,
         "male",
         "daniel.cook@x.dummyjson.com",
         "+44 254-761-6843",
         "danielc",
         "danielcpass",
         "1983-12-25",
         "https://dummyjson.com/icon/danielc/128",
         "AB+",
         186.21,
         83.72,
         "Brown",
         [
          "Blonde",
          "Curly"
         ],
         "1.61.73.142",
         [
          "1163 Pine Street",
          "Los Angeles",
          [
           -3.456681,
           -134.937482
          ],
          "United States",
          "58781",
          "Nevada",
          "NV"
         ],
         "6e:73:dc:3a:85:10",
         "Columbia University",
         [
          "01/26",
          "8452555751345228",
          "Korean Express",
          "NZD",
          "A8DBPECO4X6D09WYOVT8UZK8"
         ],
         [
          [
           "938 Fifth Street",
           "San Francisco",
           [
            21.323588,
            -83.531427
           ],
           "United States",
           "45305",
           "South Dakota",
           "SD"
          ],
          "Support",
          "Morissette, Baumbach and Auer",
          "Legal Counsel"
         ],
         "585-905",
         "645-515-583",
         "Mozilla/5.0 (Windows NT 10.0; Win64; x64; rv:97.0) Gecko/20100101 Firefox/97.0",
         [
          "Bitcoin",
          "Ethereum (ERC20)",
          "0xb9fc2fe63b2a6c003f1c324c3bfa53259162181a"
         ],
         "user",
         1984
        ],
        [
         28,
         "Lily",
         "Lee",
         "Brown",
         29,
         "female",
         "lily.lee@x.dummyjson.com",
         "+1 808-757-9867",
         "lilyb",
         "lilybpass",
         "1995-12-3",
         "https://dummyjson.com/icon/lilyb/128",
         "AB-",
         181.42,
         51.49,
         "Gray",
         [
          "Purple",
          "Straight"
         ],
         "67.184.255.96",
         [
          "1946 Oak Street",
          "Phoenix",
          [
           -9.87059,
           -72.336845
          ],
          "United States",
          "41540",
          "Massachusetts",
          "MA"
         ],
         "18:b6:c7:a:50:3f",
         "Johns Hopkins University",
         [
          "05/29",
          "2903637820228856",
          "Visa",
          "JPY",
          "BKX6ZWB8UJZD09RFOWFPPD3C"
         ],
         [
          [
           "1735 Cedar Street",
           "Phoenix",
           [
            72.231441,
            -158.147245
           ],
           "United States",
           "85797",
           "Wyoming",
           "WY"
          ],
          "Product Management",
          "Cremin Inc",
          "Quality Assurance Engineer"
         ],
         "229-776",
         "358-185-671",
         "Mozilla/5.0 (Windows NT 10.0; Win64; x64) AppleWebKit/537.36 (KHTML, like Gecko) Edge/97.0.1072.76 Safari/537.36",
         [
          "Bitcoin",
          "Ethereum (ERC20)",
          "0xb9fc2fe63b2a6c003f1c324c3bfa53259162181a"
         ],
         "user",
         1996
        ],
        [
         29,
         "Henry",
         "Hill",
         "",
         38,
         "male",
         "henry.hill@x.dummyjson.com",
         "+1 240-833-4680",
         "henryh",
         "henryhpass",
         "1986-8-19",
         "https://dummyjson.com/icon/henryh/128",
         "O-",
         180.25,
         95.84,
         "Gray",
         [
          "Black",
          "Straight"
         ],
         "194.43.55.202",
         [
          "1837 Maple Street",
          "Indianapolis",
          [
           35.498256,
           154.088476
          ],
          "United States",
          "81783",
          "Delaware",
          "DE"
         ],
         "fa:c3:1b:21:5f:44",
         "University of Illinois--Urbana-Champaign",
         [
          "02/26",
          "7262597174206766",
          "Diners Club International",
          "SEK",
          "7N3JP8KN9AUNXOWRQGAU2JX6"
         ],
         [
          [
           "1651 Lincoln Street",
           "San Francisco",
           [
            -59.936335,
            -12.405368
           ],
           "United States",
           "61805",
           "West Virginia",
           "WV"
          ],
          "Services",
          "Gerlach, Funk and Schoen",
          "Sales Manager"
         ],
         "118-957",
         "925-686-100",
         "Mozilla/5.0 (Windows NT 10.0; Win64; x64) AppleWebKit/537.36 (KHTML, like Gecko) Chrome/96.0.4664.93 Safari/537.36",
         [
          "Bitcoin",
          "Ethereum (ERC20)",
          "0xb9fc2fe63b2a6c003f1c324c3bfa53259162181a"
         ],
         "user",
         1987
        ],
        [
         30,
         "Addison",
         "Wright",
         "",
         32,
         "female",
         "addison.wright@x.dummyjson.com",
         "+1 514-384-3300",
         "addisonw",
         "addisonwpass",
         "1992-1-3",
         "https://dummyjson.com/icon/addisonw/128",
         "B+",
         179.32,
         76.93,
         "Brown",
         [
          "Blonde",
          "Straight"
         ],
         "11.35.69.81",
         [
          "568 Tenth Street",
          "San Francisco",
          [
           20.946052,
           100.228822
          ],
          "United States",
          "54698",
          "Montana",
          "MT"
         ],
         "fb:0:94:21:16:c",
         "Syracuse University",
         [
          "05/28",
          "3756638438861539",
          "Carte Bancaire",
          "JPY",
          "OOPQTNZ74OLPKVT7TGB89UQL"
         ],
         [
          [
           "1173 Eighth Street",
           "San Diego",
           [
            65.324413,
            87.142893
           ],
           "United States",
           "85777",
           "Michigan",
           "MI"
          ],
          "Services",
          "Kreiger Inc",
          "Human Resources Manager"
         ],
         "415-286",
         "804-492-390",
         "Mozilla/5.0 (Macintosh; Intel Mac OS X 10_15_7) AppleWebKit/537.36 (KHTML, like Gecko) Chrome/96.0.4664.93 Safari/537.36",
         [
          "Bitcoin",
          "Ethereum (ERC20)",
          "0xb9fc2fe63b2a6c003f1c324c3bfa53259162181a"
         ],
         "user",
         1993
        ]
       ],
       "datasetInfos": [],
       "dbfsResultPath": null,
       "isJsonSchema": true,
       "metadata": {},
       "overflow": false,
       "plotOptions": {
        "customPlotOptions": {},
        "displayType": "table",
        "pivotAggregation": null,
        "pivotColumns": null,
        "xColumns": null,
        "yColumns": null
       },
       "removedWidgets": [],
       "schema": [
        {
         "metadata": "{}",
         "name": "id",
         "type": "\"long\""
        },
        {
         "metadata": "{}",
         "name": "firstName",
         "type": "\"string\""
        },
        {
         "metadata": "{}",
         "name": "lastName",
         "type": "\"string\""
        },
        {
         "metadata": "{}",
         "name": "maidenName",
         "type": "\"string\""
        },
        {
         "metadata": "{}",
         "name": "age",
         "type": "\"long\""
        },
        {
         "metadata": "{}",
         "name": "gender",
         "type": "\"string\""
        },
        {
         "metadata": "{}",
         "name": "email",
         "type": "\"string\""
        },
        {
         "metadata": "{}",
         "name": "phone",
         "type": "\"string\""
        },
        {
         "metadata": "{}",
         "name": "username",
         "type": "\"string\""
        },
        {
         "metadata": "{}",
         "name": "password",
         "type": "\"string\""
        },
        {
         "metadata": "{}",
         "name": "birthDate",
         "type": "\"string\""
        },
        {
         "metadata": "{}",
         "name": "image",
         "type": "\"string\""
        },
        {
         "metadata": "{}",
         "name": "bloodGroup",
         "type": "\"string\""
        },
        {
         "metadata": "{}",
         "name": "height",
         "type": "\"double\""
        },
        {
         "metadata": "{}",
         "name": "weight",
         "type": "\"double\""
        },
        {
         "metadata": "{}",
         "name": "eyeColor",
         "type": "\"string\""
        },
        {
         "metadata": "{}",
         "name": "hair",
         "type": "{\"type\":\"struct\",\"fields\":[{\"name\":\"color\",\"type\":\"string\",\"nullable\":true,\"metadata\":{}},{\"name\":\"type\",\"type\":\"string\",\"nullable\":true,\"metadata\":{}}]}"
        },
        {
         "metadata": "{}",
         "name": "ip",
         "type": "\"string\""
        },
        {
         "metadata": "{}",
         "name": "address",
         "type": "{\"type\":\"struct\",\"fields\":[{\"name\":\"address\",\"type\":\"string\",\"nullable\":true,\"metadata\":{}},{\"name\":\"city\",\"type\":\"string\",\"nullable\":true,\"metadata\":{}},{\"name\":\"coordinates\",\"type\":{\"type\":\"struct\",\"fields\":[{\"name\":\"lat\",\"type\":\"double\",\"nullable\":true,\"metadata\":{}},{\"name\":\"lng\",\"type\":\"double\",\"nullable\":true,\"metadata\":{}}]},\"nullable\":true,\"metadata\":{}},{\"name\":\"country\",\"type\":\"string\",\"nullable\":true,\"metadata\":{}},{\"name\":\"postalCode\",\"type\":\"string\",\"nullable\":true,\"metadata\":{}},{\"name\":\"state\",\"type\":\"string\",\"nullable\":true,\"metadata\":{}},{\"name\":\"stateCode\",\"type\":\"string\",\"nullable\":true,\"metadata\":{}}]}"
        },
        {
         "metadata": "{}",
         "name": "macAddress",
         "type": "\"string\""
        },
        {
         "metadata": "{}",
         "name": "university",
         "type": "\"string\""
        },
        {
         "metadata": "{}",
         "name": "bank",
         "type": "{\"type\":\"struct\",\"fields\":[{\"name\":\"cardExpire\",\"type\":\"string\",\"nullable\":true,\"metadata\":{}},{\"name\":\"cardNumber\",\"type\":\"string\",\"nullable\":true,\"metadata\":{}},{\"name\":\"cardType\",\"type\":\"string\",\"nullable\":true,\"metadata\":{}},{\"name\":\"currency\",\"type\":\"string\",\"nullable\":true,\"metadata\":{}},{\"name\":\"iban\",\"type\":\"string\",\"nullable\":true,\"metadata\":{}}]}"
        },
        {
         "metadata": "{}",
         "name": "company",
         "type": "{\"type\":\"struct\",\"fields\":[{\"name\":\"address\",\"type\":{\"type\":\"struct\",\"fields\":[{\"name\":\"address\",\"type\":\"string\",\"nullable\":true,\"metadata\":{}},{\"name\":\"city\",\"type\":\"string\",\"nullable\":true,\"metadata\":{}},{\"name\":\"coordinates\",\"type\":{\"type\":\"struct\",\"fields\":[{\"name\":\"lat\",\"type\":\"double\",\"nullable\":true,\"metadata\":{}},{\"name\":\"lng\",\"type\":\"double\",\"nullable\":true,\"metadata\":{}}]},\"nullable\":true,\"metadata\":{}},{\"name\":\"country\",\"type\":\"string\",\"nullable\":true,\"metadata\":{}},{\"name\":\"postalCode\",\"type\":\"string\",\"nullable\":true,\"metadata\":{}},{\"name\":\"state\",\"type\":\"string\",\"nullable\":true,\"metadata\":{}},{\"name\":\"stateCode\",\"type\":\"string\",\"nullable\":true,\"metadata\":{}}]},\"nullable\":true,\"metadata\":{}},{\"name\":\"department\",\"type\":\"string\",\"nullable\":true,\"metadata\":{}},{\"name\":\"name\",\"type\":\"string\",\"nullable\":true,\"metadata\":{}},{\"name\":\"title\",\"type\":\"string\",\"nullable\":true,\"metadata\":{}}]}"
        },
        {
         "metadata": "{}",
         "name": "ein",
         "type": "\"string\""
        },
        {
         "metadata": "{}",
         "name": "ssn",
         "type": "\"string\""
        },
        {
         "metadata": "{}",
         "name": "userAgent",
         "type": "\"string\""
        },
        {
         "metadata": "{}",
         "name": "crypto",
         "type": "{\"type\":\"struct\",\"fields\":[{\"name\":\"coin\",\"type\":\"string\",\"nullable\":true,\"metadata\":{}},{\"name\":\"network\",\"type\":\"string\",\"nullable\":true,\"metadata\":{}},{\"name\":\"wallet\",\"type\":\"string\",\"nullable\":true,\"metadata\":{}}]}"
        },
        {
         "metadata": "{}",
         "name": "role",
         "type": "\"string\""
        },
        {
         "metadata": "{}",
         "name": "birthYear",
         "type": "\"long\""
        }
       ],
       "type": "table"
      }
     },
     "output_type": "display_data"
    }
   ],
   "source": [
    "from pyspark.sql.functions import col, lit\n",
    "\n",
    "# Add a new column for birth year\n",
    "df_with_birth_year = df.withColumn(\"birthYear\", lit(2025) - col(\"age\"))\n",
    "display(df_with_birth_year)\n"
   ]
  },
  {
   "cell_type": "code",
   "execution_count": 0,
   "metadata": {
    "application/vnd.databricks.v1+cell": {
     "cellMetadata": {
      "byteLimit": 2048000,
      "rowLimit": 10000
     },
     "inputWidgets": {},
     "nuid": "cf97ab70-d424-4863-b43b-d9c7eba52762",
     "showTitle": false,
     "tableResultSettingsMap": {},
     "title": ""
    }
   },
   "outputs": [
    {
     "data": {
      "text/html": [
       "<style scoped>\n",
       "  .table-result-container {\n",
       "    max-height: 300px;\n",
       "    overflow: auto;\n",
       "  }\n",
       "  table, th, td {\n",
       "    border: 1px solid black;\n",
       "    border-collapse: collapse;\n",
       "  }\n",
       "  th, td {\n",
       "    padding: 5px;\n",
       "  }\n",
       "  th {\n",
       "    text-align: left;\n",
       "  }\n",
       "</style><div class='table-result-container'><table class='table-result'><thead style='background-color: white'><tr><th>gender</th><th>count</th></tr></thead><tbody><tr><td>female</td><td>17</td></tr><tr><td>male</td><td>13</td></tr></tbody></table></div>"
      ]
     },
     "metadata": {
      "application/vnd.databricks.v1+output": {
       "addedWidgets": {},
       "aggData": [],
       "aggError": "",
       "aggOverflow": false,
       "aggSchema": [],
       "aggSeriesLimitReached": false,
       "aggType": "",
       "arguments": {},
       "columnCustomDisplayInfos": {},
       "data": [
        [
         "female",
         17
        ],
        [
         "male",
         13
        ]
       ],
       "datasetInfos": [],
       "dbfsResultPath": null,
       "isJsonSchema": true,
       "metadata": {},
       "overflow": false,
       "plotOptions": {
        "customPlotOptions": {},
        "displayType": "table",
        "pivotAggregation": null,
        "pivotColumns": null,
        "xColumns": null,
        "yColumns": null
       },
       "removedWidgets": [],
       "schema": [
        {
         "metadata": "{}",
         "name": "gender",
         "type": "\"string\""
        },
        {
         "metadata": "{}",
         "name": "count",
         "type": "\"long\""
        }
       ],
       "type": "table"
      }
     },
     "output_type": "display_data"
    }
   ],
   "source": [
    "from pyspark.sql.functions import count\n",
    "\n",
    "# Count users by gender\n",
    "df_gender_count = df.groupBy(\"gender\").agg(count(\"*\").alias(\"count\"))\n",
    "display(df_gender_count)\n"
   ]
  },
  {
   "cell_type": "code",
   "execution_count": 0,
   "metadata": {
    "application/vnd.databricks.v1+cell": {
     "cellMetadata": {
      "byteLimit": 2048000,
      "rowLimit": 10000
     },
     "inputWidgets": {},
     "nuid": "76c3bb1b-b34e-4413-aadf-a90d32dbf0f3",
     "showTitle": false,
     "tableResultSettingsMap": {},
     "title": ""
    }
   },
   "outputs": [
    {
     "data": {
      "text/html": [
       "<style scoped>\n",
       "  .table-result-container {\n",
       "    max-height: 300px;\n",
       "    overflow: auto;\n",
       "  }\n",
       "  table, th, td {\n",
       "    border: 1px solid black;\n",
       "    border-collapse: collapse;\n",
       "  }\n",
       "  th, td {\n",
       "    padding: 5px;\n",
       "  }\n",
       "  th {\n",
       "    text-align: left;\n",
       "  }\n",
       "</style><div class='table-result-container'><table class='table-result'><thead style='background-color: white'><tr><th>id</th><th>firstName</th><th>lastName</th><th>maidenName</th><th>age</th><th>gender</th><th>email</th><th>phone</th><th>username</th><th>password</th><th>birthDate</th><th>image</th><th>bloodGroup</th><th>height</th><th>weight</th><th>eyeColor</th><th>hair</th><th>ip</th><th>address</th><th>macAddress</th><th>university</th><th>bank</th><th>company</th><th>ein</th><th>ssn</th><th>userAgent</th><th>crypto</th><th>role</th></tr></thead><tbody><tr><td>4</td><td>James</td><td>Davis</td><td></td><td>45</td><td>male</td><td>james.davis@x.dummyjson.com</td><td>+49 614-958-9364</td><td>jamesd</td><td>jamesdpass</td><td>1979-5-4</td><td>https://dummyjson.com/icon/jamesd/128</td><td>AB+</td><td>193.31</td><td>62.1</td><td>Amber</td><td>List(Blonde, Straight)</td><td>101.118.131.66</td><td>List(238 Jefferson Street, Seattle, List(16.782513, -139.34723), United States, 68354, Pennsylvania, PA)</td><td>10:7d:df:1f:97:58</td><td>University of Southern California</td><td>List(05/29, 5005519846254763, Mastercard, INR, 7N7ZH1PJ8Q4WU1K965HQQR27)</td><td>List(List(1622 Lincoln Street, Fort Worth, List(54.91193, -79.498328), United States, 27768, Pennsylvania, PA), Support, Pagac and Sons, Research Analyst)</td><td>904-810</td><td>116-951-314</td><td>Mozilla/5.0 (Macintosh; Intel Mac OS X 10_15_7) AppleWebKit/537.36 (KHTML, like Gecko) Chrome/97.0.4692.99 Safari/537.36</td><td>List(Bitcoin, Ethereum (ERC20), 0xb9fc2fe63b2a6c003f1c324c3bfa53259162181a)</td><td>admin</td></tr><tr><td>3</td><td>Sophia</td><td>Brown</td><td></td><td>42</td><td>female</td><td>sophia.brown@x.dummyjson.com</td><td>+81 210-652-2785</td><td>sophiab</td><td>sophiabpass</td><td>1982-11-6</td><td>https://dummyjson.com/icon/sophiab/128</td><td>O-</td><td>177.72</td><td>52.6</td><td>Hazel</td><td>List(White, Wavy)</td><td>214.225.51.195</td><td>List(1642 Ninth Street, Washington, List(45.289366, 46.832664), United States, 32822, Alabama, AL)</td><td>12:a3:d3:6f:5c:5b</td><td>Pepperdine University</td><td>List(04/25, 7795895470082859, Korean Express, SEK, 90XYKT83LMM7AARZ8JN958JC)</td><td>List(List(1896 Washington Street, Dallas, List(20.086743, -34.577107), United States, 88511, Nevada, NV), Research and Development, Schiller - Zieme, Accountant)</td><td>963-113</td><td>638-461-822</td><td>Mozilla/5.0 (Windows NT 10.0; Win64; x64) AppleWebKit/537.36 (KHTML, like Gecko) Chrome/96.0.4664.45 Safari/537.36</td><td>List(Bitcoin, Ethereum (ERC20), 0xb9fc2fe63b2a6c003f1c324c3bfa53259162181a)</td><td>admin</td></tr><tr><td>27</td><td>Daniel</td><td>Cook</td><td></td><td>41</td><td>male</td><td>daniel.cook@x.dummyjson.com</td><td>+44 254-761-6843</td><td>danielc</td><td>danielcpass</td><td>1983-12-25</td><td>https://dummyjson.com/icon/danielc/128</td><td>AB+</td><td>186.21</td><td>83.72</td><td>Brown</td><td>List(Blonde, Curly)</td><td>1.61.73.142</td><td>List(1163 Pine Street, Los Angeles, List(-3.456681, -134.937482), United States, 58781, Nevada, NV)</td><td>6e:73:dc:3a:85:10</td><td>Columbia University</td><td>List(01/26, 8452555751345228, Korean Express, NZD, A8DBPECO4X6D09WYOVT8UZK8)</td><td>List(List(938 Fifth Street, San Francisco, List(21.323588, -83.531427), United States, 45305, South Dakota, SD), Support, Morissette, Baumbach and Auer, Legal Counsel)</td><td>585-905</td><td>645-515-583</td><td>Mozilla/5.0 (Windows NT 10.0; Win64; x64; rv:97.0) Gecko/20100101 Firefox/97.0</td><td>List(Bitcoin, Ethereum (ERC20), 0xb9fc2fe63b2a6c003f1c324c3bfa53259162181a)</td><td>user</td></tr><tr><td>13</td><td>Noah</td><td>Hernandez</td><td></td><td>40</td><td>male</td><td>noah.hernandez@x.dummyjson.com</td><td>+49 393-605-6968</td><td>noahh</td><td>noahhpass</td><td>1984-6-5</td><td>https://dummyjson.com/icon/noahh/128</td><td>AB+</td><td>188.62</td><td>69.49</td><td>Brown</td><td>List(Red, Curly)</td><td>169.154.126.57</td><td>List(1413 Maple Street, New York, List(-25.0377, -151.70469), United States, 73696, North Dakota, ND)</td><td>d4:fe:ae:8f:eb:a3</td><td>New York University (NYU)</td><td>List(05/26, 1681772579326385, Discover, SEK, G4UIZKIQVPJM9D31XQVR1E9Z)</td><td>List(List(62 Third Street, Seattle, List(19.490447, -13.173207), United States, 83474, Oregon, OR), Engineering, Botsford, Marquardt and Roberts, Database Administrator)</td><td>877-628</td><td>660-847-389</td><td>Mozilla/5.0 (Windows NT 10.0; Win64; x64) AppleWebKit/537.36 (KHTML, like Gecko) Chrome/95.0.4638.54 Safari/537.36</td><td>List(Bitcoin, Ethereum (ERC20), 0xb9fc2fe63b2a6c003f1c324c3bfa53259162181a)</td><td>moderator</td></tr><tr><td>23</td><td>Chloe</td><td>Morales</td><td></td><td>39</td><td>female</td><td>chloe.morales@x.dummyjson.com</td><td>+92 468-541-7133</td><td>chloem</td><td>chloempass</td><td>1985-4-21</td><td>https://dummyjson.com/icon/chloem/128</td><td>O+</td><td>185.07</td><td>63.97</td><td>Brown</td><td>List(Red, Kinky)</td><td>66.78.20.21</td><td>List(401 Fourth Street, Dallas, List(-30.190759, -58.705979), United States, 54972, New Jersey, NJ)</td><td>fc:f:29:e1:37:b8</td><td>Syracuse University</td><td>List(05/28, 3150496938377346, American Express, PKR, P7YLGOOBWBD1SRWDWSFO3PZ0)</td><td>List(List(269 Third Street, Houston, List(40.098115, -1.762972), United States, 10385, North Carolina, NC), Sales, Grady LLC, Database Administrator)</td><td>913-597</td><td>938-883-163</td><td>Mozilla/5.0 (Windows NT 10.0; Win64; x64) AppleWebKit/537.36 (KHTML, like Gecko) Chrome/96.0.4664.93 Safari/537.36</td><td>List(Bitcoin, Ethereum (ERC20), 0xb9fc2fe63b2a6c003f1c324c3bfa53259162181a)</td><td>user</td></tr><tr><td>7</td><td>Alexander</td><td>Jones</td><td></td><td>38</td><td>male</td><td>alexander.jones@x.dummyjson.com</td><td>+61 260-824-4986</td><td>alexanderj</td><td>alexanderjpass</td><td>1986-10-20</td><td>https://dummyjson.com/icon/alexanderj/128</td><td>AB-</td><td>153.89</td><td>77.42</td><td>Blue</td><td>List(White, Straight)</td><td>166.204.84.32</td><td>List(664 Maple Street, Indianapolis, List(35.289664, 7.063255), United States, 86684, Delaware, DE)</td><td>d2:64:58:2d:1c:46</td><td>University of Illinois--Urbana-Champaign</td><td>List(05/25, 7344951706130140, JCB, EUR, 49V4GVDVMP0MHIDD4VXMQ3A2)</td><td>List(List(996 Eighth Street, Washington, List(-75.462366, -128.025697), United States, 27858, Kansas, KS), Engineering, Dickens - Beahan, Web Developer)</td><td>638-127</td><td>722-993-925</td><td>Mozilla/5.0 (Macintosh; Intel Mac OS X 10_15_7) AppleWebKit/537.36 (KHTML, like Gecko) Chrome/95.0.4638.69 Safari/537.36</td><td>List(Bitcoin, Ethereum (ERC20), 0xb9fc2fe63b2a6c003f1c324c3bfa53259162181a)</td><td>moderator</td></tr><tr><td>29</td><td>Henry</td><td>Hill</td><td></td><td>38</td><td>male</td><td>henry.hill@x.dummyjson.com</td><td>+1 240-833-4680</td><td>henryh</td><td>henryhpass</td><td>1986-8-19</td><td>https://dummyjson.com/icon/henryh/128</td><td>O-</td><td>180.25</td><td>95.84</td><td>Gray</td><td>List(Black, Straight)</td><td>194.43.55.202</td><td>List(1837 Maple Street, Indianapolis, List(35.498256, 154.088476), United States, 81783, Delaware, DE)</td><td>fa:c3:1b:21:5f:44</td><td>University of Illinois--Urbana-Champaign</td><td>List(02/26, 7262597174206766, Diners Club International, SEK, 7N3JP8KN9AUNXOWRQGAU2JX6)</td><td>List(List(1651 Lincoln Street, San Francisco, List(-59.936335, -12.405368), United States, 61805, West Virginia, WV), Services, Gerlach, Funk and Schoen, Sales Manager)</td><td>118-957</td><td>925-686-100</td><td>Mozilla/5.0 (Windows NT 10.0; Win64; x64) AppleWebKit/537.36 (KHTML, like Gecko) Chrome/96.0.4664.93 Safari/537.36</td><td>List(Bitcoin, Ethereum (ERC20), 0xb9fc2fe63b2a6c003f1c324c3bfa53259162181a)</td><td>user</td></tr><tr><td>17</td><td>Evelyn</td><td>Sanchez</td><td></td><td>37</td><td>female</td><td>evelyn.sanchez@x.dummyjson.com</td><td>+1 623-880-6871</td><td>evelyns</td><td>evelynspass</td><td>1987-10-13</td><td>https://dummyjson.com/icon/evelyns/128</td><td>B+</td><td>184.08</td><td>83.15</td><td>Violet</td><td>List(Blue, Curly)</td><td>87.114.135.146</td><td>List(1170 Lincoln Street, San Diego, List(-83.31484, 11.768071), United States, 43423, Wyoming, WY)</td><td>f8:e5:bd:43:bc:d8</td><td>Washington University in St. Louis</td><td>List(04/29, 4557521697420096, UnionPay, SEK, KN8XAPR2J5UB8AKDI1EVJ56R)</td><td>List(List(1802 Ninth Street, San Diego, List(29.034592, -78.004598), United States, 89416, Minnesota, MN), Support, Predovic - Johns, Chief Financial Officer)</td><td>604-817</td><td>689-332-644</td><td>Mozilla/5.0 (Macintosh; Intel Mac OS X 10_15_7) AppleWebKit/537.36 (KHTML, like Gecko) Chrome/96.0.4664.45 Safari/537.36</td><td>List(Bitcoin, Ethereum (ERC20), 0xb9fc2fe63b2a6c003f1c324c3bfa53259162181a)</td><td>user</td></tr><tr><td>14</td><td>Charlotte</td><td>Lopez</td><td>Martinez</td><td>36</td><td>female</td><td>charlotte.lopez@x.dummyjson.com</td><td>+44 373-953-5028</td><td>charlottem</td><td>charlottempass</td><td>1988-6-8</td><td>https://dummyjson.com/icon/charlottem/128</td><td>AB-</td><td>178.92</td><td>82.46</td><td>Brown</td><td>List(Gray, Kinky)</td><td>119.103.95.60</td><td>List(208 Second Street, Columbus, List(-44.443762, -151.420561), United States, 42044, Ohio, OH)</td><td>f6:ff:37:aa:6c:f1</td><td>Northeastern University</td><td>List(02/27, 5675368650551956, Maestro, CNY, FKK6U634LGI3E7N517DLVVTL)</td><td>List(List(569 Jefferson Street, Los Angeles, List(-18.371256, 22.566258), United States, 17779, Montana, MT), Accounting, Zulauf and Sons, Chief Executive Officer)</td><td>364-782</td><td>255-491-479</td><td>Mozilla/5.0 (Windows NT 10.0; Win64; x64) AppleWebKit/537.36 (KHTML, like Gecko) Chrome/96.0.4664.45 Safari/537.36</td><td>List(Bitcoin, Ethereum (ERC20), 0xb9fc2fe63b2a6c003f1c324c3bfa53259162181a)</td><td>moderator</td></tr><tr><td>2</td><td>Michael</td><td>Williams</td><td></td><td>35</td><td>male</td><td>michael.williams@x.dummyjson.com</td><td>+49 258-627-6644</td><td>michaelw</td><td>michaelwpass</td><td>1989-8-10</td><td>https://dummyjson.com/icon/michaelw/128</td><td>B+</td><td>186.22</td><td>76.32</td><td>Red</td><td>List(Green, Straight)</td><td>12.13.116.142</td><td>List(385 Fifth Street, Houston, List(22.815468, 115.608581), United States, 38807, Alabama, AL)</td><td>79:15:78:99:60:aa</td><td>Ohio State University</td><td>List(02/27, 6737807858721625, Elo, SEK, 83IDT77FWYLCJVR8ISDACFH0)</td><td>List(List(395 Main Street, Los Angeles, List(79.098326, -119.624845), United States, 73442, New Hampshire, NH), Support, Spinka - Dickinson, Support Specialist)</td><td>912-602</td><td>108-953-962</td><td>Mozilla/5.0 (Windows NT 10.0; Win64; x64) AppleWebKit/537.36 (KHTML, like Gecko) Edge/97.0.1072.76 Safari/537.36</td><td>List(Bitcoin, Ethereum (ERC20), 0xb9fc2fe63b2a6c003f1c324c3bfa53259162181a)</td><td>admin</td></tr><tr><td>26</td><td>Evelyn</td><td>Gonzalez</td><td></td><td>35</td><td>female</td><td>evelyn.gonzalez@x.dummyjson.com</td><td>+61 708-508-4638</td><td>evelyng</td><td>evelyngpass</td><td>1989-2-5</td><td>https://dummyjson.com/icon/evelyng/128</td><td>O+</td><td>168.94</td><td>58.47</td><td>Red</td><td>List(Black, Wavy)</td><td>42.52.74.232</td><td>List(1065 Lincoln Street, Dallas, List(67.768359, 71.268643), United States, 84898, Maine, ME)</td><td>89:5e:5a:2a:72:42</td><td>Washington University in St. Louis</td><td>List(03/28, 9584313788145560, RuPay, INR, X4UPULQG61VIGA97USY7AAEB)</td><td>List(List(584 Ninth Street, Jacksonville, List(26.014021, 40.572436), United States, 45633, Wisconsin, WI), Accounting, Tromp, Gaylord and Weber, Project Manager)</td><td>569-275</td><td>487-680-127</td><td>Mozilla/5.0 (Windows NT 10.0; Win64; x64) AppleWebKit/537.36 (KHTML, like Gecko) Chrome/95.0.4638.54 Safari/537.36</td><td>List(Bitcoin, Ethereum (ERC20), 0xb9fc2fe63b2a6c003f1c324c3bfa53259162181a)</td><td>user</td></tr><tr><td>20</td><td>Jackson</td><td>Evans</td><td></td><td>34</td><td>male</td><td>jackson.evans@x.dummyjson.com</td><td>+44 468-628-6686</td><td>jacksone</td><td>jacksonepass</td><td>1990-11-30</td><td>https://dummyjson.com/icon/jacksone/128</td><td>O-</td><td>162.57</td><td>74.37</td><td>Green</td><td>List(Red, Straight)</td><td>221.127.144.198</td><td>List(1873 Main Street, New York, List(34.722451, 63.448927), United States, 26600, Arkansas, AR)</td><td>81:14:1:97:88:85</td><td>Ohio State University</td><td>List(04/26, 2109192842527801, BC Card, EUR, TX26FO9B7YR2VHYDSJBE32AX)</td><td>List(List(1706 First Street, Chicago, List(-80.416937, -83.224516), United States, 34725, Hawaii, HI), Legal, Kuhlman LLC, Web Developer)</td><td>843-260</td><td>248-787-886</td><td>Mozilla/5.0 (Macintosh; Intel Mac OS X 10_15_7) AppleWebKit/537.36 (KHTML, like Gecko) Chrome/97.0.4692.99 Safari/537.36</td><td>List(Bitcoin, Ethereum (ERC20), 0xb9fc2fe63b2a6c003f1c324c3bfa53259162181a)</td><td>user</td></tr><tr><td>9</td><td>Ethan</td><td>Martinez</td><td></td><td>33</td><td>male</td><td>ethan.martinez@x.dummyjson.com</td><td>+92 933-608-5081</td><td>ethanm</td><td>ethanmpass</td><td>1991-2-12</td><td>https://dummyjson.com/icon/ethanm/128</td><td>AB+</td><td>159.19</td><td>68.81</td><td>Hazel</td><td>List(Purple, Curly)</td><td>63.191.127.71</td><td>List(466 Pine Street, San Antonio, List(74.074918, -25.312703), United States, 72360, Louisiana, LA)</td><td>59:e:9e:e3:29:da</td><td>Syracuse University</td><td>List(02/25, 7183482484317509, Visa, CAD, CW5U5KS23U7JYD22TVQL7SIH)</td><td>List(List(1597 Oak Street, Chicago, List(-67.45208, -23.209886), United States, 28100, Florida, FL), Support, Gorczany - Gottlieb, Legal Counsel)</td><td>790-434</td><td>569-650-348</td><td>Mozilla/5.0 (Windows NT 10.0; Win64; x64) AppleWebKit/537.36 (KHTML, like Gecko) Chrome/95.0.4638.69 Safari/537.36</td><td>List(Bitcoin, Ethereum (ERC20), 0xb9fc2fe63b2a6c003f1c324c3bfa53259162181a)</td><td>moderator</td></tr><tr><td>22</td><td>Elijah</td><td>Stewart</td><td></td><td>33</td><td>male</td><td>elijah.stewart@x.dummyjson.com</td><td>+44 468-357-7872</td><td>elijahs</td><td>elijahspass</td><td>1991-10-22</td><td>https://dummyjson.com/icon/elijahs/128</td><td>A-</td><td>195.33</td><td>81.64</td><td>Blue</td><td>List(Purple, Straight)</td><td>23.87.135.62</td><td>List(1701 Eighth Street, Columbus, List(-54.833799, -174.504027), United States, 31585, Illinois, IL)</td><td>75:17:c6:35:fc:6d</td><td>Georgetown University</td><td>List(05/27, 0798116671286564, JCB, GBP, E1XUHCC1N39WGU6XESSK1CAO)</td><td>List(List(155 Ninth Street, Washington, List(61.279254, -12.607767), United States, 19039, South Dakota, SD), Legal, Langworth Group, Business Analyst)</td><td>520-394</td><td>287-380-801</td><td>Mozilla/5.0 (Macintosh; Intel Mac OS X 10_15_7) AppleWebKit/537.36 (KHTML, like Gecko) Chrome/96.0.4664.93 Safari/537.36</td><td>List(Bitcoin, Ethereum (ERC20), 0xb9fc2fe63b2a6c003f1c324c3bfa53259162181a)</td><td>user</td></tr><tr><td>15</td><td>William</td><td>Gonzalez</td><td></td><td>32</td><td>male</td><td>william.gonzalez@x.dummyjson.com</td><td>+81 905-252-7319</td><td>williamg</td><td>williamgpass</td><td>1992-3-27</td><td>https://dummyjson.com/icon/williamg/128</td><td>B-</td><td>173.21</td><td>82.41</td><td>Hazel</td><td>List(Gray, Curly)</td><td>250.2.241.204</td><td>List(31 Maple Street, San Jose, List(8.152876, 113.29799), United States, 78243, Utah, UT)</td><td>f5:68:28:f9:ec:89</td><td>Tufts University</td><td>List(03/27, 6053000793215148, Mir, EUR, AR01SNDMKGECX0EYH7UCW61W)</td><td>List(List(1538 Eighth Street, San Jose, List(24.169361, -29.395167), United States, 29673, Missouri, MO), Marketing, Spinka - Dickinson, Software Architect)</td><td>830-515</td><td>690-544-755</td><td>Mozilla/5.0 (Macintosh; Intel Mac OS X 10_15_7) AppleWebKit/537.36 (KHTML, like Gecko) Chrome/96.0.4664.93 Safari/537.36</td><td>List(Bitcoin, Ethereum (ERC20), 0xb9fc2fe63b2a6c003f1c324c3bfa53259162181a)</td><td>moderator</td></tr><tr><td>30</td><td>Addison</td><td>Wright</td><td></td><td>32</td><td>female</td><td>addison.wright@x.dummyjson.com</td><td>+1 514-384-3300</td><td>addisonw</td><td>addisonwpass</td><td>1992-1-3</td><td>https://dummyjson.com/icon/addisonw/128</td><td>B+</td><td>179.32</td><td>76.93</td><td>Brown</td><td>List(Blonde, Straight)</td><td>11.35.69.81</td><td>List(568 Tenth Street, San Francisco, List(20.946052, 100.228822), United States, 54698, Montana, MT)</td><td>fb:0:94:21:16:c</td><td>Syracuse University</td><td>List(05/28, 3756638438861539, Carte Bancaire, JPY, OOPQTNZ74OLPKVT7TGB89UQL)</td><td>List(List(1173 Eighth Street, San Diego, List(65.324413, 87.142893), United States, 85777, Michigan, MI), Services, Kreiger Inc, Human Resources Manager)</td><td>415-286</td><td>804-492-390</td><td>Mozilla/5.0 (Macintosh; Intel Mac OS X 10_15_7) AppleWebKit/537.36 (KHTML, like Gecko) Chrome/96.0.4664.93 Safari/537.36</td><td>List(Bitcoin, Ethereum (ERC20), 0xb9fc2fe63b2a6c003f1c324c3bfa53259162181a)</td><td>user</td></tr><tr><td>10</td><td>Isabella</td><td>Anderson</td><td>Davis</td><td>31</td><td>female</td><td>isabella.anderson@x.dummyjson.com</td><td>+49 770-658-4885</td><td>isabellad</td><td>isabelladpass</td><td>1993-6-10</td><td>https://dummyjson.com/icon/isabellad/128</td><td>A-</td><td>150.56</td><td>50.1</td><td>Brown</td><td>List(Blonde, Curly)</td><td>114.9.114.205</td><td>List(1964 Oak Street, New York, List(41.331324, 151.782727), United States, 89352, Utah, UT)</td><td>b1:b0:d0:a2:82:80</td><td>California Institute of Technology (Caltech)</td><td>List(05/27, 6118714010128731, NPS, CNY, GBZRGDMKUOTO34HBCI7A986J)</td><td>List(List(1029 Adams Street, San Diego, List(-25.843393, -62.692681), United States, 63847, Maryland, MD), Marketing, Pollich - Hilpert, Chief Financial Officer)</td><td>127-297</td><td>902-438-728</td><td>Mozilla/5.0 (Macintosh; Intel Mac OS X 10_15_7) AppleWebKit/537.36 (KHTML, like Gecko) Chrome/96.0.4664.93 Safari/537.36</td><td>List(Bitcoin, Ethereum (ERC20), 0xb9fc2fe63b2a6c003f1c324c3bfa53259162181a)</td><td>moderator</td></tr><tr><td>18</td><td>Logan</td><td>Torres</td><td></td><td>31</td><td>male</td><td>logan.torres@x.dummyjson.com</td><td>+81 507-434-8733</td><td>logant</td><td>logantpass</td><td>1993-10-26</td><td>https://dummyjson.com/icon/logant/128</td><td>A+</td><td>190.04</td><td>72.43</td><td>Green</td><td>List(Green, Curly)</td><td>155.98.15.162</td><td>List(907 Seventh Street, Columbus, List(-64.846516, 174.775744), United States, 78805, Arkansas, AR)</td><td>40:d:5c:1:7d:bf</td><td>University of Illinois--Urbana-Champaign</td><td>List(05/26, 7884268130452098, UnionPay, NZD, HZM7V9PYHPZBN72IDFPXGN8Q)</td><td>List(List(947 Main Street, Denver, List(-24.654063, -147.255268), United States, 71896, Minnesota, MN), Training, Jast - Nader, Data Analyst)</td><td>576-218</td><td>806-639-934</td><td>Mozilla/5.0 (Macintosh; Intel Mac OS X 10_15_7) AppleWebKit/537.36 (KHTML, like Gecko) Chrome/96.0.4664.45 Safari/537.36</td><td>List(Bitcoin, Ethereum (ERC20), 0xb9fc2fe63b2a6c003f1c324c3bfa53259162181a)</td><td>user</td></tr><tr><td>5</td><td>Emma</td><td>Miller</td><td>Johnson</td><td>30</td><td>female</td><td>emma.miller@x.dummyjson.com</td><td>+91 759-776-1614</td><td>emmaj</td><td>emmajpass</td><td>1994-6-13</td><td>https://dummyjson.com/icon/emmaj/128</td><td>AB-</td><td>192.8</td><td>63.62</td><td>Green</td><td>List(White, Straight)</td><td>224.126.22.183</td><td>List(607 Fourth Street, Jacksonville, List(0.505589, -157.43281), United States, 26593, Colorado, CO)</td><td>32:b9:7e:8d:f5:e8</td><td>Northeastern University</td><td>List(03/26, 5772950119588627, American Express, CAD, TAVHURD845KVBTB8W81AQXRY)</td><td>List(List(1460 Sixth Street, San Antonio, List(44.346545, -26.944701), United States, 21965, Idaho, ID), Human Resources, Graham - Gulgowski, Quality Assurance Engineer)</td><td>403-505</td><td>526-210-885</td><td>Mozilla/5.0 (Windows NT 10.0; Win64; x64; rv:97.0) Gecko/20100101 Firefox/97.0</td><td>List(Bitcoin, Ethereum (ERC20), 0xb9fc2fe63b2a6c003f1c324c3bfa53259162181a)</td><td>admin</td></tr><tr><td>24</td><td>Mateo</td><td>Nguyen</td><td></td><td>30</td><td>male</td><td>mateo.nguyen@x.dummyjson.com</td><td>+1 341-597-6694</td><td>mateon</td><td>mateonpass</td><td>1994-6-2</td><td>https://dummyjson.com/icon/mateon/128</td><td>O+</td><td>174.29</td><td>59.98</td><td>Red</td><td>List(Purple, Wavy)</td><td>192.57.144.7</td><td>List(1578 Fourth Street, Columbus, List(-32.828675, -82.557354), United States, 20673, Missouri, MO)</td><td>a7:26:10:7a:36:29</td><td>Columbia University</td><td>List(03/26, 5545852224851851, JCB, TRY, WEBE9SBX588VFUCVCA6KFHWB)</td><td>List(List(1967 Jefferson Street, Dallas, List(75.982676, 164.459743), United States, 78527, Louisiana, LA), Accounting, Spinka LLC, Business Analyst)</td><td>229-249</td><td>416-877-230</td><td>Mozilla/5.0 (Windows NT 10.0; Win64; x64) AppleWebKit/537.36 (KHTML, like Gecko) Chrome/95.0.4638.69 Safari/537.36</td><td>List(Bitcoin, Ethereum (ERC20), 0xb9fc2fe63b2a6c003f1c324c3bfa53259162181a)</td><td>user</td></tr><tr><td>11</td><td>Liam</td><td>Garcia</td><td></td><td>29</td><td>male</td><td>liam.garcia@x.dummyjson.com</td><td>+92 870-217-6201</td><td>liamg</td><td>liamgpass</td><td>1995-6-6</td><td>https://dummyjson.com/icon/liamg/128</td><td>AB-</td><td>162.32</td><td>93.16</td><td>Violet</td><td>List(Red, Wavy)</td><td>56.201.85.9</td><td>List(576 Fifth Street, Denver, List(-66.218177, -145.340165), United States, 57252, South Dakota, SD)</td><td>31:9a:28:8b:99:6c</td><td>Ohio State University</td><td>List(02/27, 2302893002194899, Discover, GBP, O8ENPRB9UVBL2EFZ7601KC09)</td><td>List(List(27 Cedar Street, Philadelphia, List(-81.841588, 31.79423), United States, 79574, Connecticut, CT), Services, Considine - Torp, Web Developer)</td><td>326-604</td><td>933-784-949</td><td>Mozilla/5.0 (Macintosh; Intel Mac OS X 10_15_7) AppleWebKit/537.36 (KHTML, like Gecko) Chrome/97.0.4692.99 Safari/537.36</td><td>List(Bitcoin, Ethereum (ERC20), 0xb9fc2fe63b2a6c003f1c324c3bfa53259162181a)</td><td>moderator</td></tr><tr><td>28</td><td>Lily</td><td>Lee</td><td>Brown</td><td>29</td><td>female</td><td>lily.lee@x.dummyjson.com</td><td>+1 808-757-9867</td><td>lilyb</td><td>lilybpass</td><td>1995-12-3</td><td>https://dummyjson.com/icon/lilyb/128</td><td>AB-</td><td>181.42</td><td>51.49</td><td>Gray</td><td>List(Purple, Straight)</td><td>67.184.255.96</td><td>List(1946 Oak Street, Phoenix, List(-9.87059, -72.336845), United States, 41540, Massachusetts, MA)</td><td>18:b6:c7:a:50:3f</td><td>Johns Hopkins University</td><td>List(05/29, 2903637820228856, Visa, JPY, BKX6ZWB8UJZD09RFOWFPPD3C)</td><td>List(List(1735 Cedar Street, Phoenix, List(72.231441, -158.147245), United States, 85797, Wyoming, WY), Product Management, Cremin Inc, Quality Assurance Engineer)</td><td>229-776</td><td>358-185-671</td><td>Mozilla/5.0 (Windows NT 10.0; Win64; x64) AppleWebKit/537.36 (KHTML, like Gecko) Edge/97.0.1072.76 Safari/537.36</td><td>List(Bitcoin, Ethereum (ERC20), 0xb9fc2fe63b2a6c003f1c324c3bfa53259162181a)</td><td>user</td></tr><tr><td>1</td><td>Emily</td><td>Johnson</td><td>Smith</td><td>28</td><td>female</td><td>emily.johnson@x.dummyjson.com</td><td>+81 965-431-3024</td><td>emilys</td><td>emilyspass</td><td>1996-5-30</td><td>https://dummyjson.com/icon/emilys/128</td><td>O-</td><td>193.24</td><td>63.16</td><td>Green</td><td>List(Brown, Curly)</td><td>42.48.100.32</td><td>List(626 Main Street, Phoenix, List(-77.16213, -92.084824), United States, 29112, Mississippi, MS)</td><td>47:fa:41:18:ec:eb</td><td>University of Wisconsin--Madison</td><td>List(03/26, 9289760655481815, Elo, CNY, YPUXISOBI7TTHPK2BR3HAIXL)</td><td>List(List(263 Tenth Street, San Francisco, List(71.814525, -161.150263), United States, 37657, Wisconsin, WI), Engineering, Dooley, Kozey and Cronin, Sales Manager)</td><td>977-175</td><td>900-590-289</td><td>Mozilla/5.0 (Macintosh; Intel Mac OS X 10_15_7) AppleWebKit/537.36 (KHTML, like Gecko) Chrome/96.0.4664.93 Safari/537.36</td><td>List(Bitcoin, Ethereum (ERC20), 0xb9fc2fe63b2a6c003f1c324c3bfa53259162181a)</td><td>admin</td></tr><tr><td>19</td><td>Abigail</td><td>Rivera</td><td></td><td>28</td><td>female</td><td>abigail.rivera@x.dummyjson.com</td><td>+91 228-363-7806</td><td>abigailr</td><td>abigailrpass</td><td>1996-10-11</td><td>https://dummyjson.com/icon/abigailr/128</td><td>B+</td><td>186.39</td><td>74.61</td><td>Violet</td><td>List(Blue, Kinky)</td><td>19.183.240.94</td><td>List(996 Oak Street, Chicago, List(44.321308, -3.723903), United States, 11407, New Mexico, NM)</td><td>1d:a6:58:2a:e5:e4</td><td>California Institute of Technology (Caltech)</td><td>List(02/28, 4832361886407551, RuPay, BRL, O02LHDNNFCVSM6D4H81DIQHE)</td><td>List(List(1402 Adams Street, Austin, List(25.672938, -76.54967), United States, 51456, Wisconsin, WI), Human Resources, Prohaska - Thiel, Business Analyst)</td><td>173-637</td><td>655-823-929</td><td>Mozilla/5.0 (Windows NT 10.0; Win64; x64) AppleWebKit/537.36 (KHTML, like Gecko) Edge/97.0.1072.76 Safari/537.36</td><td>List(Bitcoin, Ethereum (ERC20), 0xb9fc2fe63b2a6c003f1c324c3bfa53259162181a)</td><td>user</td></tr><tr><td>8</td><td>Ava</td><td>Taylor</td><td></td><td>27</td><td>female</td><td>ava.taylor@x.dummyjson.com</td><td>+1 458-853-7877</td><td>avat</td><td>avatpass</td><td>1997-8-25</td><td>https://dummyjson.com/icon/avat/128</td><td>AB-</td><td>168.47</td><td>57.08</td><td>Hazel</td><td>List(Red, Kinky)</td><td>150.73.197.233</td><td>List(1197 First Street, Fort Worth, List(-81.194833, -87.948158), United States, 24771, Rhode Island, RI)</td><td>8d:2e:c2:d6:e7:a8</td><td>University of Wisconsin--Madison</td><td>List(01/29, 6412128967460199, Maestro, CNY, TS66YQ8R16OX7IJKLUONDQHP)</td><td>List(List(930 Lincoln Street, Austin, List(87.970083, -42.769351), United States, 47592, Colorado, CO), Marketing, Nikolaus Inc, Chief Executive Officer)</td><td>297-762</td><td>257-419-109</td><td>Mozilla/5.0 (Windows NT 10.0; Win64; x64) AppleWebKit/537.36 (KHTML, like Gecko) Chrome/96.0.4664.45 Safari/537.36</td><td>List(Bitcoin, Ethereum (ERC20), 0xb9fc2fe63b2a6c003f1c324c3bfa53259162181a)</td><td>moderator</td></tr><tr><td>25</td><td>Harper</td><td>Kelly</td><td>Evans</td><td>27</td><td>female</td><td>harper.kelly@x.dummyjson.com</td><td>+92 518-863-2863</td><td>harpere</td><td>harperepass</td><td>1997-3-3</td><td>https://dummyjson.com/icon/harpere/128</td><td>AB-</td><td>184.32</td><td>81.69</td><td>Amber</td><td>List(Red, Curly)</td><td>174.111.61.162</td><td>List(1591 Adams Street, Philadelphia, List(-26.832913, -75.445017), United States, 69521, New York, NY)</td><td>b:ff:33:67:94:e4</td><td>Boston College</td><td>List(04/26, 1298153007505587, RuPay, JPY, DJI19LCUNUHP6YSGPY52D5VG)</td><td>List(List(16 Maple Street, Austin, List(-15.423746, 149.298887), United States, 68274, North Carolina, NC), Legal, Leffler, Rolfson and Becker, Business Development Manager)</td><td>592-557</td><td>209-544-548</td><td>Mozilla/5.0 (Macintosh; Intel Mac OS X 10_15_7) AppleWebKit/537.36 (KHTML, like Gecko) Chrome/97.0.4692.99 Safari/537.36</td><td>List(Bitcoin, Ethereum (ERC20), 0xb9fc2fe63b2a6c003f1c324c3bfa53259162181a)</td><td>user</td></tr><tr><td>21</td><td>Madison</td><td>Collins</td><td></td><td>26</td><td>female</td><td>madison.collins@x.dummyjson.com</td><td>+81 259-957-5711</td><td>madisonc</td><td>madisoncpass</td><td>1998-3-7</td><td>https://dummyjson.com/icon/madisonc/128</td><td>B-</td><td>189.28</td><td>56.96</td><td>Red</td><td>List(Gray, Curly)</td><td>85.34.1.204</td><td>List(1892 Lincoln Street, Philadelphia, List(52.993694, 160.486892), United States, 62091, New Jersey, NJ)</td><td>13:b0:d0:23:4d:26</td><td>University of Pennsylvania</td><td>List(04/28, 5549175461210252, Mir, CNY, Y0WSN5IED255808SIYBUOMWO)</td><td>List(List(1438 Main Street, San Diego, List(1.629613, 23.232982), United States, 63144, Delaware, DE), Engineering, Mayer - Smitham, Chief Technology Officer)</td><td>716-166</td><td>457-258-950</td><td>Mozilla/5.0 (Macintosh; Intel Mac OS X 10_15_7) AppleWebKit/537.36 (KHTML, like Gecko) Chrome/97.0.4692.99 Safari/537.36</td><td>List(Bitcoin, Ethereum (ERC20), 0xb9fc2fe63b2a6c003f1c324c3bfa53259162181a)</td><td>user</td></tr><tr><td>16</td><td>Avery</td><td>Perez</td><td></td><td>25</td><td>female</td><td>avery.perez@x.dummyjson.com</td><td>+61 731-431-3457</td><td>averyp</td><td>averyppass</td><td>1999-3-10</td><td>https://dummyjson.com/icon/averyp/128</td><td>O-</td><td>172.68</td><td>93.9</td><td>Brown</td><td>List(Green, Curly)</td><td>131.217.4.214</td><td>List(1125 First Street, Columbus, List(12.789127, 85.792598), United States, 30973, Iowa, IA)</td><td>b3:ff:f3:c5:37:46</td><td>Harvard University</td><td>List(04/27, 0961014686718571, Carte Bancaire, USD, 28JYZAY4KYT48YI8QW40PWXR)</td><td>List(List(183 Maple Street, New York, List(-53.318189, 105.835271), United States, 45238, Rhode Island, RI), Accounting, Herzog Inc, Database Administrator)</td><td>348-493</td><td>679-523-686</td><td>Mozilla/5.0 (Macintosh; Intel Mac OS X 10_15_7) AppleWebKit/537.36 (KHTML, like Gecko) Chrome/95.0.4638.69 Safari/537.36</td><td>List(Bitcoin, Ethereum (ERC20), 0xb9fc2fe63b2a6c003f1c324c3bfa53259162181a)</td><td>user</td></tr><tr><td>12</td><td>Mia</td><td>Rodriguez</td><td></td><td>24</td><td>female</td><td>mia.rodriguez@x.dummyjson.com</td><td>+49 989-461-8403</td><td>miar</td><td>miarpass</td><td>2000-8-4</td><td>https://dummyjson.com/icon/miar/128</td><td>O-</td><td>188.08</td><td>56.03</td><td>Blue</td><td>List(Purple, Wavy)</td><td>11.72.253.90</td><td>List(1627 Sixth Street, Jacksonville, List(24.857497, -34.865429), United States, 41810, West Virginia, WV)</td><td>53:d7:a4:6:1e:58</td><td>William & Mary</td><td>List(05/26, 1539872303456158, Carte Bancaire, CAD, EBMD95RLK8B82ZAZNXBJ09V5)</td><td>List(List(1039 Washington Street, Philadelphia, List(85.455933, 164.246103), United States, 57518, New Jersey, NJ), Accounting, Miller, Schowalter and Wisozk, Business Analyst)</td><td>754-660</td><td>749-524-124</td><td>Mozilla/5.0 (Macintosh; Intel Mac OS X 10_15_7) AppleWebKit/537.36 (KHTML, like Gecko) Chrome/95.0.4638.54 Safari/537.36</td><td>List(Bitcoin, Ethereum (ERC20), 0xb9fc2fe63b2a6c003f1c324c3bfa53259162181a)</td><td>moderator</td></tr><tr><td>6</td><td>Olivia</td><td>Wilson</td><td></td><td>22</td><td>female</td><td>olivia.wilson@x.dummyjson.com</td><td>+91 607-295-6448</td><td>oliviaw</td><td>oliviawpass</td><td>2002-4-20</td><td>https://dummyjson.com/icon/oliviaw/128</td><td>B+</td><td>182.61</td><td>58.0</td><td>Hazel</td><td>List(Gray, Curly)</td><td>249.178.112.207</td><td>List(547 First Street, Fort Worth, List(75.32627, -26.15285), United States, 83843, Tennessee, TN)</td><td>9c:7f:ea:34:18:19</td><td>University of North Carolina--Chapel Hill</td><td>List(05/28, 6771923832947881, Diners Club International, BRL, V6H0O5OE3Q4JVKWDTYWZABMD)</td><td>List(List(425 Sixth Street, Indianapolis, List(74.986644, -132.916888), United States, 74263, Oklahoma, OK), Product Management, Pfannerstill Inc, Research Analyst)</td><td>921-709</td><td>836-772-168</td><td>Mozilla/5.0 (Macintosh; Intel Mac OS X 10_15_7) AppleWebKit/605.1.15 (KHTML, like Gecko) Version/15.3 Safari/605.1.15</td><td>List(Bitcoin, Ethereum (ERC20), 0xb9fc2fe63b2a6c003f1c324c3bfa53259162181a)</td><td>moderator</td></tr></tbody></table></div>"
      ]
     },
     "metadata": {
      "application/vnd.databricks.v1+output": {
       "addedWidgets": {},
       "aggData": [],
       "aggError": "",
       "aggOverflow": false,
       "aggSchema": [],
       "aggSeriesLimitReached": false,
       "aggType": "",
       "arguments": {},
       "columnCustomDisplayInfos": {},
       "data": [
        [
         4,
         "James",
         "Davis",
         "",
         45,
         "male",
         "james.davis@x.dummyjson.com",
         "+49 614-958-9364",
         "jamesd",
         "jamesdpass",
         "1979-5-4",
         "https://dummyjson.com/icon/jamesd/128",
         "AB+",
         193.31,
         62.1,
         "Amber",
         [
          "Blonde",
          "Straight"
         ],
         "101.118.131.66",
         [
          "238 Jefferson Street",
          "Seattle",
          [
           16.782513,
           -139.34723
          ],
          "United States",
          "68354",
          "Pennsylvania",
          "PA"
         ],
         "10:7d:df:1f:97:58",
         "University of Southern California",
         [
          "05/29",
          "5005519846254763",
          "Mastercard",
          "INR",
          "7N7ZH1PJ8Q4WU1K965HQQR27"
         ],
         [
          [
           "1622 Lincoln Street",
           "Fort Worth",
           [
            54.91193,
            -79.498328
           ],
           "United States",
           "27768",
           "Pennsylvania",
           "PA"
          ],
          "Support",
          "Pagac and Sons",
          "Research Analyst"
         ],
         "904-810",
         "116-951-314",
         "Mozilla/5.0 (Macintosh; Intel Mac OS X 10_15_7) AppleWebKit/537.36 (KHTML, like Gecko) Chrome/97.0.4692.99 Safari/537.36",
         [
          "Bitcoin",
          "Ethereum (ERC20)",
          "0xb9fc2fe63b2a6c003f1c324c3bfa53259162181a"
         ],
         "admin"
        ],
        [
         3,
         "Sophia",
         "Brown",
         "",
         42,
         "female",
         "sophia.brown@x.dummyjson.com",
         "+81 210-652-2785",
         "sophiab",
         "sophiabpass",
         "1982-11-6",
         "https://dummyjson.com/icon/sophiab/128",
         "O-",
         177.72,
         52.6,
         "Hazel",
         [
          "White",
          "Wavy"
         ],
         "214.225.51.195",
         [
          "1642 Ninth Street",
          "Washington",
          [
           45.289366,
           46.832664
          ],
          "United States",
          "32822",
          "Alabama",
          "AL"
         ],
         "12:a3:d3:6f:5c:5b",
         "Pepperdine University",
         [
          "04/25",
          "7795895470082859",
          "Korean Express",
          "SEK",
          "90XYKT83LMM7AARZ8JN958JC"
         ],
         [
          [
           "1896 Washington Street",
           "Dallas",
           [
            20.086743,
            -34.577107
           ],
           "United States",
           "88511",
           "Nevada",
           "NV"
          ],
          "Research and Development",
          "Schiller - Zieme",
          "Accountant"
         ],
         "963-113",
         "638-461-822",
         "Mozilla/5.0 (Windows NT 10.0; Win64; x64) AppleWebKit/537.36 (KHTML, like Gecko) Chrome/96.0.4664.45 Safari/537.36",
         [
          "Bitcoin",
          "Ethereum (ERC20)",
          "0xb9fc2fe63b2a6c003f1c324c3bfa53259162181a"
         ],
         "admin"
        ],
        [
         27,
         "Daniel",
         "Cook",
         "",
         41,
         "male",
         "daniel.cook@x.dummyjson.com",
         "+44 254-761-6843",
         "danielc",
         "danielcpass",
         "1983-12-25",
         "https://dummyjson.com/icon/danielc/128",
         "AB+",
         186.21,
         83.72,
         "Brown",
         [
          "Blonde",
          "Curly"
         ],
         "1.61.73.142",
         [
          "1163 Pine Street",
          "Los Angeles",
          [
           -3.456681,
           -134.937482
          ],
          "United States",
          "58781",
          "Nevada",
          "NV"
         ],
         "6e:73:dc:3a:85:10",
         "Columbia University",
         [
          "01/26",
          "8452555751345228",
          "Korean Express",
          "NZD",
          "A8DBPECO4X6D09WYOVT8UZK8"
         ],
         [
          [
           "938 Fifth Street",
           "San Francisco",
           [
            21.323588,
            -83.531427
           ],
           "United States",
           "45305",
           "South Dakota",
           "SD"
          ],
          "Support",
          "Morissette, Baumbach and Auer",
          "Legal Counsel"
         ],
         "585-905",
         "645-515-583",
         "Mozilla/5.0 (Windows NT 10.0; Win64; x64; rv:97.0) Gecko/20100101 Firefox/97.0",
         [
          "Bitcoin",
          "Ethereum (ERC20)",
          "0xb9fc2fe63b2a6c003f1c324c3bfa53259162181a"
         ],
         "user"
        ],
        [
         13,
         "Noah",
         "Hernandez",
         "",
         40,
         "male",
         "noah.hernandez@x.dummyjson.com",
         "+49 393-605-6968",
         "noahh",
         "noahhpass",
         "1984-6-5",
         "https://dummyjson.com/icon/noahh/128",
         "AB+",
         188.62,
         69.49,
         "Brown",
         [
          "Red",
          "Curly"
         ],
         "169.154.126.57",
         [
          "1413 Maple Street",
          "New York",
          [
           -25.0377,
           -151.70469
          ],
          "United States",
          "73696",
          "North Dakota",
          "ND"
         ],
         "d4:fe:ae:8f:eb:a3",
         "New York University (NYU)",
         [
          "05/26",
          "1681772579326385",
          "Discover",
          "SEK",
          "G4UIZKIQVPJM9D31XQVR1E9Z"
         ],
         [
          [
           "62 Third Street",
           "Seattle",
           [
            19.490447,
            -13.173207
           ],
           "United States",
           "83474",
           "Oregon",
           "OR"
          ],
          "Engineering",
          "Botsford, Marquardt and Roberts",
          "Database Administrator"
         ],
         "877-628",
         "660-847-389",
         "Mozilla/5.0 (Windows NT 10.0; Win64; x64) AppleWebKit/537.36 (KHTML, like Gecko) Chrome/95.0.4638.54 Safari/537.36",
         [
          "Bitcoin",
          "Ethereum (ERC20)",
          "0xb9fc2fe63b2a6c003f1c324c3bfa53259162181a"
         ],
         "moderator"
        ],
        [
         23,
         "Chloe",
         "Morales",
         "",
         39,
         "female",
         "chloe.morales@x.dummyjson.com",
         "+92 468-541-7133",
         "chloem",
         "chloempass",
         "1985-4-21",
         "https://dummyjson.com/icon/chloem/128",
         "O+",
         185.07,
         63.97,
         "Brown",
         [
          "Red",
          "Kinky"
         ],
         "66.78.20.21",
         [
          "401 Fourth Street",
          "Dallas",
          [
           -30.190759,
           -58.705979
          ],
          "United States",
          "54972",
          "New Jersey",
          "NJ"
         ],
         "fc:f:29:e1:37:b8",
         "Syracuse University",
         [
          "05/28",
          "3150496938377346",
          "American Express",
          "PKR",
          "P7YLGOOBWBD1SRWDWSFO3PZ0"
         ],
         [
          [
           "269 Third Street",
           "Houston",
           [
            40.098115,
            -1.762972
           ],
           "United States",
           "10385",
           "North Carolina",
           "NC"
          ],
          "Sales",
          "Grady LLC",
          "Database Administrator"
         ],
         "913-597",
         "938-883-163",
         "Mozilla/5.0 (Windows NT 10.0; Win64; x64) AppleWebKit/537.36 (KHTML, like Gecko) Chrome/96.0.4664.93 Safari/537.36",
         [
          "Bitcoin",
          "Ethereum (ERC20)",
          "0xb9fc2fe63b2a6c003f1c324c3bfa53259162181a"
         ],
         "user"
        ],
        [
         7,
         "Alexander",
         "Jones",
         "",
         38,
         "male",
         "alexander.jones@x.dummyjson.com",
         "+61 260-824-4986",
         "alexanderj",
         "alexanderjpass",
         "1986-10-20",
         "https://dummyjson.com/icon/alexanderj/128",
         "AB-",
         153.89,
         77.42,
         "Blue",
         [
          "White",
          "Straight"
         ],
         "166.204.84.32",
         [
          "664 Maple Street",
          "Indianapolis",
          [
           35.289664,
           7.063255
          ],
          "United States",
          "86684",
          "Delaware",
          "DE"
         ],
         "d2:64:58:2d:1c:46",
         "University of Illinois--Urbana-Champaign",
         [
          "05/25",
          "7344951706130140",
          "JCB",
          "EUR",
          "49V4GVDVMP0MHIDD4VXMQ3A2"
         ],
         [
          [
           "996 Eighth Street",
           "Washington",
           [
            -75.462366,
            -128.025697
           ],
           "United States",
           "27858",
           "Kansas",
           "KS"
          ],
          "Engineering",
          "Dickens - Beahan",
          "Web Developer"
         ],
         "638-127",
         "722-993-925",
         "Mozilla/5.0 (Macintosh; Intel Mac OS X 10_15_7) AppleWebKit/537.36 (KHTML, like Gecko) Chrome/95.0.4638.69 Safari/537.36",
         [
          "Bitcoin",
          "Ethereum (ERC20)",
          "0xb9fc2fe63b2a6c003f1c324c3bfa53259162181a"
         ],
         "moderator"
        ],
        [
         29,
         "Henry",
         "Hill",
         "",
         38,
         "male",
         "henry.hill@x.dummyjson.com",
         "+1 240-833-4680",
         "henryh",
         "henryhpass",
         "1986-8-19",
         "https://dummyjson.com/icon/henryh/128",
         "O-",
         180.25,
         95.84,
         "Gray",
         [
          "Black",
          "Straight"
         ],
         "194.43.55.202",
         [
          "1837 Maple Street",
          "Indianapolis",
          [
           35.498256,
           154.088476
          ],
          "United States",
          "81783",
          "Delaware",
          "DE"
         ],
         "fa:c3:1b:21:5f:44",
         "University of Illinois--Urbana-Champaign",
         [
          "02/26",
          "7262597174206766",
          "Diners Club International",
          "SEK",
          "7N3JP8KN9AUNXOWRQGAU2JX6"
         ],
         [
          [
           "1651 Lincoln Street",
           "San Francisco",
           [
            -59.936335,
            -12.405368
           ],
           "United States",
           "61805",
           "West Virginia",
           "WV"
          ],
          "Services",
          "Gerlach, Funk and Schoen",
          "Sales Manager"
         ],
         "118-957",
         "925-686-100",
         "Mozilla/5.0 (Windows NT 10.0; Win64; x64) AppleWebKit/537.36 (KHTML, like Gecko) Chrome/96.0.4664.93 Safari/537.36",
         [
          "Bitcoin",
          "Ethereum (ERC20)",
          "0xb9fc2fe63b2a6c003f1c324c3bfa53259162181a"
         ],
         "user"
        ],
        [
         17,
         "Evelyn",
         "Sanchez",
         "",
         37,
         "female",
         "evelyn.sanchez@x.dummyjson.com",
         "+1 623-880-6871",
         "evelyns",
         "evelynspass",
         "1987-10-13",
         "https://dummyjson.com/icon/evelyns/128",
         "B+",
         184.08,
         83.15,
         "Violet",
         [
          "Blue",
          "Curly"
         ],
         "87.114.135.146",
         [
          "1170 Lincoln Street",
          "San Diego",
          [
           -83.31484,
           11.768071
          ],
          "United States",
          "43423",
          "Wyoming",
          "WY"
         ],
         "f8:e5:bd:43:bc:d8",
         "Washington University in St. Louis",
         [
          "04/29",
          "4557521697420096",
          "UnionPay",
          "SEK",
          "KN8XAPR2J5UB8AKDI1EVJ56R"
         ],
         [
          [
           "1802 Ninth Street",
           "San Diego",
           [
            29.034592,
            -78.004598
           ],
           "United States",
           "89416",
           "Minnesota",
           "MN"
          ],
          "Support",
          "Predovic - Johns",
          "Chief Financial Officer"
         ],
         "604-817",
         "689-332-644",
         "Mozilla/5.0 (Macintosh; Intel Mac OS X 10_15_7) AppleWebKit/537.36 (KHTML, like Gecko) Chrome/96.0.4664.45 Safari/537.36",
         [
          "Bitcoin",
          "Ethereum (ERC20)",
          "0xb9fc2fe63b2a6c003f1c324c3bfa53259162181a"
         ],
         "user"
        ],
        [
         14,
         "Charlotte",
         "Lopez",
         "Martinez",
         36,
         "female",
         "charlotte.lopez@x.dummyjson.com",
         "+44 373-953-5028",
         "charlottem",
         "charlottempass",
         "1988-6-8",
         "https://dummyjson.com/icon/charlottem/128",
         "AB-",
         178.92,
         82.46,
         "Brown",
         [
          "Gray",
          "Kinky"
         ],
         "119.103.95.60",
         [
          "208 Second Street",
          "Columbus",
          [
           -44.443762,
           -151.420561
          ],
          "United States",
          "42044",
          "Ohio",
          "OH"
         ],
         "f6:ff:37:aa:6c:f1",
         "Northeastern University",
         [
          "02/27",
          "5675368650551956",
          "Maestro",
          "CNY",
          "FKK6U634LGI3E7N517DLVVTL"
         ],
         [
          [
           "569 Jefferson Street",
           "Los Angeles",
           [
            -18.371256,
            22.566258
           ],
           "United States",
           "17779",
           "Montana",
           "MT"
          ],
          "Accounting",
          "Zulauf and Sons",
          "Chief Executive Officer"
         ],
         "364-782",
         "255-491-479",
         "Mozilla/5.0 (Windows NT 10.0; Win64; x64) AppleWebKit/537.36 (KHTML, like Gecko) Chrome/96.0.4664.45 Safari/537.36",
         [
          "Bitcoin",
          "Ethereum (ERC20)",
          "0xb9fc2fe63b2a6c003f1c324c3bfa53259162181a"
         ],
         "moderator"
        ],
        [
         2,
         "Michael",
         "Williams",
         "",
         35,
         "male",
         "michael.williams@x.dummyjson.com",
         "+49 258-627-6644",
         "michaelw",
         "michaelwpass",
         "1989-8-10",
         "https://dummyjson.com/icon/michaelw/128",
         "B+",
         186.22,
         76.32,
         "Red",
         [
          "Green",
          "Straight"
         ],
         "12.13.116.142",
         [
          "385 Fifth Street",
          "Houston",
          [
           22.815468,
           115.608581
          ],
          "United States",
          "38807",
          "Alabama",
          "AL"
         ],
         "79:15:78:99:60:aa",
         "Ohio State University",
         [
          "02/27",
          "6737807858721625",
          "Elo",
          "SEK",
          "83IDT77FWYLCJVR8ISDACFH0"
         ],
         [
          [
           "395 Main Street",
           "Los Angeles",
           [
            79.098326,
            -119.624845
           ],
           "United States",
           "73442",
           "New Hampshire",
           "NH"
          ],
          "Support",
          "Spinka - Dickinson",
          "Support Specialist"
         ],
         "912-602",
         "108-953-962",
         "Mozilla/5.0 (Windows NT 10.0; Win64; x64) AppleWebKit/537.36 (KHTML, like Gecko) Edge/97.0.1072.76 Safari/537.36",
         [
          "Bitcoin",
          "Ethereum (ERC20)",
          "0xb9fc2fe63b2a6c003f1c324c3bfa53259162181a"
         ],
         "admin"
        ],
        [
         26,
         "Evelyn",
         "Gonzalez",
         "",
         35,
         "female",
         "evelyn.gonzalez@x.dummyjson.com",
         "+61 708-508-4638",
         "evelyng",
         "evelyngpass",
         "1989-2-5",
         "https://dummyjson.com/icon/evelyng/128",
         "O+",
         168.94,
         58.47,
         "Red",
         [
          "Black",
          "Wavy"
         ],
         "42.52.74.232",
         [
          "1065 Lincoln Street",
          "Dallas",
          [
           67.768359,
           71.268643
          ],
          "United States",
          "84898",
          "Maine",
          "ME"
         ],
         "89:5e:5a:2a:72:42",
         "Washington University in St. Louis",
         [
          "03/28",
          "9584313788145560",
          "RuPay",
          "INR",
          "X4UPULQG61VIGA97USY7AAEB"
         ],
         [
          [
           "584 Ninth Street",
           "Jacksonville",
           [
            26.014021,
            40.572436
           ],
           "United States",
           "45633",
           "Wisconsin",
           "WI"
          ],
          "Accounting",
          "Tromp, Gaylord and Weber",
          "Project Manager"
         ],
         "569-275",
         "487-680-127",
         "Mozilla/5.0 (Windows NT 10.0; Win64; x64) AppleWebKit/537.36 (KHTML, like Gecko) Chrome/95.0.4638.54 Safari/537.36",
         [
          "Bitcoin",
          "Ethereum (ERC20)",
          "0xb9fc2fe63b2a6c003f1c324c3bfa53259162181a"
         ],
         "user"
        ],
        [
         20,
         "Jackson",
         "Evans",
         "",
         34,
         "male",
         "jackson.evans@x.dummyjson.com",
         "+44 468-628-6686",
         "jacksone",
         "jacksonepass",
         "1990-11-30",
         "https://dummyjson.com/icon/jacksone/128",
         "O-",
         162.57,
         74.37,
         "Green",
         [
          "Red",
          "Straight"
         ],
         "221.127.144.198",
         [
          "1873 Main Street",
          "New York",
          [
           34.722451,
           63.448927
          ],
          "United States",
          "26600",
          "Arkansas",
          "AR"
         ],
         "81:14:1:97:88:85",
         "Ohio State University",
         [
          "04/26",
          "2109192842527801",
          "BC Card",
          "EUR",
          "TX26FO9B7YR2VHYDSJBE32AX"
         ],
         [
          [
           "1706 First Street",
           "Chicago",
           [
            -80.416937,
            -83.224516
           ],
           "United States",
           "34725",
           "Hawaii",
           "HI"
          ],
          "Legal",
          "Kuhlman LLC",
          "Web Developer"
         ],
         "843-260",
         "248-787-886",
         "Mozilla/5.0 (Macintosh; Intel Mac OS X 10_15_7) AppleWebKit/537.36 (KHTML, like Gecko) Chrome/97.0.4692.99 Safari/537.36",
         [
          "Bitcoin",
          "Ethereum (ERC20)",
          "0xb9fc2fe63b2a6c003f1c324c3bfa53259162181a"
         ],
         "user"
        ],
        [
         9,
         "Ethan",
         "Martinez",
         "",
         33,
         "male",
         "ethan.martinez@x.dummyjson.com",
         "+92 933-608-5081",
         "ethanm",
         "ethanmpass",
         "1991-2-12",
         "https://dummyjson.com/icon/ethanm/128",
         "AB+",
         159.19,
         68.81,
         "Hazel",
         [
          "Purple",
          "Curly"
         ],
         "63.191.127.71",
         [
          "466 Pine Street",
          "San Antonio",
          [
           74.074918,
           -25.312703
          ],
          "United States",
          "72360",
          "Louisiana",
          "LA"
         ],
         "59:e:9e:e3:29:da",
         "Syracuse University",
         [
          "02/25",
          "7183482484317509",
          "Visa",
          "CAD",
          "CW5U5KS23U7JYD22TVQL7SIH"
         ],
         [
          [
           "1597 Oak Street",
           "Chicago",
           [
            -67.45208,
            -23.209886
           ],
           "United States",
           "28100",
           "Florida",
           "FL"
          ],
          "Support",
          "Gorczany - Gottlieb",
          "Legal Counsel"
         ],
         "790-434",
         "569-650-348",
         "Mozilla/5.0 (Windows NT 10.0; Win64; x64) AppleWebKit/537.36 (KHTML, like Gecko) Chrome/95.0.4638.69 Safari/537.36",
         [
          "Bitcoin",
          "Ethereum (ERC20)",
          "0xb9fc2fe63b2a6c003f1c324c3bfa53259162181a"
         ],
         "moderator"
        ],
        [
         22,
         "Elijah",
         "Stewart",
         "",
         33,
         "male",
         "elijah.stewart@x.dummyjson.com",
         "+44 468-357-7872",
         "elijahs",
         "elijahspass",
         "1991-10-22",
         "https://dummyjson.com/icon/elijahs/128",
         "A-",
         195.33,
         81.64,
         "Blue",
         [
          "Purple",
          "Straight"
         ],
         "23.87.135.62",
         [
          "1701 Eighth Street",
          "Columbus",
          [
           -54.833799,
           -174.504027
          ],
          "United States",
          "31585",
          "Illinois",
          "IL"
         ],
         "75:17:c6:35:fc:6d",
         "Georgetown University",
         [
          "05/27",
          "0798116671286564",
          "JCB",
          "GBP",
          "E1XUHCC1N39WGU6XESSK1CAO"
         ],
         [
          [
           "155 Ninth Street",
           "Washington",
           [
            61.279254,
            -12.607767
           ],
           "United States",
           "19039",
           "South Dakota",
           "SD"
          ],
          "Legal",
          "Langworth Group",
          "Business Analyst"
         ],
         "520-394",
         "287-380-801",
         "Mozilla/5.0 (Macintosh; Intel Mac OS X 10_15_7) AppleWebKit/537.36 (KHTML, like Gecko) Chrome/96.0.4664.93 Safari/537.36",
         [
          "Bitcoin",
          "Ethereum (ERC20)",
          "0xb9fc2fe63b2a6c003f1c324c3bfa53259162181a"
         ],
         "user"
        ],
        [
         15,
         "William",
         "Gonzalez",
         "",
         32,
         "male",
         "william.gonzalez@x.dummyjson.com",
         "+81 905-252-7319",
         "williamg",
         "williamgpass",
         "1992-3-27",
         "https://dummyjson.com/icon/williamg/128",
         "B-",
         173.21,
         82.41,
         "Hazel",
         [
          "Gray",
          "Curly"
         ],
         "250.2.241.204",
         [
          "31 Maple Street",
          "San Jose",
          [
           8.152876,
           113.29799
          ],
          "United States",
          "78243",
          "Utah",
          "UT"
         ],
         "f5:68:28:f9:ec:89",
         "Tufts University",
         [
          "03/27",
          "6053000793215148",
          "Mir",
          "EUR",
          "AR01SNDMKGECX0EYH7UCW61W"
         ],
         [
          [
           "1538 Eighth Street",
           "San Jose",
           [
            24.169361,
            -29.395167
           ],
           "United States",
           "29673",
           "Missouri",
           "MO"
          ],
          "Marketing",
          "Spinka - Dickinson",
          "Software Architect"
         ],
         "830-515",
         "690-544-755",
         "Mozilla/5.0 (Macintosh; Intel Mac OS X 10_15_7) AppleWebKit/537.36 (KHTML, like Gecko) Chrome/96.0.4664.93 Safari/537.36",
         [
          "Bitcoin",
          "Ethereum (ERC20)",
          "0xb9fc2fe63b2a6c003f1c324c3bfa53259162181a"
         ],
         "moderator"
        ],
        [
         30,
         "Addison",
         "Wright",
         "",
         32,
         "female",
         "addison.wright@x.dummyjson.com",
         "+1 514-384-3300",
         "addisonw",
         "addisonwpass",
         "1992-1-3",
         "https://dummyjson.com/icon/addisonw/128",
         "B+",
         179.32,
         76.93,
         "Brown",
         [
          "Blonde",
          "Straight"
         ],
         "11.35.69.81",
         [
          "568 Tenth Street",
          "San Francisco",
          [
           20.946052,
           100.228822
          ],
          "United States",
          "54698",
          "Montana",
          "MT"
         ],
         "fb:0:94:21:16:c",
         "Syracuse University",
         [
          "05/28",
          "3756638438861539",
          "Carte Bancaire",
          "JPY",
          "OOPQTNZ74OLPKVT7TGB89UQL"
         ],
         [
          [
           "1173 Eighth Street",
           "San Diego",
           [
            65.324413,
            87.142893
           ],
           "United States",
           "85777",
           "Michigan",
           "MI"
          ],
          "Services",
          "Kreiger Inc",
          "Human Resources Manager"
         ],
         "415-286",
         "804-492-390",
         "Mozilla/5.0 (Macintosh; Intel Mac OS X 10_15_7) AppleWebKit/537.36 (KHTML, like Gecko) Chrome/96.0.4664.93 Safari/537.36",
         [
          "Bitcoin",
          "Ethereum (ERC20)",
          "0xb9fc2fe63b2a6c003f1c324c3bfa53259162181a"
         ],
         "user"
        ],
        [
         10,
         "Isabella",
         "Anderson",
         "Davis",
         31,
         "female",
         "isabella.anderson@x.dummyjson.com",
         "+49 770-658-4885",
         "isabellad",
         "isabelladpass",
         "1993-6-10",
         "https://dummyjson.com/icon/isabellad/128",
         "A-",
         150.56,
         50.1,
         "Brown",
         [
          "Blonde",
          "Curly"
         ],
         "114.9.114.205",
         [
          "1964 Oak Street",
          "New York",
          [
           41.331324,
           151.782727
          ],
          "United States",
          "89352",
          "Utah",
          "UT"
         ],
         "b1:b0:d0:a2:82:80",
         "California Institute of Technology (Caltech)",
         [
          "05/27",
          "6118714010128731",
          "NPS",
          "CNY",
          "GBZRGDMKUOTO34HBCI7A986J"
         ],
         [
          [
           "1029 Adams Street",
           "San Diego",
           [
            -25.843393,
            -62.692681
           ],
           "United States",
           "63847",
           "Maryland",
           "MD"
          ],
          "Marketing",
          "Pollich - Hilpert",
          "Chief Financial Officer"
         ],
         "127-297",
         "902-438-728",
         "Mozilla/5.0 (Macintosh; Intel Mac OS X 10_15_7) AppleWebKit/537.36 (KHTML, like Gecko) Chrome/96.0.4664.93 Safari/537.36",
         [
          "Bitcoin",
          "Ethereum (ERC20)",
          "0xb9fc2fe63b2a6c003f1c324c3bfa53259162181a"
         ],
         "moderator"
        ],
        [
         18,
         "Logan",
         "Torres",
         "",
         31,
         "male",
         "logan.torres@x.dummyjson.com",
         "+81 507-434-8733",
         "logant",
         "logantpass",
         "1993-10-26",
         "https://dummyjson.com/icon/logant/128",
         "A+",
         190.04,
         72.43,
         "Green",
         [
          "Green",
          "Curly"
         ],
         "155.98.15.162",
         [
          "907 Seventh Street",
          "Columbus",
          [
           -64.846516,
           174.775744
          ],
          "United States",
          "78805",
          "Arkansas",
          "AR"
         ],
         "40:d:5c:1:7d:bf",
         "University of Illinois--Urbana-Champaign",
         [
          "05/26",
          "7884268130452098",
          "UnionPay",
          "NZD",
          "HZM7V9PYHPZBN72IDFPXGN8Q"
         ],
         [
          [
           "947 Main Street",
           "Denver",
           [
            -24.654063,
            -147.255268
           ],
           "United States",
           "71896",
           "Minnesota",
           "MN"
          ],
          "Training",
          "Jast - Nader",
          "Data Analyst"
         ],
         "576-218",
         "806-639-934",
         "Mozilla/5.0 (Macintosh; Intel Mac OS X 10_15_7) AppleWebKit/537.36 (KHTML, like Gecko) Chrome/96.0.4664.45 Safari/537.36",
         [
          "Bitcoin",
          "Ethereum (ERC20)",
          "0xb9fc2fe63b2a6c003f1c324c3bfa53259162181a"
         ],
         "user"
        ],
        [
         5,
         "Emma",
         "Miller",
         "Johnson",
         30,
         "female",
         "emma.miller@x.dummyjson.com",
         "+91 759-776-1614",
         "emmaj",
         "emmajpass",
         "1994-6-13",
         "https://dummyjson.com/icon/emmaj/128",
         "AB-",
         192.8,
         63.62,
         "Green",
         [
          "White",
          "Straight"
         ],
         "224.126.22.183",
         [
          "607 Fourth Street",
          "Jacksonville",
          [
           0.505589,
           -157.43281
          ],
          "United States",
          "26593",
          "Colorado",
          "CO"
         ],
         "32:b9:7e:8d:f5:e8",
         "Northeastern University",
         [
          "03/26",
          "5772950119588627",
          "American Express",
          "CAD",
          "TAVHURD845KVBTB8W81AQXRY"
         ],
         [
          [
           "1460 Sixth Street",
           "San Antonio",
           [
            44.346545,
            -26.944701
           ],
           "United States",
           "21965",
           "Idaho",
           "ID"
          ],
          "Human Resources",
          "Graham - Gulgowski",
          "Quality Assurance Engineer"
         ],
         "403-505",
         "526-210-885",
         "Mozilla/5.0 (Windows NT 10.0; Win64; x64; rv:97.0) Gecko/20100101 Firefox/97.0",
         [
          "Bitcoin",
          "Ethereum (ERC20)",
          "0xb9fc2fe63b2a6c003f1c324c3bfa53259162181a"
         ],
         "admin"
        ],
        [
         24,
         "Mateo",
         "Nguyen",
         "",
         30,
         "male",
         "mateo.nguyen@x.dummyjson.com",
         "+1 341-597-6694",
         "mateon",
         "mateonpass",
         "1994-6-2",
         "https://dummyjson.com/icon/mateon/128",
         "O+",
         174.29,
         59.98,
         "Red",
         [
          "Purple",
          "Wavy"
         ],
         "192.57.144.7",
         [
          "1578 Fourth Street",
          "Columbus",
          [
           -32.828675,
           -82.557354
          ],
          "United States",
          "20673",
          "Missouri",
          "MO"
         ],
         "a7:26:10:7a:36:29",
         "Columbia University",
         [
          "03/26",
          "5545852224851851",
          "JCB",
          "TRY",
          "WEBE9SBX588VFUCVCA6KFHWB"
         ],
         [
          [
           "1967 Jefferson Street",
           "Dallas",
           [
            75.982676,
            164.459743
           ],
           "United States",
           "78527",
           "Louisiana",
           "LA"
          ],
          "Accounting",
          "Spinka LLC",
          "Business Analyst"
         ],
         "229-249",
         "416-877-230",
         "Mozilla/5.0 (Windows NT 10.0; Win64; x64) AppleWebKit/537.36 (KHTML, like Gecko) Chrome/95.0.4638.69 Safari/537.36",
         [
          "Bitcoin",
          "Ethereum (ERC20)",
          "0xb9fc2fe63b2a6c003f1c324c3bfa53259162181a"
         ],
         "user"
        ],
        [
         11,
         "Liam",
         "Garcia",
         "",
         29,
         "male",
         "liam.garcia@x.dummyjson.com",
         "+92 870-217-6201",
         "liamg",
         "liamgpass",
         "1995-6-6",
         "https://dummyjson.com/icon/liamg/128",
         "AB-",
         162.32,
         93.16,
         "Violet",
         [
          "Red",
          "Wavy"
         ],
         "56.201.85.9",
         [
          "576 Fifth Street",
          "Denver",
          [
           -66.218177,
           -145.340165
          ],
          "United States",
          "57252",
          "South Dakota",
          "SD"
         ],
         "31:9a:28:8b:99:6c",
         "Ohio State University",
         [
          "02/27",
          "2302893002194899",
          "Discover",
          "GBP",
          "O8ENPRB9UVBL2EFZ7601KC09"
         ],
         [
          [
           "27 Cedar Street",
           "Philadelphia",
           [
            -81.841588,
            31.79423
           ],
           "United States",
           "79574",
           "Connecticut",
           "CT"
          ],
          "Services",
          "Considine - Torp",
          "Web Developer"
         ],
         "326-604",
         "933-784-949",
         "Mozilla/5.0 (Macintosh; Intel Mac OS X 10_15_7) AppleWebKit/537.36 (KHTML, like Gecko) Chrome/97.0.4692.99 Safari/537.36",
         [
          "Bitcoin",
          "Ethereum (ERC20)",
          "0xb9fc2fe63b2a6c003f1c324c3bfa53259162181a"
         ],
         "moderator"
        ],
        [
         28,
         "Lily",
         "Lee",
         "Brown",
         29,
         "female",
         "lily.lee@x.dummyjson.com",
         "+1 808-757-9867",
         "lilyb",
         "lilybpass",
         "1995-12-3",
         "https://dummyjson.com/icon/lilyb/128",
         "AB-",
         181.42,
         51.49,
         "Gray",
         [
          "Purple",
          "Straight"
         ],
         "67.184.255.96",
         [
          "1946 Oak Street",
          "Phoenix",
          [
           -9.87059,
           -72.336845
          ],
          "United States",
          "41540",
          "Massachusetts",
          "MA"
         ],
         "18:b6:c7:a:50:3f",
         "Johns Hopkins University",
         [
          "05/29",
          "2903637820228856",
          "Visa",
          "JPY",
          "BKX6ZWB8UJZD09RFOWFPPD3C"
         ],
         [
          [
           "1735 Cedar Street",
           "Phoenix",
           [
            72.231441,
            -158.147245
           ],
           "United States",
           "85797",
           "Wyoming",
           "WY"
          ],
          "Product Management",
          "Cremin Inc",
          "Quality Assurance Engineer"
         ],
         "229-776",
         "358-185-671",
         "Mozilla/5.0 (Windows NT 10.0; Win64; x64) AppleWebKit/537.36 (KHTML, like Gecko) Edge/97.0.1072.76 Safari/537.36",
         [
          "Bitcoin",
          "Ethereum (ERC20)",
          "0xb9fc2fe63b2a6c003f1c324c3bfa53259162181a"
         ],
         "user"
        ],
        [
         1,
         "Emily",
         "Johnson",
         "Smith",
         28,
         "female",
         "emily.johnson@x.dummyjson.com",
         "+81 965-431-3024",
         "emilys",
         "emilyspass",
         "1996-5-30",
         "https://dummyjson.com/icon/emilys/128",
         "O-",
         193.24,
         63.16,
         "Green",
         [
          "Brown",
          "Curly"
         ],
         "42.48.100.32",
         [
          "626 Main Street",
          "Phoenix",
          [
           -77.16213,
           -92.084824
          ],
          "United States",
          "29112",
          "Mississippi",
          "MS"
         ],
         "47:fa:41:18:ec:eb",
         "University of Wisconsin--Madison",
         [
          "03/26",
          "9289760655481815",
          "Elo",
          "CNY",
          "YPUXISOBI7TTHPK2BR3HAIXL"
         ],
         [
          [
           "263 Tenth Street",
           "San Francisco",
           [
            71.814525,
            -161.150263
           ],
           "United States",
           "37657",
           "Wisconsin",
           "WI"
          ],
          "Engineering",
          "Dooley, Kozey and Cronin",
          "Sales Manager"
         ],
         "977-175",
         "900-590-289",
         "Mozilla/5.0 (Macintosh; Intel Mac OS X 10_15_7) AppleWebKit/537.36 (KHTML, like Gecko) Chrome/96.0.4664.93 Safari/537.36",
         [
          "Bitcoin",
          "Ethereum (ERC20)",
          "0xb9fc2fe63b2a6c003f1c324c3bfa53259162181a"
         ],
         "admin"
        ],
        [
         19,
         "Abigail",
         "Rivera",
         "",
         28,
         "female",
         "abigail.rivera@x.dummyjson.com",
         "+91 228-363-7806",
         "abigailr",
         "abigailrpass",
         "1996-10-11",
         "https://dummyjson.com/icon/abigailr/128",
         "B+",
         186.39,
         74.61,
         "Violet",
         [
          "Blue",
          "Kinky"
         ],
         "19.183.240.94",
         [
          "996 Oak Street",
          "Chicago",
          [
           44.321308,
           -3.723903
          ],
          "United States",
          "11407",
          "New Mexico",
          "NM"
         ],
         "1d:a6:58:2a:e5:e4",
         "California Institute of Technology (Caltech)",
         [
          "02/28",
          "4832361886407551",
          "RuPay",
          "BRL",
          "O02LHDNNFCVSM6D4H81DIQHE"
         ],
         [
          [
           "1402 Adams Street",
           "Austin",
           [
            25.672938,
            -76.54967
           ],
           "United States",
           "51456",
           "Wisconsin",
           "WI"
          ],
          "Human Resources",
          "Prohaska - Thiel",
          "Business Analyst"
         ],
         "173-637",
         "655-823-929",
         "Mozilla/5.0 (Windows NT 10.0; Win64; x64) AppleWebKit/537.36 (KHTML, like Gecko) Edge/97.0.1072.76 Safari/537.36",
         [
          "Bitcoin",
          "Ethereum (ERC20)",
          "0xb9fc2fe63b2a6c003f1c324c3bfa53259162181a"
         ],
         "user"
        ],
        [
         8,
         "Ava",
         "Taylor",
         "",
         27,
         "female",
         "ava.taylor@x.dummyjson.com",
         "+1 458-853-7877",
         "avat",
         "avatpass",
         "1997-8-25",
         "https://dummyjson.com/icon/avat/128",
         "AB-",
         168.47,
         57.08,
         "Hazel",
         [
          "Red",
          "Kinky"
         ],
         "150.73.197.233",
         [
          "1197 First Street",
          "Fort Worth",
          [
           -81.194833,
           -87.948158
          ],
          "United States",
          "24771",
          "Rhode Island",
          "RI"
         ],
         "8d:2e:c2:d6:e7:a8",
         "University of Wisconsin--Madison",
         [
          "01/29",
          "6412128967460199",
          "Maestro",
          "CNY",
          "TS66YQ8R16OX7IJKLUONDQHP"
         ],
         [
          [
           "930 Lincoln Street",
           "Austin",
           [
            87.970083,
            -42.769351
           ],
           "United States",
           "47592",
           "Colorado",
           "CO"
          ],
          "Marketing",
          "Nikolaus Inc",
          "Chief Executive Officer"
         ],
         "297-762",
         "257-419-109",
         "Mozilla/5.0 (Windows NT 10.0; Win64; x64) AppleWebKit/537.36 (KHTML, like Gecko) Chrome/96.0.4664.45 Safari/537.36",
         [
          "Bitcoin",
          "Ethereum (ERC20)",
          "0xb9fc2fe63b2a6c003f1c324c3bfa53259162181a"
         ],
         "moderator"
        ],
        [
         25,
         "Harper",
         "Kelly",
         "Evans",
         27,
         "female",
         "harper.kelly@x.dummyjson.com",
         "+92 518-863-2863",
         "harpere",
         "harperepass",
         "1997-3-3",
         "https://dummyjson.com/icon/harpere/128",
         "AB-",
         184.32,
         81.69,
         "Amber",
         [
          "Red",
          "Curly"
         ],
         "174.111.61.162",
         [
          "1591 Adams Street",
          "Philadelphia",
          [
           -26.832913,
           -75.445017
          ],
          "United States",
          "69521",
          "New York",
          "NY"
         ],
         "b:ff:33:67:94:e4",
         "Boston College",
         [
          "04/26",
          "1298153007505587",
          "RuPay",
          "JPY",
          "DJI19LCUNUHP6YSGPY52D5VG"
         ],
         [
          [
           "16 Maple Street",
           "Austin",
           [
            -15.423746,
            149.298887
           ],
           "United States",
           "68274",
           "North Carolina",
           "NC"
          ],
          "Legal",
          "Leffler, Rolfson and Becker",
          "Business Development Manager"
         ],
         "592-557",
         "209-544-548",
         "Mozilla/5.0 (Macintosh; Intel Mac OS X 10_15_7) AppleWebKit/537.36 (KHTML, like Gecko) Chrome/97.0.4692.99 Safari/537.36",
         [
          "Bitcoin",
          "Ethereum (ERC20)",
          "0xb9fc2fe63b2a6c003f1c324c3bfa53259162181a"
         ],
         "user"
        ],
        [
         21,
         "Madison",
         "Collins",
         "",
         26,
         "female",
         "madison.collins@x.dummyjson.com",
         "+81 259-957-5711",
         "madisonc",
         "madisoncpass",
         "1998-3-7",
         "https://dummyjson.com/icon/madisonc/128",
         "B-",
         189.28,
         56.96,
         "Red",
         [
          "Gray",
          "Curly"
         ],
         "85.34.1.204",
         [
          "1892 Lincoln Street",
          "Philadelphia",
          [
           52.993694,
           160.486892
          ],
          "United States",
          "62091",
          "New Jersey",
          "NJ"
         ],
         "13:b0:d0:23:4d:26",
         "University of Pennsylvania",
         [
          "04/28",
          "5549175461210252",
          "Mir",
          "CNY",
          "Y0WSN5IED255808SIYBUOMWO"
         ],
         [
          [
           "1438 Main Street",
           "San Diego",
           [
            1.629613,
            23.232982
           ],
           "United States",
           "63144",
           "Delaware",
           "DE"
          ],
          "Engineering",
          "Mayer - Smitham",
          "Chief Technology Officer"
         ],
         "716-166",
         "457-258-950",
         "Mozilla/5.0 (Macintosh; Intel Mac OS X 10_15_7) AppleWebKit/537.36 (KHTML, like Gecko) Chrome/97.0.4692.99 Safari/537.36",
         [
          "Bitcoin",
          "Ethereum (ERC20)",
          "0xb9fc2fe63b2a6c003f1c324c3bfa53259162181a"
         ],
         "user"
        ],
        [
         16,
         "Avery",
         "Perez",
         "",
         25,
         "female",
         "avery.perez@x.dummyjson.com",
         "+61 731-431-3457",
         "averyp",
         "averyppass",
         "1999-3-10",
         "https://dummyjson.com/icon/averyp/128",
         "O-",
         172.68,
         93.9,
         "Brown",
         [
          "Green",
          "Curly"
         ],
         "131.217.4.214",
         [
          "1125 First Street",
          "Columbus",
          [
           12.789127,
           85.792598
          ],
          "United States",
          "30973",
          "Iowa",
          "IA"
         ],
         "b3:ff:f3:c5:37:46",
         "Harvard University",
         [
          "04/27",
          "0961014686718571",
          "Carte Bancaire",
          "USD",
          "28JYZAY4KYT48YI8QW40PWXR"
         ],
         [
          [
           "183 Maple Street",
           "New York",
           [
            -53.318189,
            105.835271
           ],
           "United States",
           "45238",
           "Rhode Island",
           "RI"
          ],
          "Accounting",
          "Herzog Inc",
          "Database Administrator"
         ],
         "348-493",
         "679-523-686",
         "Mozilla/5.0 (Macintosh; Intel Mac OS X 10_15_7) AppleWebKit/537.36 (KHTML, like Gecko) Chrome/95.0.4638.69 Safari/537.36",
         [
          "Bitcoin",
          "Ethereum (ERC20)",
          "0xb9fc2fe63b2a6c003f1c324c3bfa53259162181a"
         ],
         "user"
        ],
        [
         12,
         "Mia",
         "Rodriguez",
         "",
         24,
         "female",
         "mia.rodriguez@x.dummyjson.com",
         "+49 989-461-8403",
         "miar",
         "miarpass",
         "2000-8-4",
         "https://dummyjson.com/icon/miar/128",
         "O-",
         188.08,
         56.03,
         "Blue",
         [
          "Purple",
          "Wavy"
         ],
         "11.72.253.90",
         [
          "1627 Sixth Street",
          "Jacksonville",
          [
           24.857497,
           -34.865429
          ],
          "United States",
          "41810",
          "West Virginia",
          "WV"
         ],
         "53:d7:a4:6:1e:58",
         "William & Mary",
         [
          "05/26",
          "1539872303456158",
          "Carte Bancaire",
          "CAD",
          "EBMD95RLK8B82ZAZNXBJ09V5"
         ],
         [
          [
           "1039 Washington Street",
           "Philadelphia",
           [
            85.455933,
            164.246103
           ],
           "United States",
           "57518",
           "New Jersey",
           "NJ"
          ],
          "Accounting",
          "Miller, Schowalter and Wisozk",
          "Business Analyst"
         ],
         "754-660",
         "749-524-124",
         "Mozilla/5.0 (Macintosh; Intel Mac OS X 10_15_7) AppleWebKit/537.36 (KHTML, like Gecko) Chrome/95.0.4638.54 Safari/537.36",
         [
          "Bitcoin",
          "Ethereum (ERC20)",
          "0xb9fc2fe63b2a6c003f1c324c3bfa53259162181a"
         ],
         "moderator"
        ],
        [
         6,
         "Olivia",
         "Wilson",
         "",
         22,
         "female",
         "olivia.wilson@x.dummyjson.com",
         "+91 607-295-6448",
         "oliviaw",
         "oliviawpass",
         "2002-4-20",
         "https://dummyjson.com/icon/oliviaw/128",
         "B+",
         182.61,
         58,
         "Hazel",
         [
          "Gray",
          "Curly"
         ],
         "249.178.112.207",
         [
          "547 First Street",
          "Fort Worth",
          [
           75.32627,
           -26.15285
          ],
          "United States",
          "83843",
          "Tennessee",
          "TN"
         ],
         "9c:7f:ea:34:18:19",
         "University of North Carolina--Chapel Hill",
         [
          "05/28",
          "6771923832947881",
          "Diners Club International",
          "BRL",
          "V6H0O5OE3Q4JVKWDTYWZABMD"
         ],
         [
          [
           "425 Sixth Street",
           "Indianapolis",
           [
            74.986644,
            -132.916888
           ],
           "United States",
           "74263",
           "Oklahoma",
           "OK"
          ],
          "Product Management",
          "Pfannerstill Inc",
          "Research Analyst"
         ],
         "921-709",
         "836-772-168",
         "Mozilla/5.0 (Macintosh; Intel Mac OS X 10_15_7) AppleWebKit/605.1.15 (KHTML, like Gecko) Version/15.3 Safari/605.1.15",
         [
          "Bitcoin",
          "Ethereum (ERC20)",
          "0xb9fc2fe63b2a6c003f1c324c3bfa53259162181a"
         ],
         "moderator"
        ]
       ],
       "datasetInfos": [],
       "dbfsResultPath": null,
       "isJsonSchema": true,
       "metadata": {},
       "overflow": false,
       "plotOptions": {
        "customPlotOptions": {},
        "displayType": "table",
        "pivotAggregation": null,
        "pivotColumns": null,
        "xColumns": null,
        "yColumns": null
       },
       "removedWidgets": [],
       "schema": [
        {
         "metadata": "{}",
         "name": "id",
         "type": "\"long\""
        },
        {
         "metadata": "{}",
         "name": "firstName",
         "type": "\"string\""
        },
        {
         "metadata": "{}",
         "name": "lastName",
         "type": "\"string\""
        },
        {
         "metadata": "{}",
         "name": "maidenName",
         "type": "\"string\""
        },
        {
         "metadata": "{}",
         "name": "age",
         "type": "\"long\""
        },
        {
         "metadata": "{}",
         "name": "gender",
         "type": "\"string\""
        },
        {
         "metadata": "{}",
         "name": "email",
         "type": "\"string\""
        },
        {
         "metadata": "{}",
         "name": "phone",
         "type": "\"string\""
        },
        {
         "metadata": "{}",
         "name": "username",
         "type": "\"string\""
        },
        {
         "metadata": "{}",
         "name": "password",
         "type": "\"string\""
        },
        {
         "metadata": "{}",
         "name": "birthDate",
         "type": "\"string\""
        },
        {
         "metadata": "{}",
         "name": "image",
         "type": "\"string\""
        },
        {
         "metadata": "{}",
         "name": "bloodGroup",
         "type": "\"string\""
        },
        {
         "metadata": "{}",
         "name": "height",
         "type": "\"double\""
        },
        {
         "metadata": "{}",
         "name": "weight",
         "type": "\"double\""
        },
        {
         "metadata": "{}",
         "name": "eyeColor",
         "type": "\"string\""
        },
        {
         "metadata": "{}",
         "name": "hair",
         "type": "{\"type\":\"struct\",\"fields\":[{\"name\":\"color\",\"type\":\"string\",\"nullable\":true,\"metadata\":{}},{\"name\":\"type\",\"type\":\"string\",\"nullable\":true,\"metadata\":{}}]}"
        },
        {
         "metadata": "{}",
         "name": "ip",
         "type": "\"string\""
        },
        {
         "metadata": "{}",
         "name": "address",
         "type": "{\"type\":\"struct\",\"fields\":[{\"name\":\"address\",\"type\":\"string\",\"nullable\":true,\"metadata\":{}},{\"name\":\"city\",\"type\":\"string\",\"nullable\":true,\"metadata\":{}},{\"name\":\"coordinates\",\"type\":{\"type\":\"struct\",\"fields\":[{\"name\":\"lat\",\"type\":\"double\",\"nullable\":true,\"metadata\":{}},{\"name\":\"lng\",\"type\":\"double\",\"nullable\":true,\"metadata\":{}}]},\"nullable\":true,\"metadata\":{}},{\"name\":\"country\",\"type\":\"string\",\"nullable\":true,\"metadata\":{}},{\"name\":\"postalCode\",\"type\":\"string\",\"nullable\":true,\"metadata\":{}},{\"name\":\"state\",\"type\":\"string\",\"nullable\":true,\"metadata\":{}},{\"name\":\"stateCode\",\"type\":\"string\",\"nullable\":true,\"metadata\":{}}]}"
        },
        {
         "metadata": "{}",
         "name": "macAddress",
         "type": "\"string\""
        },
        {
         "metadata": "{}",
         "name": "university",
         "type": "\"string\""
        },
        {
         "metadata": "{}",
         "name": "bank",
         "type": "{\"type\":\"struct\",\"fields\":[{\"name\":\"cardExpire\",\"type\":\"string\",\"nullable\":true,\"metadata\":{}},{\"name\":\"cardNumber\",\"type\":\"string\",\"nullable\":true,\"metadata\":{}},{\"name\":\"cardType\",\"type\":\"string\",\"nullable\":true,\"metadata\":{}},{\"name\":\"currency\",\"type\":\"string\",\"nullable\":true,\"metadata\":{}},{\"name\":\"iban\",\"type\":\"string\",\"nullable\":true,\"metadata\":{}}]}"
        },
        {
         "metadata": "{}",
         "name": "company",
         "type": "{\"type\":\"struct\",\"fields\":[{\"name\":\"address\",\"type\":{\"type\":\"struct\",\"fields\":[{\"name\":\"address\",\"type\":\"string\",\"nullable\":true,\"metadata\":{}},{\"name\":\"city\",\"type\":\"string\",\"nullable\":true,\"metadata\":{}},{\"name\":\"coordinates\",\"type\":{\"type\":\"struct\",\"fields\":[{\"name\":\"lat\",\"type\":\"double\",\"nullable\":true,\"metadata\":{}},{\"name\":\"lng\",\"type\":\"double\",\"nullable\":true,\"metadata\":{}}]},\"nullable\":true,\"metadata\":{}},{\"name\":\"country\",\"type\":\"string\",\"nullable\":true,\"metadata\":{}},{\"name\":\"postalCode\",\"type\":\"string\",\"nullable\":true,\"metadata\":{}},{\"name\":\"state\",\"type\":\"string\",\"nullable\":true,\"metadata\":{}},{\"name\":\"stateCode\",\"type\":\"string\",\"nullable\":true,\"metadata\":{}}]},\"nullable\":true,\"metadata\":{}},{\"name\":\"department\",\"type\":\"string\",\"nullable\":true,\"metadata\":{}},{\"name\":\"name\",\"type\":\"string\",\"nullable\":true,\"metadata\":{}},{\"name\":\"title\",\"type\":\"string\",\"nullable\":true,\"metadata\":{}}]}"
        },
        {
         "metadata": "{}",
         "name": "ein",
         "type": "\"string\""
        },
        {
         "metadata": "{}",
         "name": "ssn",
         "type": "\"string\""
        },
        {
         "metadata": "{}",
         "name": "userAgent",
         "type": "\"string\""
        },
        {
         "metadata": "{}",
         "name": "crypto",
         "type": "{\"type\":\"struct\",\"fields\":[{\"name\":\"coin\",\"type\":\"string\",\"nullable\":true,\"metadata\":{}},{\"name\":\"network\",\"type\":\"string\",\"nullable\":true,\"metadata\":{}},{\"name\":\"wallet\",\"type\":\"string\",\"nullable\":true,\"metadata\":{}}]}"
        },
        {
         "metadata": "{}",
         "name": "role",
         "type": "\"string\""
        }
       ],
       "type": "table"
      }
     },
     "output_type": "display_data"
    }
   ],
   "source": [
    "# Sort users by age descending\n",
    "df_sorted = df.orderBy(col(\"age\").desc())\n",
    "display(df_sorted)\n"
   ]
  },
  {
   "cell_type": "code",
   "execution_count": 0,
   "metadata": {
    "application/vnd.databricks.v1+cell": {
     "cellMetadata": {
      "byteLimit": 2048000,
      "rowLimit": 10000
     },
     "inputWidgets": {},
     "nuid": "24dfed44-37b9-49e8-822c-c1274734158f",
     "showTitle": false,
     "tableResultSettingsMap": {},
     "title": ""
    }
   },
   "outputs": [],
   "source": [
    "# Create a temporary view\n",
    "df.createOrReplaceTempView(\"users\")\n"
   ]
  },
  {
   "cell_type": "code",
   "execution_count": 0,
   "metadata": {
    "application/vnd.databricks.v1+cell": {
     "cellMetadata": {
      "byteLimit": 2048000,
      "implicitDf": true,
      "rowLimit": 10000
     },
     "inputWidgets": {},
     "nuid": "071e666a-0048-4564-bd80-268124cd3a39",
     "showTitle": false,
     "tableResultSettingsMap": {},
     "title": ""
    }
   },
   "outputs": [
    {
     "data": {
      "text/html": [
       "<style scoped>\n",
       "  .table-result-container {\n",
       "    max-height: 300px;\n",
       "    overflow: auto;\n",
       "  }\n",
       "  table, th, td {\n",
       "    border: 1px solid black;\n",
       "    border-collapse: collapse;\n",
       "  }\n",
       "  th, td {\n",
       "    padding: 5px;\n",
       "  }\n",
       "  th {\n",
       "    text-align: left;\n",
       "  }\n",
       "</style><div class='table-result-container'><table class='table-result'><thead style='background-color: white'><tr><th>id</th><th>firstName</th><th>lastName</th><th>maidenName</th><th>age</th><th>gender</th><th>email</th><th>phone</th><th>username</th><th>password</th><th>birthDate</th><th>image</th><th>bloodGroup</th><th>height</th><th>weight</th><th>eyeColor</th><th>hair</th><th>ip</th><th>address</th><th>macAddress</th><th>university</th><th>bank</th><th>company</th><th>ein</th><th>ssn</th><th>userAgent</th><th>crypto</th><th>role</th></tr></thead><tbody><tr><td>1</td><td>Emily</td><td>Johnson</td><td>Smith</td><td>28</td><td>female</td><td>emily.johnson@x.dummyjson.com</td><td>+81 965-431-3024</td><td>emilys</td><td>emilyspass</td><td>1996-5-30</td><td>https://dummyjson.com/icon/emilys/128</td><td>O-</td><td>193.24</td><td>63.16</td><td>Green</td><td>List(Brown, Curly)</td><td>42.48.100.32</td><td>List(626 Main Street, Phoenix, List(-77.16213, -92.084824), United States, 29112, Mississippi, MS)</td><td>47:fa:41:18:ec:eb</td><td>University of Wisconsin--Madison</td><td>List(03/26, 9289760655481815, Elo, CNY, YPUXISOBI7TTHPK2BR3HAIXL)</td><td>List(List(263 Tenth Street, San Francisco, List(71.814525, -161.150263), United States, 37657, Wisconsin, WI), Engineering, Dooley, Kozey and Cronin, Sales Manager)</td><td>977-175</td><td>900-590-289</td><td>Mozilla/5.0 (Macintosh; Intel Mac OS X 10_15_7) AppleWebKit/537.36 (KHTML, like Gecko) Chrome/96.0.4664.93 Safari/537.36</td><td>List(Bitcoin, Ethereum (ERC20), 0xb9fc2fe63b2a6c003f1c324c3bfa53259162181a)</td><td>admin</td></tr><tr><td>2</td><td>Michael</td><td>Williams</td><td></td><td>35</td><td>male</td><td>michael.williams@x.dummyjson.com</td><td>+49 258-627-6644</td><td>michaelw</td><td>michaelwpass</td><td>1989-8-10</td><td>https://dummyjson.com/icon/michaelw/128</td><td>B+</td><td>186.22</td><td>76.32</td><td>Red</td><td>List(Green, Straight)</td><td>12.13.116.142</td><td>List(385 Fifth Street, Houston, List(22.815468, 115.608581), United States, 38807, Alabama, AL)</td><td>79:15:78:99:60:aa</td><td>Ohio State University</td><td>List(02/27, 6737807858721625, Elo, SEK, 83IDT77FWYLCJVR8ISDACFH0)</td><td>List(List(395 Main Street, Los Angeles, List(79.098326, -119.624845), United States, 73442, New Hampshire, NH), Support, Spinka - Dickinson, Support Specialist)</td><td>912-602</td><td>108-953-962</td><td>Mozilla/5.0 (Windows NT 10.0; Win64; x64) AppleWebKit/537.36 (KHTML, like Gecko) Edge/97.0.1072.76 Safari/537.36</td><td>List(Bitcoin, Ethereum (ERC20), 0xb9fc2fe63b2a6c003f1c324c3bfa53259162181a)</td><td>admin</td></tr><tr><td>3</td><td>Sophia</td><td>Brown</td><td></td><td>42</td><td>female</td><td>sophia.brown@x.dummyjson.com</td><td>+81 210-652-2785</td><td>sophiab</td><td>sophiabpass</td><td>1982-11-6</td><td>https://dummyjson.com/icon/sophiab/128</td><td>O-</td><td>177.72</td><td>52.6</td><td>Hazel</td><td>List(White, Wavy)</td><td>214.225.51.195</td><td>List(1642 Ninth Street, Washington, List(45.289366, 46.832664), United States, 32822, Alabama, AL)</td><td>12:a3:d3:6f:5c:5b</td><td>Pepperdine University</td><td>List(04/25, 7795895470082859, Korean Express, SEK, 90XYKT83LMM7AARZ8JN958JC)</td><td>List(List(1896 Washington Street, Dallas, List(20.086743, -34.577107), United States, 88511, Nevada, NV), Research and Development, Schiller - Zieme, Accountant)</td><td>963-113</td><td>638-461-822</td><td>Mozilla/5.0 (Windows NT 10.0; Win64; x64) AppleWebKit/537.36 (KHTML, like Gecko) Chrome/96.0.4664.45 Safari/537.36</td><td>List(Bitcoin, Ethereum (ERC20), 0xb9fc2fe63b2a6c003f1c324c3bfa53259162181a)</td><td>admin</td></tr><tr><td>4</td><td>James</td><td>Davis</td><td></td><td>45</td><td>male</td><td>james.davis@x.dummyjson.com</td><td>+49 614-958-9364</td><td>jamesd</td><td>jamesdpass</td><td>1979-5-4</td><td>https://dummyjson.com/icon/jamesd/128</td><td>AB+</td><td>193.31</td><td>62.1</td><td>Amber</td><td>List(Blonde, Straight)</td><td>101.118.131.66</td><td>List(238 Jefferson Street, Seattle, List(16.782513, -139.34723), United States, 68354, Pennsylvania, PA)</td><td>10:7d:df:1f:97:58</td><td>University of Southern California</td><td>List(05/29, 5005519846254763, Mastercard, INR, 7N7ZH1PJ8Q4WU1K965HQQR27)</td><td>List(List(1622 Lincoln Street, Fort Worth, List(54.91193, -79.498328), United States, 27768, Pennsylvania, PA), Support, Pagac and Sons, Research Analyst)</td><td>904-810</td><td>116-951-314</td><td>Mozilla/5.0 (Macintosh; Intel Mac OS X 10_15_7) AppleWebKit/537.36 (KHTML, like Gecko) Chrome/97.0.4692.99 Safari/537.36</td><td>List(Bitcoin, Ethereum (ERC20), 0xb9fc2fe63b2a6c003f1c324c3bfa53259162181a)</td><td>admin</td></tr><tr><td>5</td><td>Emma</td><td>Miller</td><td>Johnson</td><td>30</td><td>female</td><td>emma.miller@x.dummyjson.com</td><td>+91 759-776-1614</td><td>emmaj</td><td>emmajpass</td><td>1994-6-13</td><td>https://dummyjson.com/icon/emmaj/128</td><td>AB-</td><td>192.8</td><td>63.62</td><td>Green</td><td>List(White, Straight)</td><td>224.126.22.183</td><td>List(607 Fourth Street, Jacksonville, List(0.505589, -157.43281), United States, 26593, Colorado, CO)</td><td>32:b9:7e:8d:f5:e8</td><td>Northeastern University</td><td>List(03/26, 5772950119588627, American Express, CAD, TAVHURD845KVBTB8W81AQXRY)</td><td>List(List(1460 Sixth Street, San Antonio, List(44.346545, -26.944701), United States, 21965, Idaho, ID), Human Resources, Graham - Gulgowski, Quality Assurance Engineer)</td><td>403-505</td><td>526-210-885</td><td>Mozilla/5.0 (Windows NT 10.0; Win64; x64; rv:97.0) Gecko/20100101 Firefox/97.0</td><td>List(Bitcoin, Ethereum (ERC20), 0xb9fc2fe63b2a6c003f1c324c3bfa53259162181a)</td><td>admin</td></tr><tr><td>6</td><td>Olivia</td><td>Wilson</td><td></td><td>22</td><td>female</td><td>olivia.wilson@x.dummyjson.com</td><td>+91 607-295-6448</td><td>oliviaw</td><td>oliviawpass</td><td>2002-4-20</td><td>https://dummyjson.com/icon/oliviaw/128</td><td>B+</td><td>182.61</td><td>58.0</td><td>Hazel</td><td>List(Gray, Curly)</td><td>249.178.112.207</td><td>List(547 First Street, Fort Worth, List(75.32627, -26.15285), United States, 83843, Tennessee, TN)</td><td>9c:7f:ea:34:18:19</td><td>University of North Carolina--Chapel Hill</td><td>List(05/28, 6771923832947881, Diners Club International, BRL, V6H0O5OE3Q4JVKWDTYWZABMD)</td><td>List(List(425 Sixth Street, Indianapolis, List(74.986644, -132.916888), United States, 74263, Oklahoma, OK), Product Management, Pfannerstill Inc, Research Analyst)</td><td>921-709</td><td>836-772-168</td><td>Mozilla/5.0 (Macintosh; Intel Mac OS X 10_15_7) AppleWebKit/605.1.15 (KHTML, like Gecko) Version/15.3 Safari/605.1.15</td><td>List(Bitcoin, Ethereum (ERC20), 0xb9fc2fe63b2a6c003f1c324c3bfa53259162181a)</td><td>moderator</td></tr><tr><td>7</td><td>Alexander</td><td>Jones</td><td></td><td>38</td><td>male</td><td>alexander.jones@x.dummyjson.com</td><td>+61 260-824-4986</td><td>alexanderj</td><td>alexanderjpass</td><td>1986-10-20</td><td>https://dummyjson.com/icon/alexanderj/128</td><td>AB-</td><td>153.89</td><td>77.42</td><td>Blue</td><td>List(White, Straight)</td><td>166.204.84.32</td><td>List(664 Maple Street, Indianapolis, List(35.289664, 7.063255), United States, 86684, Delaware, DE)</td><td>d2:64:58:2d:1c:46</td><td>University of Illinois--Urbana-Champaign</td><td>List(05/25, 7344951706130140, JCB, EUR, 49V4GVDVMP0MHIDD4VXMQ3A2)</td><td>List(List(996 Eighth Street, Washington, List(-75.462366, -128.025697), United States, 27858, Kansas, KS), Engineering, Dickens - Beahan, Web Developer)</td><td>638-127</td><td>722-993-925</td><td>Mozilla/5.0 (Macintosh; Intel Mac OS X 10_15_7) AppleWebKit/537.36 (KHTML, like Gecko) Chrome/95.0.4638.69 Safari/537.36</td><td>List(Bitcoin, Ethereum (ERC20), 0xb9fc2fe63b2a6c003f1c324c3bfa53259162181a)</td><td>moderator</td></tr><tr><td>8</td><td>Ava</td><td>Taylor</td><td></td><td>27</td><td>female</td><td>ava.taylor@x.dummyjson.com</td><td>+1 458-853-7877</td><td>avat</td><td>avatpass</td><td>1997-8-25</td><td>https://dummyjson.com/icon/avat/128</td><td>AB-</td><td>168.47</td><td>57.08</td><td>Hazel</td><td>List(Red, Kinky)</td><td>150.73.197.233</td><td>List(1197 First Street, Fort Worth, List(-81.194833, -87.948158), United States, 24771, Rhode Island, RI)</td><td>8d:2e:c2:d6:e7:a8</td><td>University of Wisconsin--Madison</td><td>List(01/29, 6412128967460199, Maestro, CNY, TS66YQ8R16OX7IJKLUONDQHP)</td><td>List(List(930 Lincoln Street, Austin, List(87.970083, -42.769351), United States, 47592, Colorado, CO), Marketing, Nikolaus Inc, Chief Executive Officer)</td><td>297-762</td><td>257-419-109</td><td>Mozilla/5.0 (Windows NT 10.0; Win64; x64) AppleWebKit/537.36 (KHTML, like Gecko) Chrome/96.0.4664.45 Safari/537.36</td><td>List(Bitcoin, Ethereum (ERC20), 0xb9fc2fe63b2a6c003f1c324c3bfa53259162181a)</td><td>moderator</td></tr><tr><td>9</td><td>Ethan</td><td>Martinez</td><td></td><td>33</td><td>male</td><td>ethan.martinez@x.dummyjson.com</td><td>+92 933-608-5081</td><td>ethanm</td><td>ethanmpass</td><td>1991-2-12</td><td>https://dummyjson.com/icon/ethanm/128</td><td>AB+</td><td>159.19</td><td>68.81</td><td>Hazel</td><td>List(Purple, Curly)</td><td>63.191.127.71</td><td>List(466 Pine Street, San Antonio, List(74.074918, -25.312703), United States, 72360, Louisiana, LA)</td><td>59:e:9e:e3:29:da</td><td>Syracuse University</td><td>List(02/25, 7183482484317509, Visa, CAD, CW5U5KS23U7JYD22TVQL7SIH)</td><td>List(List(1597 Oak Street, Chicago, List(-67.45208, -23.209886), United States, 28100, Florida, FL), Support, Gorczany - Gottlieb, Legal Counsel)</td><td>790-434</td><td>569-650-348</td><td>Mozilla/5.0 (Windows NT 10.0; Win64; x64) AppleWebKit/537.36 (KHTML, like Gecko) Chrome/95.0.4638.69 Safari/537.36</td><td>List(Bitcoin, Ethereum (ERC20), 0xb9fc2fe63b2a6c003f1c324c3bfa53259162181a)</td><td>moderator</td></tr><tr><td>10</td><td>Isabella</td><td>Anderson</td><td>Davis</td><td>31</td><td>female</td><td>isabella.anderson@x.dummyjson.com</td><td>+49 770-658-4885</td><td>isabellad</td><td>isabelladpass</td><td>1993-6-10</td><td>https://dummyjson.com/icon/isabellad/128</td><td>A-</td><td>150.56</td><td>50.1</td><td>Brown</td><td>List(Blonde, Curly)</td><td>114.9.114.205</td><td>List(1964 Oak Street, New York, List(41.331324, 151.782727), United States, 89352, Utah, UT)</td><td>b1:b0:d0:a2:82:80</td><td>California Institute of Technology (Caltech)</td><td>List(05/27, 6118714010128731, NPS, CNY, GBZRGDMKUOTO34HBCI7A986J)</td><td>List(List(1029 Adams Street, San Diego, List(-25.843393, -62.692681), United States, 63847, Maryland, MD), Marketing, Pollich - Hilpert, Chief Financial Officer)</td><td>127-297</td><td>902-438-728</td><td>Mozilla/5.0 (Macintosh; Intel Mac OS X 10_15_7) AppleWebKit/537.36 (KHTML, like Gecko) Chrome/96.0.4664.93 Safari/537.36</td><td>List(Bitcoin, Ethereum (ERC20), 0xb9fc2fe63b2a6c003f1c324c3bfa53259162181a)</td><td>moderator</td></tr><tr><td>11</td><td>Liam</td><td>Garcia</td><td></td><td>29</td><td>male</td><td>liam.garcia@x.dummyjson.com</td><td>+92 870-217-6201</td><td>liamg</td><td>liamgpass</td><td>1995-6-6</td><td>https://dummyjson.com/icon/liamg/128</td><td>AB-</td><td>162.32</td><td>93.16</td><td>Violet</td><td>List(Red, Wavy)</td><td>56.201.85.9</td><td>List(576 Fifth Street, Denver, List(-66.218177, -145.340165), United States, 57252, South Dakota, SD)</td><td>31:9a:28:8b:99:6c</td><td>Ohio State University</td><td>List(02/27, 2302893002194899, Discover, GBP, O8ENPRB9UVBL2EFZ7601KC09)</td><td>List(List(27 Cedar Street, Philadelphia, List(-81.841588, 31.79423), United States, 79574, Connecticut, CT), Services, Considine - Torp, Web Developer)</td><td>326-604</td><td>933-784-949</td><td>Mozilla/5.0 (Macintosh; Intel Mac OS X 10_15_7) AppleWebKit/537.36 (KHTML, like Gecko) Chrome/97.0.4692.99 Safari/537.36</td><td>List(Bitcoin, Ethereum (ERC20), 0xb9fc2fe63b2a6c003f1c324c3bfa53259162181a)</td><td>moderator</td></tr><tr><td>12</td><td>Mia</td><td>Rodriguez</td><td></td><td>24</td><td>female</td><td>mia.rodriguez@x.dummyjson.com</td><td>+49 989-461-8403</td><td>miar</td><td>miarpass</td><td>2000-8-4</td><td>https://dummyjson.com/icon/miar/128</td><td>O-</td><td>188.08</td><td>56.03</td><td>Blue</td><td>List(Purple, Wavy)</td><td>11.72.253.90</td><td>List(1627 Sixth Street, Jacksonville, List(24.857497, -34.865429), United States, 41810, West Virginia, WV)</td><td>53:d7:a4:6:1e:58</td><td>William & Mary</td><td>List(05/26, 1539872303456158, Carte Bancaire, CAD, EBMD95RLK8B82ZAZNXBJ09V5)</td><td>List(List(1039 Washington Street, Philadelphia, List(85.455933, 164.246103), United States, 57518, New Jersey, NJ), Accounting, Miller, Schowalter and Wisozk, Business Analyst)</td><td>754-660</td><td>749-524-124</td><td>Mozilla/5.0 (Macintosh; Intel Mac OS X 10_15_7) AppleWebKit/537.36 (KHTML, like Gecko) Chrome/95.0.4638.54 Safari/537.36</td><td>List(Bitcoin, Ethereum (ERC20), 0xb9fc2fe63b2a6c003f1c324c3bfa53259162181a)</td><td>moderator</td></tr><tr><td>13</td><td>Noah</td><td>Hernandez</td><td></td><td>40</td><td>male</td><td>noah.hernandez@x.dummyjson.com</td><td>+49 393-605-6968</td><td>noahh</td><td>noahhpass</td><td>1984-6-5</td><td>https://dummyjson.com/icon/noahh/128</td><td>AB+</td><td>188.62</td><td>69.49</td><td>Brown</td><td>List(Red, Curly)</td><td>169.154.126.57</td><td>List(1413 Maple Street, New York, List(-25.0377, -151.70469), United States, 73696, North Dakota, ND)</td><td>d4:fe:ae:8f:eb:a3</td><td>New York University (NYU)</td><td>List(05/26, 1681772579326385, Discover, SEK, G4UIZKIQVPJM9D31XQVR1E9Z)</td><td>List(List(62 Third Street, Seattle, List(19.490447, -13.173207), United States, 83474, Oregon, OR), Engineering, Botsford, Marquardt and Roberts, Database Administrator)</td><td>877-628</td><td>660-847-389</td><td>Mozilla/5.0 (Windows NT 10.0; Win64; x64) AppleWebKit/537.36 (KHTML, like Gecko) Chrome/95.0.4638.54 Safari/537.36</td><td>List(Bitcoin, Ethereum (ERC20), 0xb9fc2fe63b2a6c003f1c324c3bfa53259162181a)</td><td>moderator</td></tr><tr><td>14</td><td>Charlotte</td><td>Lopez</td><td>Martinez</td><td>36</td><td>female</td><td>charlotte.lopez@x.dummyjson.com</td><td>+44 373-953-5028</td><td>charlottem</td><td>charlottempass</td><td>1988-6-8</td><td>https://dummyjson.com/icon/charlottem/128</td><td>AB-</td><td>178.92</td><td>82.46</td><td>Brown</td><td>List(Gray, Kinky)</td><td>119.103.95.60</td><td>List(208 Second Street, Columbus, List(-44.443762, -151.420561), United States, 42044, Ohio, OH)</td><td>f6:ff:37:aa:6c:f1</td><td>Northeastern University</td><td>List(02/27, 5675368650551956, Maestro, CNY, FKK6U634LGI3E7N517DLVVTL)</td><td>List(List(569 Jefferson Street, Los Angeles, List(-18.371256, 22.566258), United States, 17779, Montana, MT), Accounting, Zulauf and Sons, Chief Executive Officer)</td><td>364-782</td><td>255-491-479</td><td>Mozilla/5.0 (Windows NT 10.0; Win64; x64) AppleWebKit/537.36 (KHTML, like Gecko) Chrome/96.0.4664.45 Safari/537.36</td><td>List(Bitcoin, Ethereum (ERC20), 0xb9fc2fe63b2a6c003f1c324c3bfa53259162181a)</td><td>moderator</td></tr><tr><td>15</td><td>William</td><td>Gonzalez</td><td></td><td>32</td><td>male</td><td>william.gonzalez@x.dummyjson.com</td><td>+81 905-252-7319</td><td>williamg</td><td>williamgpass</td><td>1992-3-27</td><td>https://dummyjson.com/icon/williamg/128</td><td>B-</td><td>173.21</td><td>82.41</td><td>Hazel</td><td>List(Gray, Curly)</td><td>250.2.241.204</td><td>List(31 Maple Street, San Jose, List(8.152876, 113.29799), United States, 78243, Utah, UT)</td><td>f5:68:28:f9:ec:89</td><td>Tufts University</td><td>List(03/27, 6053000793215148, Mir, EUR, AR01SNDMKGECX0EYH7UCW61W)</td><td>List(List(1538 Eighth Street, San Jose, List(24.169361, -29.395167), United States, 29673, Missouri, MO), Marketing, Spinka - Dickinson, Software Architect)</td><td>830-515</td><td>690-544-755</td><td>Mozilla/5.0 (Macintosh; Intel Mac OS X 10_15_7) AppleWebKit/537.36 (KHTML, like Gecko) Chrome/96.0.4664.93 Safari/537.36</td><td>List(Bitcoin, Ethereum (ERC20), 0xb9fc2fe63b2a6c003f1c324c3bfa53259162181a)</td><td>moderator</td></tr><tr><td>16</td><td>Avery</td><td>Perez</td><td></td><td>25</td><td>female</td><td>avery.perez@x.dummyjson.com</td><td>+61 731-431-3457</td><td>averyp</td><td>averyppass</td><td>1999-3-10</td><td>https://dummyjson.com/icon/averyp/128</td><td>O-</td><td>172.68</td><td>93.9</td><td>Brown</td><td>List(Green, Curly)</td><td>131.217.4.214</td><td>List(1125 First Street, Columbus, List(12.789127, 85.792598), United States, 30973, Iowa, IA)</td><td>b3:ff:f3:c5:37:46</td><td>Harvard University</td><td>List(04/27, 0961014686718571, Carte Bancaire, USD, 28JYZAY4KYT48YI8QW40PWXR)</td><td>List(List(183 Maple Street, New York, List(-53.318189, 105.835271), United States, 45238, Rhode Island, RI), Accounting, Herzog Inc, Database Administrator)</td><td>348-493</td><td>679-523-686</td><td>Mozilla/5.0 (Macintosh; Intel Mac OS X 10_15_7) AppleWebKit/537.36 (KHTML, like Gecko) Chrome/95.0.4638.69 Safari/537.36</td><td>List(Bitcoin, Ethereum (ERC20), 0xb9fc2fe63b2a6c003f1c324c3bfa53259162181a)</td><td>user</td></tr><tr><td>17</td><td>Evelyn</td><td>Sanchez</td><td></td><td>37</td><td>female</td><td>evelyn.sanchez@x.dummyjson.com</td><td>+1 623-880-6871</td><td>evelyns</td><td>evelynspass</td><td>1987-10-13</td><td>https://dummyjson.com/icon/evelyns/128</td><td>B+</td><td>184.08</td><td>83.15</td><td>Violet</td><td>List(Blue, Curly)</td><td>87.114.135.146</td><td>List(1170 Lincoln Street, San Diego, List(-83.31484, 11.768071), United States, 43423, Wyoming, WY)</td><td>f8:e5:bd:43:bc:d8</td><td>Washington University in St. Louis</td><td>List(04/29, 4557521697420096, UnionPay, SEK, KN8XAPR2J5UB8AKDI1EVJ56R)</td><td>List(List(1802 Ninth Street, San Diego, List(29.034592, -78.004598), United States, 89416, Minnesota, MN), Support, Predovic - Johns, Chief Financial Officer)</td><td>604-817</td><td>689-332-644</td><td>Mozilla/5.0 (Macintosh; Intel Mac OS X 10_15_7) AppleWebKit/537.36 (KHTML, like Gecko) Chrome/96.0.4664.45 Safari/537.36</td><td>List(Bitcoin, Ethereum (ERC20), 0xb9fc2fe63b2a6c003f1c324c3bfa53259162181a)</td><td>user</td></tr><tr><td>18</td><td>Logan</td><td>Torres</td><td></td><td>31</td><td>male</td><td>logan.torres@x.dummyjson.com</td><td>+81 507-434-8733</td><td>logant</td><td>logantpass</td><td>1993-10-26</td><td>https://dummyjson.com/icon/logant/128</td><td>A+</td><td>190.04</td><td>72.43</td><td>Green</td><td>List(Green, Curly)</td><td>155.98.15.162</td><td>List(907 Seventh Street, Columbus, List(-64.846516, 174.775744), United States, 78805, Arkansas, AR)</td><td>40:d:5c:1:7d:bf</td><td>University of Illinois--Urbana-Champaign</td><td>List(05/26, 7884268130452098, UnionPay, NZD, HZM7V9PYHPZBN72IDFPXGN8Q)</td><td>List(List(947 Main Street, Denver, List(-24.654063, -147.255268), United States, 71896, Minnesota, MN), Training, Jast - Nader, Data Analyst)</td><td>576-218</td><td>806-639-934</td><td>Mozilla/5.0 (Macintosh; Intel Mac OS X 10_15_7) AppleWebKit/537.36 (KHTML, like Gecko) Chrome/96.0.4664.45 Safari/537.36</td><td>List(Bitcoin, Ethereum (ERC20), 0xb9fc2fe63b2a6c003f1c324c3bfa53259162181a)</td><td>user</td></tr><tr><td>19</td><td>Abigail</td><td>Rivera</td><td></td><td>28</td><td>female</td><td>abigail.rivera@x.dummyjson.com</td><td>+91 228-363-7806</td><td>abigailr</td><td>abigailrpass</td><td>1996-10-11</td><td>https://dummyjson.com/icon/abigailr/128</td><td>B+</td><td>186.39</td><td>74.61</td><td>Violet</td><td>List(Blue, Kinky)</td><td>19.183.240.94</td><td>List(996 Oak Street, Chicago, List(44.321308, -3.723903), United States, 11407, New Mexico, NM)</td><td>1d:a6:58:2a:e5:e4</td><td>California Institute of Technology (Caltech)</td><td>List(02/28, 4832361886407551, RuPay, BRL, O02LHDNNFCVSM6D4H81DIQHE)</td><td>List(List(1402 Adams Street, Austin, List(25.672938, -76.54967), United States, 51456, Wisconsin, WI), Human Resources, Prohaska - Thiel, Business Analyst)</td><td>173-637</td><td>655-823-929</td><td>Mozilla/5.0 (Windows NT 10.0; Win64; x64) AppleWebKit/537.36 (KHTML, like Gecko) Edge/97.0.1072.76 Safari/537.36</td><td>List(Bitcoin, Ethereum (ERC20), 0xb9fc2fe63b2a6c003f1c324c3bfa53259162181a)</td><td>user</td></tr><tr><td>20</td><td>Jackson</td><td>Evans</td><td></td><td>34</td><td>male</td><td>jackson.evans@x.dummyjson.com</td><td>+44 468-628-6686</td><td>jacksone</td><td>jacksonepass</td><td>1990-11-30</td><td>https://dummyjson.com/icon/jacksone/128</td><td>O-</td><td>162.57</td><td>74.37</td><td>Green</td><td>List(Red, Straight)</td><td>221.127.144.198</td><td>List(1873 Main Street, New York, List(34.722451, 63.448927), United States, 26600, Arkansas, AR)</td><td>81:14:1:97:88:85</td><td>Ohio State University</td><td>List(04/26, 2109192842527801, BC Card, EUR, TX26FO9B7YR2VHYDSJBE32AX)</td><td>List(List(1706 First Street, Chicago, List(-80.416937, -83.224516), United States, 34725, Hawaii, HI), Legal, Kuhlman LLC, Web Developer)</td><td>843-260</td><td>248-787-886</td><td>Mozilla/5.0 (Macintosh; Intel Mac OS X 10_15_7) AppleWebKit/537.36 (KHTML, like Gecko) Chrome/97.0.4692.99 Safari/537.36</td><td>List(Bitcoin, Ethereum (ERC20), 0xb9fc2fe63b2a6c003f1c324c3bfa53259162181a)</td><td>user</td></tr><tr><td>21</td><td>Madison</td><td>Collins</td><td></td><td>26</td><td>female</td><td>madison.collins@x.dummyjson.com</td><td>+81 259-957-5711</td><td>madisonc</td><td>madisoncpass</td><td>1998-3-7</td><td>https://dummyjson.com/icon/madisonc/128</td><td>B-</td><td>189.28</td><td>56.96</td><td>Red</td><td>List(Gray, Curly)</td><td>85.34.1.204</td><td>List(1892 Lincoln Street, Philadelphia, List(52.993694, 160.486892), United States, 62091, New Jersey, NJ)</td><td>13:b0:d0:23:4d:26</td><td>University of Pennsylvania</td><td>List(04/28, 5549175461210252, Mir, CNY, Y0WSN5IED255808SIYBUOMWO)</td><td>List(List(1438 Main Street, San Diego, List(1.629613, 23.232982), United States, 63144, Delaware, DE), Engineering, Mayer - Smitham, Chief Technology Officer)</td><td>716-166</td><td>457-258-950</td><td>Mozilla/5.0 (Macintosh; Intel Mac OS X 10_15_7) AppleWebKit/537.36 (KHTML, like Gecko) Chrome/97.0.4692.99 Safari/537.36</td><td>List(Bitcoin, Ethereum (ERC20), 0xb9fc2fe63b2a6c003f1c324c3bfa53259162181a)</td><td>user</td></tr><tr><td>22</td><td>Elijah</td><td>Stewart</td><td></td><td>33</td><td>male</td><td>elijah.stewart@x.dummyjson.com</td><td>+44 468-357-7872</td><td>elijahs</td><td>elijahspass</td><td>1991-10-22</td><td>https://dummyjson.com/icon/elijahs/128</td><td>A-</td><td>195.33</td><td>81.64</td><td>Blue</td><td>List(Purple, Straight)</td><td>23.87.135.62</td><td>List(1701 Eighth Street, Columbus, List(-54.833799, -174.504027), United States, 31585, Illinois, IL)</td><td>75:17:c6:35:fc:6d</td><td>Georgetown University</td><td>List(05/27, 0798116671286564, JCB, GBP, E1XUHCC1N39WGU6XESSK1CAO)</td><td>List(List(155 Ninth Street, Washington, List(61.279254, -12.607767), United States, 19039, South Dakota, SD), Legal, Langworth Group, Business Analyst)</td><td>520-394</td><td>287-380-801</td><td>Mozilla/5.0 (Macintosh; Intel Mac OS X 10_15_7) AppleWebKit/537.36 (KHTML, like Gecko) Chrome/96.0.4664.93 Safari/537.36</td><td>List(Bitcoin, Ethereum (ERC20), 0xb9fc2fe63b2a6c003f1c324c3bfa53259162181a)</td><td>user</td></tr><tr><td>23</td><td>Chloe</td><td>Morales</td><td></td><td>39</td><td>female</td><td>chloe.morales@x.dummyjson.com</td><td>+92 468-541-7133</td><td>chloem</td><td>chloempass</td><td>1985-4-21</td><td>https://dummyjson.com/icon/chloem/128</td><td>O+</td><td>185.07</td><td>63.97</td><td>Brown</td><td>List(Red, Kinky)</td><td>66.78.20.21</td><td>List(401 Fourth Street, Dallas, List(-30.190759, -58.705979), United States, 54972, New Jersey, NJ)</td><td>fc:f:29:e1:37:b8</td><td>Syracuse University</td><td>List(05/28, 3150496938377346, American Express, PKR, P7YLGOOBWBD1SRWDWSFO3PZ0)</td><td>List(List(269 Third Street, Houston, List(40.098115, -1.762972), United States, 10385, North Carolina, NC), Sales, Grady LLC, Database Administrator)</td><td>913-597</td><td>938-883-163</td><td>Mozilla/5.0 (Windows NT 10.0; Win64; x64) AppleWebKit/537.36 (KHTML, like Gecko) Chrome/96.0.4664.93 Safari/537.36</td><td>List(Bitcoin, Ethereum (ERC20), 0xb9fc2fe63b2a6c003f1c324c3bfa53259162181a)</td><td>user</td></tr><tr><td>24</td><td>Mateo</td><td>Nguyen</td><td></td><td>30</td><td>male</td><td>mateo.nguyen@x.dummyjson.com</td><td>+1 341-597-6694</td><td>mateon</td><td>mateonpass</td><td>1994-6-2</td><td>https://dummyjson.com/icon/mateon/128</td><td>O+</td><td>174.29</td><td>59.98</td><td>Red</td><td>List(Purple, Wavy)</td><td>192.57.144.7</td><td>List(1578 Fourth Street, Columbus, List(-32.828675, -82.557354), United States, 20673, Missouri, MO)</td><td>a7:26:10:7a:36:29</td><td>Columbia University</td><td>List(03/26, 5545852224851851, JCB, TRY, WEBE9SBX588VFUCVCA6KFHWB)</td><td>List(List(1967 Jefferson Street, Dallas, List(75.982676, 164.459743), United States, 78527, Louisiana, LA), Accounting, Spinka LLC, Business Analyst)</td><td>229-249</td><td>416-877-230</td><td>Mozilla/5.0 (Windows NT 10.0; Win64; x64) AppleWebKit/537.36 (KHTML, like Gecko) Chrome/95.0.4638.69 Safari/537.36</td><td>List(Bitcoin, Ethereum (ERC20), 0xb9fc2fe63b2a6c003f1c324c3bfa53259162181a)</td><td>user</td></tr><tr><td>25</td><td>Harper</td><td>Kelly</td><td>Evans</td><td>27</td><td>female</td><td>harper.kelly@x.dummyjson.com</td><td>+92 518-863-2863</td><td>harpere</td><td>harperepass</td><td>1997-3-3</td><td>https://dummyjson.com/icon/harpere/128</td><td>AB-</td><td>184.32</td><td>81.69</td><td>Amber</td><td>List(Red, Curly)</td><td>174.111.61.162</td><td>List(1591 Adams Street, Philadelphia, List(-26.832913, -75.445017), United States, 69521, New York, NY)</td><td>b:ff:33:67:94:e4</td><td>Boston College</td><td>List(04/26, 1298153007505587, RuPay, JPY, DJI19LCUNUHP6YSGPY52D5VG)</td><td>List(List(16 Maple Street, Austin, List(-15.423746, 149.298887), United States, 68274, North Carolina, NC), Legal, Leffler, Rolfson and Becker, Business Development Manager)</td><td>592-557</td><td>209-544-548</td><td>Mozilla/5.0 (Macintosh; Intel Mac OS X 10_15_7) AppleWebKit/537.36 (KHTML, like Gecko) Chrome/97.0.4692.99 Safari/537.36</td><td>List(Bitcoin, Ethereum (ERC20), 0xb9fc2fe63b2a6c003f1c324c3bfa53259162181a)</td><td>user</td></tr><tr><td>26</td><td>Evelyn</td><td>Gonzalez</td><td></td><td>35</td><td>female</td><td>evelyn.gonzalez@x.dummyjson.com</td><td>+61 708-508-4638</td><td>evelyng</td><td>evelyngpass</td><td>1989-2-5</td><td>https://dummyjson.com/icon/evelyng/128</td><td>O+</td><td>168.94</td><td>58.47</td><td>Red</td><td>List(Black, Wavy)</td><td>42.52.74.232</td><td>List(1065 Lincoln Street, Dallas, List(67.768359, 71.268643), United States, 84898, Maine, ME)</td><td>89:5e:5a:2a:72:42</td><td>Washington University in St. Louis</td><td>List(03/28, 9584313788145560, RuPay, INR, X4UPULQG61VIGA97USY7AAEB)</td><td>List(List(584 Ninth Street, Jacksonville, List(26.014021, 40.572436), United States, 45633, Wisconsin, WI), Accounting, Tromp, Gaylord and Weber, Project Manager)</td><td>569-275</td><td>487-680-127</td><td>Mozilla/5.0 (Windows NT 10.0; Win64; x64) AppleWebKit/537.36 (KHTML, like Gecko) Chrome/95.0.4638.54 Safari/537.36</td><td>List(Bitcoin, Ethereum (ERC20), 0xb9fc2fe63b2a6c003f1c324c3bfa53259162181a)</td><td>user</td></tr><tr><td>27</td><td>Daniel</td><td>Cook</td><td></td><td>41</td><td>male</td><td>daniel.cook@x.dummyjson.com</td><td>+44 254-761-6843</td><td>danielc</td><td>danielcpass</td><td>1983-12-25</td><td>https://dummyjson.com/icon/danielc/128</td><td>AB+</td><td>186.21</td><td>83.72</td><td>Brown</td><td>List(Blonde, Curly)</td><td>1.61.73.142</td><td>List(1163 Pine Street, Los Angeles, List(-3.456681, -134.937482), United States, 58781, Nevada, NV)</td><td>6e:73:dc:3a:85:10</td><td>Columbia University</td><td>List(01/26, 8452555751345228, Korean Express, NZD, A8DBPECO4X6D09WYOVT8UZK8)</td><td>List(List(938 Fifth Street, San Francisco, List(21.323588, -83.531427), United States, 45305, South Dakota, SD), Support, Morissette, Baumbach and Auer, Legal Counsel)</td><td>585-905</td><td>645-515-583</td><td>Mozilla/5.0 (Windows NT 10.0; Win64; x64; rv:97.0) Gecko/20100101 Firefox/97.0</td><td>List(Bitcoin, Ethereum (ERC20), 0xb9fc2fe63b2a6c003f1c324c3bfa53259162181a)</td><td>user</td></tr><tr><td>28</td><td>Lily</td><td>Lee</td><td>Brown</td><td>29</td><td>female</td><td>lily.lee@x.dummyjson.com</td><td>+1 808-757-9867</td><td>lilyb</td><td>lilybpass</td><td>1995-12-3</td><td>https://dummyjson.com/icon/lilyb/128</td><td>AB-</td><td>181.42</td><td>51.49</td><td>Gray</td><td>List(Purple, Straight)</td><td>67.184.255.96</td><td>List(1946 Oak Street, Phoenix, List(-9.87059, -72.336845), United States, 41540, Massachusetts, MA)</td><td>18:b6:c7:a:50:3f</td><td>Johns Hopkins University</td><td>List(05/29, 2903637820228856, Visa, JPY, BKX6ZWB8UJZD09RFOWFPPD3C)</td><td>List(List(1735 Cedar Street, Phoenix, List(72.231441, -158.147245), United States, 85797, Wyoming, WY), Product Management, Cremin Inc, Quality Assurance Engineer)</td><td>229-776</td><td>358-185-671</td><td>Mozilla/5.0 (Windows NT 10.0; Win64; x64) AppleWebKit/537.36 (KHTML, like Gecko) Edge/97.0.1072.76 Safari/537.36</td><td>List(Bitcoin, Ethereum (ERC20), 0xb9fc2fe63b2a6c003f1c324c3bfa53259162181a)</td><td>user</td></tr><tr><td>29</td><td>Henry</td><td>Hill</td><td></td><td>38</td><td>male</td><td>henry.hill@x.dummyjson.com</td><td>+1 240-833-4680</td><td>henryh</td><td>henryhpass</td><td>1986-8-19</td><td>https://dummyjson.com/icon/henryh/128</td><td>O-</td><td>180.25</td><td>95.84</td><td>Gray</td><td>List(Black, Straight)</td><td>194.43.55.202</td><td>List(1837 Maple Street, Indianapolis, List(35.498256, 154.088476), United States, 81783, Delaware, DE)</td><td>fa:c3:1b:21:5f:44</td><td>University of Illinois--Urbana-Champaign</td><td>List(02/26, 7262597174206766, Diners Club International, SEK, 7N3JP8KN9AUNXOWRQGAU2JX6)</td><td>List(List(1651 Lincoln Street, San Francisco, List(-59.936335, -12.405368), United States, 61805, West Virginia, WV), Services, Gerlach, Funk and Schoen, Sales Manager)</td><td>118-957</td><td>925-686-100</td><td>Mozilla/5.0 (Windows NT 10.0; Win64; x64) AppleWebKit/537.36 (KHTML, like Gecko) Chrome/96.0.4664.93 Safari/537.36</td><td>List(Bitcoin, Ethereum (ERC20), 0xb9fc2fe63b2a6c003f1c324c3bfa53259162181a)</td><td>user</td></tr><tr><td>30</td><td>Addison</td><td>Wright</td><td></td><td>32</td><td>female</td><td>addison.wright@x.dummyjson.com</td><td>+1 514-384-3300</td><td>addisonw</td><td>addisonwpass</td><td>1992-1-3</td><td>https://dummyjson.com/icon/addisonw/128</td><td>B+</td><td>179.32</td><td>76.93</td><td>Brown</td><td>List(Blonde, Straight)</td><td>11.35.69.81</td><td>List(568 Tenth Street, San Francisco, List(20.946052, 100.228822), United States, 54698, Montana, MT)</td><td>fb:0:94:21:16:c</td><td>Syracuse University</td><td>List(05/28, 3756638438861539, Carte Bancaire, JPY, OOPQTNZ74OLPKVT7TGB89UQL)</td><td>List(List(1173 Eighth Street, San Diego, List(65.324413, 87.142893), United States, 85777, Michigan, MI), Services, Kreiger Inc, Human Resources Manager)</td><td>415-286</td><td>804-492-390</td><td>Mozilla/5.0 (Macintosh; Intel Mac OS X 10_15_7) AppleWebKit/537.36 (KHTML, like Gecko) Chrome/96.0.4664.93 Safari/537.36</td><td>List(Bitcoin, Ethereum (ERC20), 0xb9fc2fe63b2a6c003f1c324c3bfa53259162181a)</td><td>user</td></tr></tbody></table></div>"
      ]
     },
     "metadata": {
      "application/vnd.databricks.v1+output": {
       "addedWidgets": {},
       "aggData": [],
       "aggError": "",
       "aggOverflow": false,
       "aggSchema": [],
       "aggSeriesLimitReached": false,
       "aggType": "",
       "arguments": {},
       "columnCustomDisplayInfos": {},
       "data": [
        [
         1,
         "Emily",
         "Johnson",
         "Smith",
         28,
         "female",
         "emily.johnson@x.dummyjson.com",
         "+81 965-431-3024",
         "emilys",
         "emilyspass",
         "1996-5-30",
         "https://dummyjson.com/icon/emilys/128",
         "O-",
         193.24,
         63.16,
         "Green",
         [
          "Brown",
          "Curly"
         ],
         "42.48.100.32",
         [
          "626 Main Street",
          "Phoenix",
          [
           -77.16213,
           -92.084824
          ],
          "United States",
          "29112",
          "Mississippi",
          "MS"
         ],
         "47:fa:41:18:ec:eb",
         "University of Wisconsin--Madison",
         [
          "03/26",
          "9289760655481815",
          "Elo",
          "CNY",
          "YPUXISOBI7TTHPK2BR3HAIXL"
         ],
         [
          [
           "263 Tenth Street",
           "San Francisco",
           [
            71.814525,
            -161.150263
           ],
           "United States",
           "37657",
           "Wisconsin",
           "WI"
          ],
          "Engineering",
          "Dooley, Kozey and Cronin",
          "Sales Manager"
         ],
         "977-175",
         "900-590-289",
         "Mozilla/5.0 (Macintosh; Intel Mac OS X 10_15_7) AppleWebKit/537.36 (KHTML, like Gecko) Chrome/96.0.4664.93 Safari/537.36",
         [
          "Bitcoin",
          "Ethereum (ERC20)",
          "0xb9fc2fe63b2a6c003f1c324c3bfa53259162181a"
         ],
         "admin"
        ],
        [
         2,
         "Michael",
         "Williams",
         "",
         35,
         "male",
         "michael.williams@x.dummyjson.com",
         "+49 258-627-6644",
         "michaelw",
         "michaelwpass",
         "1989-8-10",
         "https://dummyjson.com/icon/michaelw/128",
         "B+",
         186.22,
         76.32,
         "Red",
         [
          "Green",
          "Straight"
         ],
         "12.13.116.142",
         [
          "385 Fifth Street",
          "Houston",
          [
           22.815468,
           115.608581
          ],
          "United States",
          "38807",
          "Alabama",
          "AL"
         ],
         "79:15:78:99:60:aa",
         "Ohio State University",
         [
          "02/27",
          "6737807858721625",
          "Elo",
          "SEK",
          "83IDT77FWYLCJVR8ISDACFH0"
         ],
         [
          [
           "395 Main Street",
           "Los Angeles",
           [
            79.098326,
            -119.624845
           ],
           "United States",
           "73442",
           "New Hampshire",
           "NH"
          ],
          "Support",
          "Spinka - Dickinson",
          "Support Specialist"
         ],
         "912-602",
         "108-953-962",
         "Mozilla/5.0 (Windows NT 10.0; Win64; x64) AppleWebKit/537.36 (KHTML, like Gecko) Edge/97.0.1072.76 Safari/537.36",
         [
          "Bitcoin",
          "Ethereum (ERC20)",
          "0xb9fc2fe63b2a6c003f1c324c3bfa53259162181a"
         ],
         "admin"
        ],
        [
         3,
         "Sophia",
         "Brown",
         "",
         42,
         "female",
         "sophia.brown@x.dummyjson.com",
         "+81 210-652-2785",
         "sophiab",
         "sophiabpass",
         "1982-11-6",
         "https://dummyjson.com/icon/sophiab/128",
         "O-",
         177.72,
         52.6,
         "Hazel",
         [
          "White",
          "Wavy"
         ],
         "214.225.51.195",
         [
          "1642 Ninth Street",
          "Washington",
          [
           45.289366,
           46.832664
          ],
          "United States",
          "32822",
          "Alabama",
          "AL"
         ],
         "12:a3:d3:6f:5c:5b",
         "Pepperdine University",
         [
          "04/25",
          "7795895470082859",
          "Korean Express",
          "SEK",
          "90XYKT83LMM7AARZ8JN958JC"
         ],
         [
          [
           "1896 Washington Street",
           "Dallas",
           [
            20.086743,
            -34.577107
           ],
           "United States",
           "88511",
           "Nevada",
           "NV"
          ],
          "Research and Development",
          "Schiller - Zieme",
          "Accountant"
         ],
         "963-113",
         "638-461-822",
         "Mozilla/5.0 (Windows NT 10.0; Win64; x64) AppleWebKit/537.36 (KHTML, like Gecko) Chrome/96.0.4664.45 Safari/537.36",
         [
          "Bitcoin",
          "Ethereum (ERC20)",
          "0xb9fc2fe63b2a6c003f1c324c3bfa53259162181a"
         ],
         "admin"
        ],
        [
         4,
         "James",
         "Davis",
         "",
         45,
         "male",
         "james.davis@x.dummyjson.com",
         "+49 614-958-9364",
         "jamesd",
         "jamesdpass",
         "1979-5-4",
         "https://dummyjson.com/icon/jamesd/128",
         "AB+",
         193.31,
         62.1,
         "Amber",
         [
          "Blonde",
          "Straight"
         ],
         "101.118.131.66",
         [
          "238 Jefferson Street",
          "Seattle",
          [
           16.782513,
           -139.34723
          ],
          "United States",
          "68354",
          "Pennsylvania",
          "PA"
         ],
         "10:7d:df:1f:97:58",
         "University of Southern California",
         [
          "05/29",
          "5005519846254763",
          "Mastercard",
          "INR",
          "7N7ZH1PJ8Q4WU1K965HQQR27"
         ],
         [
          [
           "1622 Lincoln Street",
           "Fort Worth",
           [
            54.91193,
            -79.498328
           ],
           "United States",
           "27768",
           "Pennsylvania",
           "PA"
          ],
          "Support",
          "Pagac and Sons",
          "Research Analyst"
         ],
         "904-810",
         "116-951-314",
         "Mozilla/5.0 (Macintosh; Intel Mac OS X 10_15_7) AppleWebKit/537.36 (KHTML, like Gecko) Chrome/97.0.4692.99 Safari/537.36",
         [
          "Bitcoin",
          "Ethereum (ERC20)",
          "0xb9fc2fe63b2a6c003f1c324c3bfa53259162181a"
         ],
         "admin"
        ],
        [
         5,
         "Emma",
         "Miller",
         "Johnson",
         30,
         "female",
         "emma.miller@x.dummyjson.com",
         "+91 759-776-1614",
         "emmaj",
         "emmajpass",
         "1994-6-13",
         "https://dummyjson.com/icon/emmaj/128",
         "AB-",
         192.8,
         63.62,
         "Green",
         [
          "White",
          "Straight"
         ],
         "224.126.22.183",
         [
          "607 Fourth Street",
          "Jacksonville",
          [
           0.505589,
           -157.43281
          ],
          "United States",
          "26593",
          "Colorado",
          "CO"
         ],
         "32:b9:7e:8d:f5:e8",
         "Northeastern University",
         [
          "03/26",
          "5772950119588627",
          "American Express",
          "CAD",
          "TAVHURD845KVBTB8W81AQXRY"
         ],
         [
          [
           "1460 Sixth Street",
           "San Antonio",
           [
            44.346545,
            -26.944701
           ],
           "United States",
           "21965",
           "Idaho",
           "ID"
          ],
          "Human Resources",
          "Graham - Gulgowski",
          "Quality Assurance Engineer"
         ],
         "403-505",
         "526-210-885",
         "Mozilla/5.0 (Windows NT 10.0; Win64; x64; rv:97.0) Gecko/20100101 Firefox/97.0",
         [
          "Bitcoin",
          "Ethereum (ERC20)",
          "0xb9fc2fe63b2a6c003f1c324c3bfa53259162181a"
         ],
         "admin"
        ],
        [
         6,
         "Olivia",
         "Wilson",
         "",
         22,
         "female",
         "olivia.wilson@x.dummyjson.com",
         "+91 607-295-6448",
         "oliviaw",
         "oliviawpass",
         "2002-4-20",
         "https://dummyjson.com/icon/oliviaw/128",
         "B+",
         182.61,
         58,
         "Hazel",
         [
          "Gray",
          "Curly"
         ],
         "249.178.112.207",
         [
          "547 First Street",
          "Fort Worth",
          [
           75.32627,
           -26.15285
          ],
          "United States",
          "83843",
          "Tennessee",
          "TN"
         ],
         "9c:7f:ea:34:18:19",
         "University of North Carolina--Chapel Hill",
         [
          "05/28",
          "6771923832947881",
          "Diners Club International",
          "BRL",
          "V6H0O5OE3Q4JVKWDTYWZABMD"
         ],
         [
          [
           "425 Sixth Street",
           "Indianapolis",
           [
            74.986644,
            -132.916888
           ],
           "United States",
           "74263",
           "Oklahoma",
           "OK"
          ],
          "Product Management",
          "Pfannerstill Inc",
          "Research Analyst"
         ],
         "921-709",
         "836-772-168",
         "Mozilla/5.0 (Macintosh; Intel Mac OS X 10_15_7) AppleWebKit/605.1.15 (KHTML, like Gecko) Version/15.3 Safari/605.1.15",
         [
          "Bitcoin",
          "Ethereum (ERC20)",
          "0xb9fc2fe63b2a6c003f1c324c3bfa53259162181a"
         ],
         "moderator"
        ],
        [
         7,
         "Alexander",
         "Jones",
         "",
         38,
         "male",
         "alexander.jones@x.dummyjson.com",
         "+61 260-824-4986",
         "alexanderj",
         "alexanderjpass",
         "1986-10-20",
         "https://dummyjson.com/icon/alexanderj/128",
         "AB-",
         153.89,
         77.42,
         "Blue",
         [
          "White",
          "Straight"
         ],
         "166.204.84.32",
         [
          "664 Maple Street",
          "Indianapolis",
          [
           35.289664,
           7.063255
          ],
          "United States",
          "86684",
          "Delaware",
          "DE"
         ],
         "d2:64:58:2d:1c:46",
         "University of Illinois--Urbana-Champaign",
         [
          "05/25",
          "7344951706130140",
          "JCB",
          "EUR",
          "49V4GVDVMP0MHIDD4VXMQ3A2"
         ],
         [
          [
           "996 Eighth Street",
           "Washington",
           [
            -75.462366,
            -128.025697
           ],
           "United States",
           "27858",
           "Kansas",
           "KS"
          ],
          "Engineering",
          "Dickens - Beahan",
          "Web Developer"
         ],
         "638-127",
         "722-993-925",
         "Mozilla/5.0 (Macintosh; Intel Mac OS X 10_15_7) AppleWebKit/537.36 (KHTML, like Gecko) Chrome/95.0.4638.69 Safari/537.36",
         [
          "Bitcoin",
          "Ethereum (ERC20)",
          "0xb9fc2fe63b2a6c003f1c324c3bfa53259162181a"
         ],
         "moderator"
        ],
        [
         8,
         "Ava",
         "Taylor",
         "",
         27,
         "female",
         "ava.taylor@x.dummyjson.com",
         "+1 458-853-7877",
         "avat",
         "avatpass",
         "1997-8-25",
         "https://dummyjson.com/icon/avat/128",
         "AB-",
         168.47,
         57.08,
         "Hazel",
         [
          "Red",
          "Kinky"
         ],
         "150.73.197.233",
         [
          "1197 First Street",
          "Fort Worth",
          [
           -81.194833,
           -87.948158
          ],
          "United States",
          "24771",
          "Rhode Island",
          "RI"
         ],
         "8d:2e:c2:d6:e7:a8",
         "University of Wisconsin--Madison",
         [
          "01/29",
          "6412128967460199",
          "Maestro",
          "CNY",
          "TS66YQ8R16OX7IJKLUONDQHP"
         ],
         [
          [
           "930 Lincoln Street",
           "Austin",
           [
            87.970083,
            -42.769351
           ],
           "United States",
           "47592",
           "Colorado",
           "CO"
          ],
          "Marketing",
          "Nikolaus Inc",
          "Chief Executive Officer"
         ],
         "297-762",
         "257-419-109",
         "Mozilla/5.0 (Windows NT 10.0; Win64; x64) AppleWebKit/537.36 (KHTML, like Gecko) Chrome/96.0.4664.45 Safari/537.36",
         [
          "Bitcoin",
          "Ethereum (ERC20)",
          "0xb9fc2fe63b2a6c003f1c324c3bfa53259162181a"
         ],
         "moderator"
        ],
        [
         9,
         "Ethan",
         "Martinez",
         "",
         33,
         "male",
         "ethan.martinez@x.dummyjson.com",
         "+92 933-608-5081",
         "ethanm",
         "ethanmpass",
         "1991-2-12",
         "https://dummyjson.com/icon/ethanm/128",
         "AB+",
         159.19,
         68.81,
         "Hazel",
         [
          "Purple",
          "Curly"
         ],
         "63.191.127.71",
         [
          "466 Pine Street",
          "San Antonio",
          [
           74.074918,
           -25.312703
          ],
          "United States",
          "72360",
          "Louisiana",
          "LA"
         ],
         "59:e:9e:e3:29:da",
         "Syracuse University",
         [
          "02/25",
          "7183482484317509",
          "Visa",
          "CAD",
          "CW5U5KS23U7JYD22TVQL7SIH"
         ],
         [
          [
           "1597 Oak Street",
           "Chicago",
           [
            -67.45208,
            -23.209886
           ],
           "United States",
           "28100",
           "Florida",
           "FL"
          ],
          "Support",
          "Gorczany - Gottlieb",
          "Legal Counsel"
         ],
         "790-434",
         "569-650-348",
         "Mozilla/5.0 (Windows NT 10.0; Win64; x64) AppleWebKit/537.36 (KHTML, like Gecko) Chrome/95.0.4638.69 Safari/537.36",
         [
          "Bitcoin",
          "Ethereum (ERC20)",
          "0xb9fc2fe63b2a6c003f1c324c3bfa53259162181a"
         ],
         "moderator"
        ],
        [
         10,
         "Isabella",
         "Anderson",
         "Davis",
         31,
         "female",
         "isabella.anderson@x.dummyjson.com",
         "+49 770-658-4885",
         "isabellad",
         "isabelladpass",
         "1993-6-10",
         "https://dummyjson.com/icon/isabellad/128",
         "A-",
         150.56,
         50.1,
         "Brown",
         [
          "Blonde",
          "Curly"
         ],
         "114.9.114.205",
         [
          "1964 Oak Street",
          "New York",
          [
           41.331324,
           151.782727
          ],
          "United States",
          "89352",
          "Utah",
          "UT"
         ],
         "b1:b0:d0:a2:82:80",
         "California Institute of Technology (Caltech)",
         [
          "05/27",
          "6118714010128731",
          "NPS",
          "CNY",
          "GBZRGDMKUOTO34HBCI7A986J"
         ],
         [
          [
           "1029 Adams Street",
           "San Diego",
           [
            -25.843393,
            -62.692681
           ],
           "United States",
           "63847",
           "Maryland",
           "MD"
          ],
          "Marketing",
          "Pollich - Hilpert",
          "Chief Financial Officer"
         ],
         "127-297",
         "902-438-728",
         "Mozilla/5.0 (Macintosh; Intel Mac OS X 10_15_7) AppleWebKit/537.36 (KHTML, like Gecko) Chrome/96.0.4664.93 Safari/537.36",
         [
          "Bitcoin",
          "Ethereum (ERC20)",
          "0xb9fc2fe63b2a6c003f1c324c3bfa53259162181a"
         ],
         "moderator"
        ],
        [
         11,
         "Liam",
         "Garcia",
         "",
         29,
         "male",
         "liam.garcia@x.dummyjson.com",
         "+92 870-217-6201",
         "liamg",
         "liamgpass",
         "1995-6-6",
         "https://dummyjson.com/icon/liamg/128",
         "AB-",
         162.32,
         93.16,
         "Violet",
         [
          "Red",
          "Wavy"
         ],
         "56.201.85.9",
         [
          "576 Fifth Street",
          "Denver",
          [
           -66.218177,
           -145.340165
          ],
          "United States",
          "57252",
          "South Dakota",
          "SD"
         ],
         "31:9a:28:8b:99:6c",
         "Ohio State University",
         [
          "02/27",
          "2302893002194899",
          "Discover",
          "GBP",
          "O8ENPRB9UVBL2EFZ7601KC09"
         ],
         [
          [
           "27 Cedar Street",
           "Philadelphia",
           [
            -81.841588,
            31.79423
           ],
           "United States",
           "79574",
           "Connecticut",
           "CT"
          ],
          "Services",
          "Considine - Torp",
          "Web Developer"
         ],
         "326-604",
         "933-784-949",
         "Mozilla/5.0 (Macintosh; Intel Mac OS X 10_15_7) AppleWebKit/537.36 (KHTML, like Gecko) Chrome/97.0.4692.99 Safari/537.36",
         [
          "Bitcoin",
          "Ethereum (ERC20)",
          "0xb9fc2fe63b2a6c003f1c324c3bfa53259162181a"
         ],
         "moderator"
        ],
        [
         12,
         "Mia",
         "Rodriguez",
         "",
         24,
         "female",
         "mia.rodriguez@x.dummyjson.com",
         "+49 989-461-8403",
         "miar",
         "miarpass",
         "2000-8-4",
         "https://dummyjson.com/icon/miar/128",
         "O-",
         188.08,
         56.03,
         "Blue",
         [
          "Purple",
          "Wavy"
         ],
         "11.72.253.90",
         [
          "1627 Sixth Street",
          "Jacksonville",
          [
           24.857497,
           -34.865429
          ],
          "United States",
          "41810",
          "West Virginia",
          "WV"
         ],
         "53:d7:a4:6:1e:58",
         "William & Mary",
         [
          "05/26",
          "1539872303456158",
          "Carte Bancaire",
          "CAD",
          "EBMD95RLK8B82ZAZNXBJ09V5"
         ],
         [
          [
           "1039 Washington Street",
           "Philadelphia",
           [
            85.455933,
            164.246103
           ],
           "United States",
           "57518",
           "New Jersey",
           "NJ"
          ],
          "Accounting",
          "Miller, Schowalter and Wisozk",
          "Business Analyst"
         ],
         "754-660",
         "749-524-124",
         "Mozilla/5.0 (Macintosh; Intel Mac OS X 10_15_7) AppleWebKit/537.36 (KHTML, like Gecko) Chrome/95.0.4638.54 Safari/537.36",
         [
          "Bitcoin",
          "Ethereum (ERC20)",
          "0xb9fc2fe63b2a6c003f1c324c3bfa53259162181a"
         ],
         "moderator"
        ],
        [
         13,
         "Noah",
         "Hernandez",
         "",
         40,
         "male",
         "noah.hernandez@x.dummyjson.com",
         "+49 393-605-6968",
         "noahh",
         "noahhpass",
         "1984-6-5",
         "https://dummyjson.com/icon/noahh/128",
         "AB+",
         188.62,
         69.49,
         "Brown",
         [
          "Red",
          "Curly"
         ],
         "169.154.126.57",
         [
          "1413 Maple Street",
          "New York",
          [
           -25.0377,
           -151.70469
          ],
          "United States",
          "73696",
          "North Dakota",
          "ND"
         ],
         "d4:fe:ae:8f:eb:a3",
         "New York University (NYU)",
         [
          "05/26",
          "1681772579326385",
          "Discover",
          "SEK",
          "G4UIZKIQVPJM9D31XQVR1E9Z"
         ],
         [
          [
           "62 Third Street",
           "Seattle",
           [
            19.490447,
            -13.173207
           ],
           "United States",
           "83474",
           "Oregon",
           "OR"
          ],
          "Engineering",
          "Botsford, Marquardt and Roberts",
          "Database Administrator"
         ],
         "877-628",
         "660-847-389",
         "Mozilla/5.0 (Windows NT 10.0; Win64; x64) AppleWebKit/537.36 (KHTML, like Gecko) Chrome/95.0.4638.54 Safari/537.36",
         [
          "Bitcoin",
          "Ethereum (ERC20)",
          "0xb9fc2fe63b2a6c003f1c324c3bfa53259162181a"
         ],
         "moderator"
        ],
        [
         14,
         "Charlotte",
         "Lopez",
         "Martinez",
         36,
         "female",
         "charlotte.lopez@x.dummyjson.com",
         "+44 373-953-5028",
         "charlottem",
         "charlottempass",
         "1988-6-8",
         "https://dummyjson.com/icon/charlottem/128",
         "AB-",
         178.92,
         82.46,
         "Brown",
         [
          "Gray",
          "Kinky"
         ],
         "119.103.95.60",
         [
          "208 Second Street",
          "Columbus",
          [
           -44.443762,
           -151.420561
          ],
          "United States",
          "42044",
          "Ohio",
          "OH"
         ],
         "f6:ff:37:aa:6c:f1",
         "Northeastern University",
         [
          "02/27",
          "5675368650551956",
          "Maestro",
          "CNY",
          "FKK6U634LGI3E7N517DLVVTL"
         ],
         [
          [
           "569 Jefferson Street",
           "Los Angeles",
           [
            -18.371256,
            22.566258
           ],
           "United States",
           "17779",
           "Montana",
           "MT"
          ],
          "Accounting",
          "Zulauf and Sons",
          "Chief Executive Officer"
         ],
         "364-782",
         "255-491-479",
         "Mozilla/5.0 (Windows NT 10.0; Win64; x64) AppleWebKit/537.36 (KHTML, like Gecko) Chrome/96.0.4664.45 Safari/537.36",
         [
          "Bitcoin",
          "Ethereum (ERC20)",
          "0xb9fc2fe63b2a6c003f1c324c3bfa53259162181a"
         ],
         "moderator"
        ],
        [
         15,
         "William",
         "Gonzalez",
         "",
         32,
         "male",
         "william.gonzalez@x.dummyjson.com",
         "+81 905-252-7319",
         "williamg",
         "williamgpass",
         "1992-3-27",
         "https://dummyjson.com/icon/williamg/128",
         "B-",
         173.21,
         82.41,
         "Hazel",
         [
          "Gray",
          "Curly"
         ],
         "250.2.241.204",
         [
          "31 Maple Street",
          "San Jose",
          [
           8.152876,
           113.29799
          ],
          "United States",
          "78243",
          "Utah",
          "UT"
         ],
         "f5:68:28:f9:ec:89",
         "Tufts University",
         [
          "03/27",
          "6053000793215148",
          "Mir",
          "EUR",
          "AR01SNDMKGECX0EYH7UCW61W"
         ],
         [
          [
           "1538 Eighth Street",
           "San Jose",
           [
            24.169361,
            -29.395167
           ],
           "United States",
           "29673",
           "Missouri",
           "MO"
          ],
          "Marketing",
          "Spinka - Dickinson",
          "Software Architect"
         ],
         "830-515",
         "690-544-755",
         "Mozilla/5.0 (Macintosh; Intel Mac OS X 10_15_7) AppleWebKit/537.36 (KHTML, like Gecko) Chrome/96.0.4664.93 Safari/537.36",
         [
          "Bitcoin",
          "Ethereum (ERC20)",
          "0xb9fc2fe63b2a6c003f1c324c3bfa53259162181a"
         ],
         "moderator"
        ],
        [
         16,
         "Avery",
         "Perez",
         "",
         25,
         "female",
         "avery.perez@x.dummyjson.com",
         "+61 731-431-3457",
         "averyp",
         "averyppass",
         "1999-3-10",
         "https://dummyjson.com/icon/averyp/128",
         "O-",
         172.68,
         93.9,
         "Brown",
         [
          "Green",
          "Curly"
         ],
         "131.217.4.214",
         [
          "1125 First Street",
          "Columbus",
          [
           12.789127,
           85.792598
          ],
          "United States",
          "30973",
          "Iowa",
          "IA"
         ],
         "b3:ff:f3:c5:37:46",
         "Harvard University",
         [
          "04/27",
          "0961014686718571",
          "Carte Bancaire",
          "USD",
          "28JYZAY4KYT48YI8QW40PWXR"
         ],
         [
          [
           "183 Maple Street",
           "New York",
           [
            -53.318189,
            105.835271
           ],
           "United States",
           "45238",
           "Rhode Island",
           "RI"
          ],
          "Accounting",
          "Herzog Inc",
          "Database Administrator"
         ],
         "348-493",
         "679-523-686",
         "Mozilla/5.0 (Macintosh; Intel Mac OS X 10_15_7) AppleWebKit/537.36 (KHTML, like Gecko) Chrome/95.0.4638.69 Safari/537.36",
         [
          "Bitcoin",
          "Ethereum (ERC20)",
          "0xb9fc2fe63b2a6c003f1c324c3bfa53259162181a"
         ],
         "user"
        ],
        [
         17,
         "Evelyn",
         "Sanchez",
         "",
         37,
         "female",
         "evelyn.sanchez@x.dummyjson.com",
         "+1 623-880-6871",
         "evelyns",
         "evelynspass",
         "1987-10-13",
         "https://dummyjson.com/icon/evelyns/128",
         "B+",
         184.08,
         83.15,
         "Violet",
         [
          "Blue",
          "Curly"
         ],
         "87.114.135.146",
         [
          "1170 Lincoln Street",
          "San Diego",
          [
           -83.31484,
           11.768071
          ],
          "United States",
          "43423",
          "Wyoming",
          "WY"
         ],
         "f8:e5:bd:43:bc:d8",
         "Washington University in St. Louis",
         [
          "04/29",
          "4557521697420096",
          "UnionPay",
          "SEK",
          "KN8XAPR2J5UB8AKDI1EVJ56R"
         ],
         [
          [
           "1802 Ninth Street",
           "San Diego",
           [
            29.034592,
            -78.004598
           ],
           "United States",
           "89416",
           "Minnesota",
           "MN"
          ],
          "Support",
          "Predovic - Johns",
          "Chief Financial Officer"
         ],
         "604-817",
         "689-332-644",
         "Mozilla/5.0 (Macintosh; Intel Mac OS X 10_15_7) AppleWebKit/537.36 (KHTML, like Gecko) Chrome/96.0.4664.45 Safari/537.36",
         [
          "Bitcoin",
          "Ethereum (ERC20)",
          "0xb9fc2fe63b2a6c003f1c324c3bfa53259162181a"
         ],
         "user"
        ],
        [
         18,
         "Logan",
         "Torres",
         "",
         31,
         "male",
         "logan.torres@x.dummyjson.com",
         "+81 507-434-8733",
         "logant",
         "logantpass",
         "1993-10-26",
         "https://dummyjson.com/icon/logant/128",
         "A+",
         190.04,
         72.43,
         "Green",
         [
          "Green",
          "Curly"
         ],
         "155.98.15.162",
         [
          "907 Seventh Street",
          "Columbus",
          [
           -64.846516,
           174.775744
          ],
          "United States",
          "78805",
          "Arkansas",
          "AR"
         ],
         "40:d:5c:1:7d:bf",
         "University of Illinois--Urbana-Champaign",
         [
          "05/26",
          "7884268130452098",
          "UnionPay",
          "NZD",
          "HZM7V9PYHPZBN72IDFPXGN8Q"
         ],
         [
          [
           "947 Main Street",
           "Denver",
           [
            -24.654063,
            -147.255268
           ],
           "United States",
           "71896",
           "Minnesota",
           "MN"
          ],
          "Training",
          "Jast - Nader",
          "Data Analyst"
         ],
         "576-218",
         "806-639-934",
         "Mozilla/5.0 (Macintosh; Intel Mac OS X 10_15_7) AppleWebKit/537.36 (KHTML, like Gecko) Chrome/96.0.4664.45 Safari/537.36",
         [
          "Bitcoin",
          "Ethereum (ERC20)",
          "0xb9fc2fe63b2a6c003f1c324c3bfa53259162181a"
         ],
         "user"
        ],
        [
         19,
         "Abigail",
         "Rivera",
         "",
         28,
         "female",
         "abigail.rivera@x.dummyjson.com",
         "+91 228-363-7806",
         "abigailr",
         "abigailrpass",
         "1996-10-11",
         "https://dummyjson.com/icon/abigailr/128",
         "B+",
         186.39,
         74.61,
         "Violet",
         [
          "Blue",
          "Kinky"
         ],
         "19.183.240.94",
         [
          "996 Oak Street",
          "Chicago",
          [
           44.321308,
           -3.723903
          ],
          "United States",
          "11407",
          "New Mexico",
          "NM"
         ],
         "1d:a6:58:2a:e5:e4",
         "California Institute of Technology (Caltech)",
         [
          "02/28",
          "4832361886407551",
          "RuPay",
          "BRL",
          "O02LHDNNFCVSM6D4H81DIQHE"
         ],
         [
          [
           "1402 Adams Street",
           "Austin",
           [
            25.672938,
            -76.54967
           ],
           "United States",
           "51456",
           "Wisconsin",
           "WI"
          ],
          "Human Resources",
          "Prohaska - Thiel",
          "Business Analyst"
         ],
         "173-637",
         "655-823-929",
         "Mozilla/5.0 (Windows NT 10.0; Win64; x64) AppleWebKit/537.36 (KHTML, like Gecko) Edge/97.0.1072.76 Safari/537.36",
         [
          "Bitcoin",
          "Ethereum (ERC20)",
          "0xb9fc2fe63b2a6c003f1c324c3bfa53259162181a"
         ],
         "user"
        ],
        [
         20,
         "Jackson",
         "Evans",
         "",
         34,
         "male",
         "jackson.evans@x.dummyjson.com",
         "+44 468-628-6686",
         "jacksone",
         "jacksonepass",
         "1990-11-30",
         "https://dummyjson.com/icon/jacksone/128",
         "O-",
         162.57,
         74.37,
         "Green",
         [
          "Red",
          "Straight"
         ],
         "221.127.144.198",
         [
          "1873 Main Street",
          "New York",
          [
           34.722451,
           63.448927
          ],
          "United States",
          "26600",
          "Arkansas",
          "AR"
         ],
         "81:14:1:97:88:85",
         "Ohio State University",
         [
          "04/26",
          "2109192842527801",
          "BC Card",
          "EUR",
          "TX26FO9B7YR2VHYDSJBE32AX"
         ],
         [
          [
           "1706 First Street",
           "Chicago",
           [
            -80.416937,
            -83.224516
           ],
           "United States",
           "34725",
           "Hawaii",
           "HI"
          ],
          "Legal",
          "Kuhlman LLC",
          "Web Developer"
         ],
         "843-260",
         "248-787-886",
         "Mozilla/5.0 (Macintosh; Intel Mac OS X 10_15_7) AppleWebKit/537.36 (KHTML, like Gecko) Chrome/97.0.4692.99 Safari/537.36",
         [
          "Bitcoin",
          "Ethereum (ERC20)",
          "0xb9fc2fe63b2a6c003f1c324c3bfa53259162181a"
         ],
         "user"
        ],
        [
         21,
         "Madison",
         "Collins",
         "",
         26,
         "female",
         "madison.collins@x.dummyjson.com",
         "+81 259-957-5711",
         "madisonc",
         "madisoncpass",
         "1998-3-7",
         "https://dummyjson.com/icon/madisonc/128",
         "B-",
         189.28,
         56.96,
         "Red",
         [
          "Gray",
          "Curly"
         ],
         "85.34.1.204",
         [
          "1892 Lincoln Street",
          "Philadelphia",
          [
           52.993694,
           160.486892
          ],
          "United States",
          "62091",
          "New Jersey",
          "NJ"
         ],
         "13:b0:d0:23:4d:26",
         "University of Pennsylvania",
         [
          "04/28",
          "5549175461210252",
          "Mir",
          "CNY",
          "Y0WSN5IED255808SIYBUOMWO"
         ],
         [
          [
           "1438 Main Street",
           "San Diego",
           [
            1.629613,
            23.232982
           ],
           "United States",
           "63144",
           "Delaware",
           "DE"
          ],
          "Engineering",
          "Mayer - Smitham",
          "Chief Technology Officer"
         ],
         "716-166",
         "457-258-950",
         "Mozilla/5.0 (Macintosh; Intel Mac OS X 10_15_7) AppleWebKit/537.36 (KHTML, like Gecko) Chrome/97.0.4692.99 Safari/537.36",
         [
          "Bitcoin",
          "Ethereum (ERC20)",
          "0xb9fc2fe63b2a6c003f1c324c3bfa53259162181a"
         ],
         "user"
        ],
        [
         22,
         "Elijah",
         "Stewart",
         "",
         33,
         "male",
         "elijah.stewart@x.dummyjson.com",
         "+44 468-357-7872",
         "elijahs",
         "elijahspass",
         "1991-10-22",
         "https://dummyjson.com/icon/elijahs/128",
         "A-",
         195.33,
         81.64,
         "Blue",
         [
          "Purple",
          "Straight"
         ],
         "23.87.135.62",
         [
          "1701 Eighth Street",
          "Columbus",
          [
           -54.833799,
           -174.504027
          ],
          "United States",
          "31585",
          "Illinois",
          "IL"
         ],
         "75:17:c6:35:fc:6d",
         "Georgetown University",
         [
          "05/27",
          "0798116671286564",
          "JCB",
          "GBP",
          "E1XUHCC1N39WGU6XESSK1CAO"
         ],
         [
          [
           "155 Ninth Street",
           "Washington",
           [
            61.279254,
            -12.607767
           ],
           "United States",
           "19039",
           "South Dakota",
           "SD"
          ],
          "Legal",
          "Langworth Group",
          "Business Analyst"
         ],
         "520-394",
         "287-380-801",
         "Mozilla/5.0 (Macintosh; Intel Mac OS X 10_15_7) AppleWebKit/537.36 (KHTML, like Gecko) Chrome/96.0.4664.93 Safari/537.36",
         [
          "Bitcoin",
          "Ethereum (ERC20)",
          "0xb9fc2fe63b2a6c003f1c324c3bfa53259162181a"
         ],
         "user"
        ],
        [
         23,
         "Chloe",
         "Morales",
         "",
         39,
         "female",
         "chloe.morales@x.dummyjson.com",
         "+92 468-541-7133",
         "chloem",
         "chloempass",
         "1985-4-21",
         "https://dummyjson.com/icon/chloem/128",
         "O+",
         185.07,
         63.97,
         "Brown",
         [
          "Red",
          "Kinky"
         ],
         "66.78.20.21",
         [
          "401 Fourth Street",
          "Dallas",
          [
           -30.190759,
           -58.705979
          ],
          "United States",
          "54972",
          "New Jersey",
          "NJ"
         ],
         "fc:f:29:e1:37:b8",
         "Syracuse University",
         [
          "05/28",
          "3150496938377346",
          "American Express",
          "PKR",
          "P7YLGOOBWBD1SRWDWSFO3PZ0"
         ],
         [
          [
           "269 Third Street",
           "Houston",
           [
            40.098115,
            -1.762972
           ],
           "United States",
           "10385",
           "North Carolina",
           "NC"
          ],
          "Sales",
          "Grady LLC",
          "Database Administrator"
         ],
         "913-597",
         "938-883-163",
         "Mozilla/5.0 (Windows NT 10.0; Win64; x64) AppleWebKit/537.36 (KHTML, like Gecko) Chrome/96.0.4664.93 Safari/537.36",
         [
          "Bitcoin",
          "Ethereum (ERC20)",
          "0xb9fc2fe63b2a6c003f1c324c3bfa53259162181a"
         ],
         "user"
        ],
        [
         24,
         "Mateo",
         "Nguyen",
         "",
         30,
         "male",
         "mateo.nguyen@x.dummyjson.com",
         "+1 341-597-6694",
         "mateon",
         "mateonpass",
         "1994-6-2",
         "https://dummyjson.com/icon/mateon/128",
         "O+",
         174.29,
         59.98,
         "Red",
         [
          "Purple",
          "Wavy"
         ],
         "192.57.144.7",
         [
          "1578 Fourth Street",
          "Columbus",
          [
           -32.828675,
           -82.557354
          ],
          "United States",
          "20673",
          "Missouri",
          "MO"
         ],
         "a7:26:10:7a:36:29",
         "Columbia University",
         [
          "03/26",
          "5545852224851851",
          "JCB",
          "TRY",
          "WEBE9SBX588VFUCVCA6KFHWB"
         ],
         [
          [
           "1967 Jefferson Street",
           "Dallas",
           [
            75.982676,
            164.459743
           ],
           "United States",
           "78527",
           "Louisiana",
           "LA"
          ],
          "Accounting",
          "Spinka LLC",
          "Business Analyst"
         ],
         "229-249",
         "416-877-230",
         "Mozilla/5.0 (Windows NT 10.0; Win64; x64) AppleWebKit/537.36 (KHTML, like Gecko) Chrome/95.0.4638.69 Safari/537.36",
         [
          "Bitcoin",
          "Ethereum (ERC20)",
          "0xb9fc2fe63b2a6c003f1c324c3bfa53259162181a"
         ],
         "user"
        ],
        [
         25,
         "Harper",
         "Kelly",
         "Evans",
         27,
         "female",
         "harper.kelly@x.dummyjson.com",
         "+92 518-863-2863",
         "harpere",
         "harperepass",
         "1997-3-3",
         "https://dummyjson.com/icon/harpere/128",
         "AB-",
         184.32,
         81.69,
         "Amber",
         [
          "Red",
          "Curly"
         ],
         "174.111.61.162",
         [
          "1591 Adams Street",
          "Philadelphia",
          [
           -26.832913,
           -75.445017
          ],
          "United States",
          "69521",
          "New York",
          "NY"
         ],
         "b:ff:33:67:94:e4",
         "Boston College",
         [
          "04/26",
          "1298153007505587",
          "RuPay",
          "JPY",
          "DJI19LCUNUHP6YSGPY52D5VG"
         ],
         [
          [
           "16 Maple Street",
           "Austin",
           [
            -15.423746,
            149.298887
           ],
           "United States",
           "68274",
           "North Carolina",
           "NC"
          ],
          "Legal",
          "Leffler, Rolfson and Becker",
          "Business Development Manager"
         ],
         "592-557",
         "209-544-548",
         "Mozilla/5.0 (Macintosh; Intel Mac OS X 10_15_7) AppleWebKit/537.36 (KHTML, like Gecko) Chrome/97.0.4692.99 Safari/537.36",
         [
          "Bitcoin",
          "Ethereum (ERC20)",
          "0xb9fc2fe63b2a6c003f1c324c3bfa53259162181a"
         ],
         "user"
        ],
        [
         26,
         "Evelyn",
         "Gonzalez",
         "",
         35,
         "female",
         "evelyn.gonzalez@x.dummyjson.com",
         "+61 708-508-4638",
         "evelyng",
         "evelyngpass",
         "1989-2-5",
         "https://dummyjson.com/icon/evelyng/128",
         "O+",
         168.94,
         58.47,
         "Red",
         [
          "Black",
          "Wavy"
         ],
         "42.52.74.232",
         [
          "1065 Lincoln Street",
          "Dallas",
          [
           67.768359,
           71.268643
          ],
          "United States",
          "84898",
          "Maine",
          "ME"
         ],
         "89:5e:5a:2a:72:42",
         "Washington University in St. Louis",
         [
          "03/28",
          "9584313788145560",
          "RuPay",
          "INR",
          "X4UPULQG61VIGA97USY7AAEB"
         ],
         [
          [
           "584 Ninth Street",
           "Jacksonville",
           [
            26.014021,
            40.572436
           ],
           "United States",
           "45633",
           "Wisconsin",
           "WI"
          ],
          "Accounting",
          "Tromp, Gaylord and Weber",
          "Project Manager"
         ],
         "569-275",
         "487-680-127",
         "Mozilla/5.0 (Windows NT 10.0; Win64; x64) AppleWebKit/537.36 (KHTML, like Gecko) Chrome/95.0.4638.54 Safari/537.36",
         [
          "Bitcoin",
          "Ethereum (ERC20)",
          "0xb9fc2fe63b2a6c003f1c324c3bfa53259162181a"
         ],
         "user"
        ],
        [
         27,
         "Daniel",
         "Cook",
         "",
         41,
         "male",
         "daniel.cook@x.dummyjson.com",
         "+44 254-761-6843",
         "danielc",
         "danielcpass",
         "1983-12-25",
         "https://dummyjson.com/icon/danielc/128",
         "AB+",
         186.21,
         83.72,
         "Brown",
         [
          "Blonde",
          "Curly"
         ],
         "1.61.73.142",
         [
          "1163 Pine Street",
          "Los Angeles",
          [
           -3.456681,
           -134.937482
          ],
          "United States",
          "58781",
          "Nevada",
          "NV"
         ],
         "6e:73:dc:3a:85:10",
         "Columbia University",
         [
          "01/26",
          "8452555751345228",
          "Korean Express",
          "NZD",
          "A8DBPECO4X6D09WYOVT8UZK8"
         ],
         [
          [
           "938 Fifth Street",
           "San Francisco",
           [
            21.323588,
            -83.531427
           ],
           "United States",
           "45305",
           "South Dakota",
           "SD"
          ],
          "Support",
          "Morissette, Baumbach and Auer",
          "Legal Counsel"
         ],
         "585-905",
         "645-515-583",
         "Mozilla/5.0 (Windows NT 10.0; Win64; x64; rv:97.0) Gecko/20100101 Firefox/97.0",
         [
          "Bitcoin",
          "Ethereum (ERC20)",
          "0xb9fc2fe63b2a6c003f1c324c3bfa53259162181a"
         ],
         "user"
        ],
        [
         28,
         "Lily",
         "Lee",
         "Brown",
         29,
         "female",
         "lily.lee@x.dummyjson.com",
         "+1 808-757-9867",
         "lilyb",
         "lilybpass",
         "1995-12-3",
         "https://dummyjson.com/icon/lilyb/128",
         "AB-",
         181.42,
         51.49,
         "Gray",
         [
          "Purple",
          "Straight"
         ],
         "67.184.255.96",
         [
          "1946 Oak Street",
          "Phoenix",
          [
           -9.87059,
           -72.336845
          ],
          "United States",
          "41540",
          "Massachusetts",
          "MA"
         ],
         "18:b6:c7:a:50:3f",
         "Johns Hopkins University",
         [
          "05/29",
          "2903637820228856",
          "Visa",
          "JPY",
          "BKX6ZWB8UJZD09RFOWFPPD3C"
         ],
         [
          [
           "1735 Cedar Street",
           "Phoenix",
           [
            72.231441,
            -158.147245
           ],
           "United States",
           "85797",
           "Wyoming",
           "WY"
          ],
          "Product Management",
          "Cremin Inc",
          "Quality Assurance Engineer"
         ],
         "229-776",
         "358-185-671",
         "Mozilla/5.0 (Windows NT 10.0; Win64; x64) AppleWebKit/537.36 (KHTML, like Gecko) Edge/97.0.1072.76 Safari/537.36",
         [
          "Bitcoin",
          "Ethereum (ERC20)",
          "0xb9fc2fe63b2a6c003f1c324c3bfa53259162181a"
         ],
         "user"
        ],
        [
         29,
         "Henry",
         "Hill",
         "",
         38,
         "male",
         "henry.hill@x.dummyjson.com",
         "+1 240-833-4680",
         "henryh",
         "henryhpass",
         "1986-8-19",
         "https://dummyjson.com/icon/henryh/128",
         "O-",
         180.25,
         95.84,
         "Gray",
         [
          "Black",
          "Straight"
         ],
         "194.43.55.202",
         [
          "1837 Maple Street",
          "Indianapolis",
          [
           35.498256,
           154.088476
          ],
          "United States",
          "81783",
          "Delaware",
          "DE"
         ],
         "fa:c3:1b:21:5f:44",
         "University of Illinois--Urbana-Champaign",
         [
          "02/26",
          "7262597174206766",
          "Diners Club International",
          "SEK",
          "7N3JP8KN9AUNXOWRQGAU2JX6"
         ],
         [
          [
           "1651 Lincoln Street",
           "San Francisco",
           [
            -59.936335,
            -12.405368
           ],
           "United States",
           "61805",
           "West Virginia",
           "WV"
          ],
          "Services",
          "Gerlach, Funk and Schoen",
          "Sales Manager"
         ],
         "118-957",
         "925-686-100",
         "Mozilla/5.0 (Windows NT 10.0; Win64; x64) AppleWebKit/537.36 (KHTML, like Gecko) Chrome/96.0.4664.93 Safari/537.36",
         [
          "Bitcoin",
          "Ethereum (ERC20)",
          "0xb9fc2fe63b2a6c003f1c324c3bfa53259162181a"
         ],
         "user"
        ],
        [
         30,
         "Addison",
         "Wright",
         "",
         32,
         "female",
         "addison.wright@x.dummyjson.com",
         "+1 514-384-3300",
         "addisonw",
         "addisonwpass",
         "1992-1-3",
         "https://dummyjson.com/icon/addisonw/128",
         "B+",
         179.32,
         76.93,
         "Brown",
         [
          "Blonde",
          "Straight"
         ],
         "11.35.69.81",
         [
          "568 Tenth Street",
          "San Francisco",
          [
           20.946052,
           100.228822
          ],
          "United States",
          "54698",
          "Montana",
          "MT"
         ],
         "fb:0:94:21:16:c",
         "Syracuse University",
         [
          "05/28",
          "3756638438861539",
          "Carte Bancaire",
          "JPY",
          "OOPQTNZ74OLPKVT7TGB89UQL"
         ],
         [
          [
           "1173 Eighth Street",
           "San Diego",
           [
            65.324413,
            87.142893
           ],
           "United States",
           "85777",
           "Michigan",
           "MI"
          ],
          "Services",
          "Kreiger Inc",
          "Human Resources Manager"
         ],
         "415-286",
         "804-492-390",
         "Mozilla/5.0 (Macintosh; Intel Mac OS X 10_15_7) AppleWebKit/537.36 (KHTML, like Gecko) Chrome/96.0.4664.93 Safari/537.36",
         [
          "Bitcoin",
          "Ethereum (ERC20)",
          "0xb9fc2fe63b2a6c003f1c324c3bfa53259162181a"
         ],
         "user"
        ]
       ],
       "datasetInfos": [],
       "dbfsResultPath": null,
       "isJsonSchema": true,
       "metadata": {},
       "overflow": false,
       "plotOptions": {
        "customPlotOptions": {},
        "displayType": "table",
        "pivotAggregation": null,
        "pivotColumns": null,
        "xColumns": null,
        "yColumns": null
       },
       "removedWidgets": [],
       "schema": [
        {
         "metadata": "{}",
         "name": "id",
         "type": "\"long\""
        },
        {
         "metadata": "{}",
         "name": "firstName",
         "type": "\"string\""
        },
        {
         "metadata": "{}",
         "name": "lastName",
         "type": "\"string\""
        },
        {
         "metadata": "{}",
         "name": "maidenName",
         "type": "\"string\""
        },
        {
         "metadata": "{}",
         "name": "age",
         "type": "\"long\""
        },
        {
         "metadata": "{}",
         "name": "gender",
         "type": "\"string\""
        },
        {
         "metadata": "{}",
         "name": "email",
         "type": "\"string\""
        },
        {
         "metadata": "{}",
         "name": "phone",
         "type": "\"string\""
        },
        {
         "metadata": "{}",
         "name": "username",
         "type": "\"string\""
        },
        {
         "metadata": "{}",
         "name": "password",
         "type": "\"string\""
        },
        {
         "metadata": "{}",
         "name": "birthDate",
         "type": "\"string\""
        },
        {
         "metadata": "{}",
         "name": "image",
         "type": "\"string\""
        },
        {
         "metadata": "{}",
         "name": "bloodGroup",
         "type": "\"string\""
        },
        {
         "metadata": "{}",
         "name": "height",
         "type": "\"double\""
        },
        {
         "metadata": "{}",
         "name": "weight",
         "type": "\"double\""
        },
        {
         "metadata": "{}",
         "name": "eyeColor",
         "type": "\"string\""
        },
        {
         "metadata": "{}",
         "name": "hair",
         "type": "{\"type\":\"struct\",\"fields\":[{\"name\":\"color\",\"type\":\"string\",\"nullable\":true,\"metadata\":{}},{\"name\":\"type\",\"type\":\"string\",\"nullable\":true,\"metadata\":{}}]}"
        },
        {
         "metadata": "{}",
         "name": "ip",
         "type": "\"string\""
        },
        {
         "metadata": "{}",
         "name": "address",
         "type": "{\"type\":\"struct\",\"fields\":[{\"name\":\"address\",\"type\":\"string\",\"nullable\":true,\"metadata\":{}},{\"name\":\"city\",\"type\":\"string\",\"nullable\":true,\"metadata\":{}},{\"name\":\"coordinates\",\"type\":{\"type\":\"struct\",\"fields\":[{\"name\":\"lat\",\"type\":\"double\",\"nullable\":true,\"metadata\":{}},{\"name\":\"lng\",\"type\":\"double\",\"nullable\":true,\"metadata\":{}}]},\"nullable\":true,\"metadata\":{}},{\"name\":\"country\",\"type\":\"string\",\"nullable\":true,\"metadata\":{}},{\"name\":\"postalCode\",\"type\":\"string\",\"nullable\":true,\"metadata\":{}},{\"name\":\"state\",\"type\":\"string\",\"nullable\":true,\"metadata\":{}},{\"name\":\"stateCode\",\"type\":\"string\",\"nullable\":true,\"metadata\":{}}]}"
        },
        {
         "metadata": "{}",
         "name": "macAddress",
         "type": "\"string\""
        },
        {
         "metadata": "{}",
         "name": "university",
         "type": "\"string\""
        },
        {
         "metadata": "{}",
         "name": "bank",
         "type": "{\"type\":\"struct\",\"fields\":[{\"name\":\"cardExpire\",\"type\":\"string\",\"nullable\":true,\"metadata\":{}},{\"name\":\"cardNumber\",\"type\":\"string\",\"nullable\":true,\"metadata\":{}},{\"name\":\"cardType\",\"type\":\"string\",\"nullable\":true,\"metadata\":{}},{\"name\":\"currency\",\"type\":\"string\",\"nullable\":true,\"metadata\":{}},{\"name\":\"iban\",\"type\":\"string\",\"nullable\":true,\"metadata\":{}}]}"
        },
        {
         "metadata": "{}",
         "name": "company",
         "type": "{\"type\":\"struct\",\"fields\":[{\"name\":\"address\",\"type\":{\"type\":\"struct\",\"fields\":[{\"name\":\"address\",\"type\":\"string\",\"nullable\":true,\"metadata\":{}},{\"name\":\"city\",\"type\":\"string\",\"nullable\":true,\"metadata\":{}},{\"name\":\"coordinates\",\"type\":{\"type\":\"struct\",\"fields\":[{\"name\":\"lat\",\"type\":\"double\",\"nullable\":true,\"metadata\":{}},{\"name\":\"lng\",\"type\":\"double\",\"nullable\":true,\"metadata\":{}}]},\"nullable\":true,\"metadata\":{}},{\"name\":\"country\",\"type\":\"string\",\"nullable\":true,\"metadata\":{}},{\"name\":\"postalCode\",\"type\":\"string\",\"nullable\":true,\"metadata\":{}},{\"name\":\"state\",\"type\":\"string\",\"nullable\":true,\"metadata\":{}},{\"name\":\"stateCode\",\"type\":\"string\",\"nullable\":true,\"metadata\":{}}]},\"nullable\":true,\"metadata\":{}},{\"name\":\"department\",\"type\":\"string\",\"nullable\":true,\"metadata\":{}},{\"name\":\"name\",\"type\":\"string\",\"nullable\":true,\"metadata\":{}},{\"name\":\"title\",\"type\":\"string\",\"nullable\":true,\"metadata\":{}}]}"
        },
        {
         "metadata": "{}",
         "name": "ein",
         "type": "\"string\""
        },
        {
         "metadata": "{}",
         "name": "ssn",
         "type": "\"string\""
        },
        {
         "metadata": "{}",
         "name": "userAgent",
         "type": "\"string\""
        },
        {
         "metadata": "{}",
         "name": "crypto",
         "type": "{\"type\":\"struct\",\"fields\":[{\"name\":\"coin\",\"type\":\"string\",\"nullable\":true,\"metadata\":{}},{\"name\":\"network\",\"type\":\"string\",\"nullable\":true,\"metadata\":{}},{\"name\":\"wallet\",\"type\":\"string\",\"nullable\":true,\"metadata\":{}}]}"
        },
        {
         "metadata": "{}",
         "name": "role",
         "type": "\"string\""
        }
       ],
       "type": "table"
      }
     },
     "output_type": "display_data"
    }
   ],
   "source": [
    "%sql\n",
    "SELECT * FROM users;\n"
   ]
  },
  {
   "cell_type": "code",
   "execution_count": 0,
   "metadata": {
    "application/vnd.databricks.v1+cell": {
     "cellMetadata": {
      "byteLimit": 2048000,
      "implicitDf": true,
      "rowLimit": 10000
     },
     "inputWidgets": {},
     "nuid": "5414da3b-0e66-4634-a1d9-2973f71418db",
     "showTitle": false,
     "tableResultSettingsMap": {},
     "title": ""
    }
   },
   "outputs": [
    {
     "data": {
      "text/html": [
       "<style scoped>\n",
       "  .table-result-container {\n",
       "    max-height: 300px;\n",
       "    overflow: auto;\n",
       "  }\n",
       "  table, th, td {\n",
       "    border: 1px solid black;\n",
       "    border-collapse: collapse;\n",
       "  }\n",
       "  th, td {\n",
       "    padding: 5px;\n",
       "  }\n",
       "  th {\n",
       "    text-align: left;\n",
       "  }\n",
       "</style><div class='table-result-container'><table class='table-result'><thead style='background-color: white'><tr><th>id</th><th>firstName</th><th>lastName</th><th>age</th><th>email</th></tr></thead><tbody><tr><td>2</td><td>Michael</td><td>Williams</td><td>35</td><td>michael.williams@x.dummyjson.com</td></tr><tr><td>3</td><td>Sophia</td><td>Brown</td><td>42</td><td>sophia.brown@x.dummyjson.com</td></tr><tr><td>4</td><td>James</td><td>Davis</td><td>45</td><td>james.davis@x.dummyjson.com</td></tr><tr><td>7</td><td>Alexander</td><td>Jones</td><td>38</td><td>alexander.jones@x.dummyjson.com</td></tr><tr><td>9</td><td>Ethan</td><td>Martinez</td><td>33</td><td>ethan.martinez@x.dummyjson.com</td></tr><tr><td>10</td><td>Isabella</td><td>Anderson</td><td>31</td><td>isabella.anderson@x.dummyjson.com</td></tr><tr><td>13</td><td>Noah</td><td>Hernandez</td><td>40</td><td>noah.hernandez@x.dummyjson.com</td></tr><tr><td>14</td><td>Charlotte</td><td>Lopez</td><td>36</td><td>charlotte.lopez@x.dummyjson.com</td></tr><tr><td>15</td><td>William</td><td>Gonzalez</td><td>32</td><td>william.gonzalez@x.dummyjson.com</td></tr><tr><td>17</td><td>Evelyn</td><td>Sanchez</td><td>37</td><td>evelyn.sanchez@x.dummyjson.com</td></tr><tr><td>18</td><td>Logan</td><td>Torres</td><td>31</td><td>logan.torres@x.dummyjson.com</td></tr><tr><td>20</td><td>Jackson</td><td>Evans</td><td>34</td><td>jackson.evans@x.dummyjson.com</td></tr><tr><td>22</td><td>Elijah</td><td>Stewart</td><td>33</td><td>elijah.stewart@x.dummyjson.com</td></tr><tr><td>23</td><td>Chloe</td><td>Morales</td><td>39</td><td>chloe.morales@x.dummyjson.com</td></tr><tr><td>26</td><td>Evelyn</td><td>Gonzalez</td><td>35</td><td>evelyn.gonzalez@x.dummyjson.com</td></tr><tr><td>27</td><td>Daniel</td><td>Cook</td><td>41</td><td>daniel.cook@x.dummyjson.com</td></tr><tr><td>29</td><td>Henry</td><td>Hill</td><td>38</td><td>henry.hill@x.dummyjson.com</td></tr><tr><td>30</td><td>Addison</td><td>Wright</td><td>32</td><td>addison.wright@x.dummyjson.com</td></tr></tbody></table></div>"
      ]
     },
     "metadata": {
      "application/vnd.databricks.v1+output": {
       "addedWidgets": {},
       "aggData": [],
       "aggError": "",
       "aggOverflow": false,
       "aggSchema": [],
       "aggSeriesLimitReached": false,
       "aggType": "",
       "arguments": {},
       "columnCustomDisplayInfos": {},
       "data": [
        [
         2,
         "Michael",
         "Williams",
         35,
         "michael.williams@x.dummyjson.com"
        ],
        [
         3,
         "Sophia",
         "Brown",
         42,
         "sophia.brown@x.dummyjson.com"
        ],
        [
         4,
         "James",
         "Davis",
         45,
         "james.davis@x.dummyjson.com"
        ],
        [
         7,
         "Alexander",
         "Jones",
         38,
         "alexander.jones@x.dummyjson.com"
        ],
        [
         9,
         "Ethan",
         "Martinez",
         33,
         "ethan.martinez@x.dummyjson.com"
        ],
        [
         10,
         "Isabella",
         "Anderson",
         31,
         "isabella.anderson@x.dummyjson.com"
        ],
        [
         13,
         "Noah",
         "Hernandez",
         40,
         "noah.hernandez@x.dummyjson.com"
        ],
        [
         14,
         "Charlotte",
         "Lopez",
         36,
         "charlotte.lopez@x.dummyjson.com"
        ],
        [
         15,
         "William",
         "Gonzalez",
         32,
         "william.gonzalez@x.dummyjson.com"
        ],
        [
         17,
         "Evelyn",
         "Sanchez",
         37,
         "evelyn.sanchez@x.dummyjson.com"
        ],
        [
         18,
         "Logan",
         "Torres",
         31,
         "logan.torres@x.dummyjson.com"
        ],
        [
         20,
         "Jackson",
         "Evans",
         34,
         "jackson.evans@x.dummyjson.com"
        ],
        [
         22,
         "Elijah",
         "Stewart",
         33,
         "elijah.stewart@x.dummyjson.com"
        ],
        [
         23,
         "Chloe",
         "Morales",
         39,
         "chloe.morales@x.dummyjson.com"
        ],
        [
         26,
         "Evelyn",
         "Gonzalez",
         35,
         "evelyn.gonzalez@x.dummyjson.com"
        ],
        [
         27,
         "Daniel",
         "Cook",
         41,
         "daniel.cook@x.dummyjson.com"
        ],
        [
         29,
         "Henry",
         "Hill",
         38,
         "henry.hill@x.dummyjson.com"
        ],
        [
         30,
         "Addison",
         "Wright",
         32,
         "addison.wright@x.dummyjson.com"
        ]
       ],
       "datasetInfos": [],
       "dbfsResultPath": null,
       "isJsonSchema": true,
       "metadata": {},
       "overflow": false,
       "plotOptions": {
        "customPlotOptions": {},
        "displayType": "table",
        "pivotAggregation": null,
        "pivotColumns": null,
        "xColumns": null,
        "yColumns": null
       },
       "removedWidgets": [],
       "schema": [
        {
         "metadata": "{}",
         "name": "id",
         "type": "\"long\""
        },
        {
         "metadata": "{}",
         "name": "firstName",
         "type": "\"string\""
        },
        {
         "metadata": "{}",
         "name": "lastName",
         "type": "\"string\""
        },
        {
         "metadata": "{}",
         "name": "age",
         "type": "\"long\""
        },
        {
         "metadata": "{}",
         "name": "email",
         "type": "\"string\""
        }
       ],
       "type": "table"
      }
     },
     "output_type": "display_data"
    }
   ],
   "source": [
    "%sql\n",
    "SELECT id, firstName, lastName, age, email\n",
    "FROM users\n",
    "WHERE age > 30;\n"
   ]
  },
  {
   "cell_type": "code",
   "execution_count": 0,
   "metadata": {
    "application/vnd.databricks.v1+cell": {
     "cellMetadata": {
      "byteLimit": 2048000,
      "implicitDf": true,
      "rowLimit": 10000
     },
     "inputWidgets": {},
     "nuid": "6047e18f-26ac-4471-a4e5-56e13fd63f3e",
     "showTitle": false,
     "tableResultSettingsMap": {},
     "title": ""
    }
   },
   "outputs": [
    {
     "data": {
      "text/html": [
       "<style scoped>\n",
       "  .table-result-container {\n",
       "    max-height: 300px;\n",
       "    overflow: auto;\n",
       "  }\n",
       "  table, th, td {\n",
       "    border: 1px solid black;\n",
       "    border-collapse: collapse;\n",
       "  }\n",
       "  th, td {\n",
       "    padding: 5px;\n",
       "  }\n",
       "  th {\n",
       "    text-align: left;\n",
       "  }\n",
       "</style><div class='table-result-container'><table class='table-result'><thead style='background-color: white'><tr><th>gender</th><th>total_users</th></tr></thead><tbody><tr><td>female</td><td>17</td></tr><tr><td>male</td><td>13</td></tr></tbody></table></div>"
      ]
     },
     "metadata": {
      "application/vnd.databricks.v1+output": {
       "addedWidgets": {},
       "aggData": [],
       "aggError": "",
       "aggOverflow": false,
       "aggSchema": [],
       "aggSeriesLimitReached": false,
       "aggType": "",
       "arguments": {},
       "columnCustomDisplayInfos": {},
       "data": [
        [
         "female",
         17
        ],
        [
         "male",
         13
        ]
       ],
       "datasetInfos": [],
       "dbfsResultPath": null,
       "isJsonSchema": true,
       "metadata": {},
       "overflow": false,
       "plotOptions": {
        "customPlotOptions": {},
        "displayType": "table",
        "pivotAggregation": null,
        "pivotColumns": null,
        "xColumns": null,
        "yColumns": null
       },
       "removedWidgets": [],
       "schema": [
        {
         "metadata": "{}",
         "name": "gender",
         "type": "\"string\""
        },
        {
         "metadata": "{}",
         "name": "total_users",
         "type": "\"long\""
        }
       ],
       "type": "table"
      }
     },
     "output_type": "display_data"
    }
   ],
   "source": [
    "%sql\n",
    "SELECT gender, COUNT(*) AS total_users\n",
    "FROM users\n",
    "GROUP BY gender;\n"
   ]
  },
  {
   "cell_type": "code",
   "execution_count": 0,
   "metadata": {
    "application/vnd.databricks.v1+cell": {
     "cellMetadata": {
      "byteLimit": 2048000,
      "implicitDf": true,
      "rowLimit": 10000
     },
     "inputWidgets": {},
     "nuid": "4310f9d8-aa24-4070-b363-96807c616e3a",
     "showTitle": false,
     "tableResultSettingsMap": {},
     "title": ""
    }
   },
   "outputs": [
    {
     "data": {
      "text/html": [
       "<style scoped>\n",
       "  .table-result-container {\n",
       "    max-height: 300px;\n",
       "    overflow: auto;\n",
       "  }\n",
       "  table, th, td {\n",
       "    border: 1px solid black;\n",
       "    border-collapse: collapse;\n",
       "  }\n",
       "  th, td {\n",
       "    padding: 5px;\n",
       "  }\n",
       "  th {\n",
       "    text-align: left;\n",
       "  }\n",
       "</style><div class='table-result-container'><table class='table-result'><thead style='background-color: white'><tr><th>id</th><th>firstName</th><th>lastName</th><th>age</th></tr></thead><tbody><tr><td>6</td><td>Olivia</td><td>Wilson</td><td>22</td></tr><tr><td>12</td><td>Mia</td><td>Rodriguez</td><td>24</td></tr><tr><td>16</td><td>Avery</td><td>Perez</td><td>25</td></tr><tr><td>21</td><td>Madison</td><td>Collins</td><td>26</td></tr><tr><td>8</td><td>Ava</td><td>Taylor</td><td>27</td></tr></tbody></table></div>"
      ]
     },
     "metadata": {
      "application/vnd.databricks.v1+output": {
       "addedWidgets": {},
       "aggData": [],
       "aggError": "",
       "aggOverflow": false,
       "aggSchema": [],
       "aggSeriesLimitReached": false,
       "aggType": "",
       "arguments": {},
       "columnCustomDisplayInfos": {},
       "data": [
        [
         6,
         "Olivia",
         "Wilson",
         22
        ],
        [
         12,
         "Mia",
         "Rodriguez",
         24
        ],
        [
         16,
         "Avery",
         "Perez",
         25
        ],
        [
         21,
         "Madison",
         "Collins",
         26
        ],
        [
         8,
         "Ava",
         "Taylor",
         27
        ]
       ],
       "datasetInfos": [],
       "dbfsResultPath": null,
       "isJsonSchema": true,
       "metadata": {},
       "overflow": false,
       "plotOptions": {
        "customPlotOptions": {},
        "displayType": "table",
        "pivotAggregation": null,
        "pivotColumns": null,
        "xColumns": null,
        "yColumns": null
       },
       "removedWidgets": [],
       "schema": [
        {
         "metadata": "{}",
         "name": "id",
         "type": "\"long\""
        },
        {
         "metadata": "{}",
         "name": "firstName",
         "type": "\"string\""
        },
        {
         "metadata": "{}",
         "name": "lastName",
         "type": "\"string\""
        },
        {
         "metadata": "{}",
         "name": "age",
         "type": "\"long\""
        }
       ],
       "type": "table"
      }
     },
     "output_type": "display_data"
    }
   ],
   "source": [
    "%sql\n",
    "SELECT id, firstName, lastName, age\n",
    "FROM users\n",
    "ORDER BY age ASC\n",
    "LIMIT 5;\n"
   ]
  }
 ],
 "metadata": {
  "application/vnd.databricks.v1+notebook": {
   "computePreferences": null,
   "dashboards": [],
   "environmentMetadata": {
    "base_environment": "",
    "client": "1"
   },
   "language": "python",
   "notebookMetadata": {
    "mostRecentlyExecutedCommandWithImplicitDF": {
     "commandId": 1422597146513034,
     "dataframes": [
      "_sqldf"
     ]
    },
    "pythonIndentUnit": 4
   },
   "notebookName": "User Data Pipeline in Databricks: Ingestion, Transformation & SQL Analysis",
   "widgets": {}
  },
  "language_info": {
   "name": "python"
  }
 },
 "nbformat": 4,
 "nbformat_minor": 0
}
