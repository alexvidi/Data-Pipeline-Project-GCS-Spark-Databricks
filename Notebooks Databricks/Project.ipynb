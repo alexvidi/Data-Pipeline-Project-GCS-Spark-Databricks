{
 "cells": [
  {
   "cell_type": "code",
   "execution_count": 0,
   "metadata": {
    "application/vnd.databricks.v1+cell": {
     "cellMetadata": {
      "byteLimit": 2048000,
      "rowLimit": 10000
     },
     "inputWidgets": {},
     "nuid": "33becbdc-b9f7-4a80-933c-4da3f065ddf4",
     "showTitle": true,
     "tableResultSettingsMap": {},
     "title": "2"
    }
   },
   "outputs": [
    {
     "output_type": "stream",
     "name": "stdout",
     "output_type": "stream",
     "text": [
      "+---+--------------------+--------------------+----------+-------+------------------+------+-----+--------------------+----------------+--------+------+--------------------+-------------------+--------------------+------------------+--------------------+--------------------+--------------------+--------------------+--------------------+--------------------+\n| id|               title|         description|  category|  price|discountPercentage|rating|stock|                tags|           brand|     sku|weight|          dimensions|warrantyInformation| shippingInformation|availabilityStatus|             reviews|        returnPolicy|minimumOrderQuantity|                meta|              images|           thumbnail|\n+---+--------------------+--------------------+----------+-------+------------------+------+-----+--------------------+----------------+--------+------+--------------------+-------------------+--------------------+------------------+--------------------+--------------------+--------------------+--------------------+--------------------+--------------------+\n|  2|Eyeshadow Palette...|The Eyeshadow Pal...|    beauty|  19.99|               5.5|  3.28|   44| [beauty, eyeshadow]|  Glamour Beauty|MVCFH27F|     3|{29.13, 8.63, 12.42}|    1 year warranty|    Ships in 2 weeks|          In Stock|[{Very satisfied!...|30 days return po...|                  32|{2817839095220, 2...|[https://cdn.dumm...|https://cdn.dummy...|\n|  3|     Powder Canister|The Powder Canist...|    beauty|  14.99|             18.14|  3.82|   59|[beauty, face pow...|    Velvet Touch|9EN8WLT2|     8|{11.07, 10.7, 24.16}|    2 year warranty|Ships in 1-2 busi...|          In Stock|[{Very happy with...|60 days return po...|                  25|{0516267971277, 2...|[https://cdn.dumm...|https://cdn.dummy...|\n|  4|        Red Lipstick|The Red Lipstick ...|    beauty|  12.99|             19.03|  2.51|   68|  [beauty, lipstick]|  Chic Cosmetics|O5IF1NTA|     5|{14.6, 13.94, 14.37}|  Lifetime warranty|    Ships in 2 weeks|          In Stock|[{Great product!,...|90 days return po...|                   6|{9444582199406, 2...|[https://cdn.dumm...|https://cdn.dummy...|\n|  6| Calvin Klein CK One|CK One by Calvin ...|fragrances|  49.99|              0.32|  4.85|   17|[fragrances, perf...|    Calvin Klein|DZM2JQZE|     5|{6.81, 14.44, 11.53}|    5 year warranty|     Ships overnight|          In Stock|[{Great value for...|    No return policy|                  20|{2210136215089, 2...|[https://cdn.dumm...|https://cdn.dummy...|\n|  7|Chanel Coco Noir ...|Coco Noir by Chan...|fragrances| 129.99|             18.64|  2.76|   41|[fragrances, perf...|          Chanel|K71HBCGS|     4|{11.89, 28.0, 21.27}|    1 week warranty|    Ships in 1 month|          In Stock|[{Disappointing p...|60 days return po...|                   5|{1435582999795, 2...|[https://cdn.dumm...|https://cdn.dummy...|\n|  8|        Dior J'adore|J'adore by Dior i...|fragrances|  89.99|             17.44|  3.31|   91|[fragrances, perf...|            Dior|E70NB03B|    10| {26.51, 7.0, 21.51}|  Lifetime warranty|    Ships in 2 weeks|          In Stock|[{Fast shipping!,...|7 days return policy|                   8|{0887083199279, 2...|[https://cdn.dumm...|https://cdn.dummy...|\n|  9|  Dolce Shine Eau de|Dolce Shine by Do...|fragrances|  69.99|             11.47|  2.68|    3|[fragrances, perf...| Dolce & Gabbana|1NBFK980|     5| {13.3, 24.57, 17.0}|    5 year warranty|Ships in 1-2 busi...|         Low Stock|[{Very satisfied!...|30 days return po...|                   9|{1939383392674, 2...|[https://cdn.dumm...|https://cdn.dummy...|\n| 10|  Gucci Bloom Eau de|Gucci Bloom by Gu...|fragrances|  79.99|               8.9|  2.69|   93|[fragrances, perf...|           Gucci|FFKZ6HOF|    10|{27.18, 17.81, 22...|        No warranty|    Ships in 2 weeks|          In Stock|[{Great value for...|    No return policy|                  10|{8232190382069, 2...|[https://cdn.dumm...|https://cdn.dummy...|\n| 11|Annibale Colombo Bed|The Annibale Colo...| furniture|1899.99|              0.29|  4.14|   47|   [furniture, beds]|Annibale Colombo|4KMDTZWF|     3|{24.47, 26.88, 28...|    2 year warranty|     Ships overnight|          In Stock|[{Great value for...|7 days return policy|                   1|{7113807059215, 2...|[https://cdn.dumm...|https://cdn.dummy...|\n| 12|Annibale Colombo ...|The Annibale Colo...| furniture|2499.99|             18.54|  3.08|   16|  [furniture, sofas]|Annibale Colombo|LUU95CQP|     3|{25.81, 19.11, 20...|   1 month warranty|     Ships overnight|          In Stock|[{Very satisfied!...|7 days return policy|                   1|{0426785817074, 2...|[https://cdn.dumm...|https://cdn.dummy...|\n| 13|Bedside Table Afr...|The Bedside Table...| furniture| 299.99|              9.58|  4.48|   16|[furniture, bedsi...|   Furniture Co.|OWPLTZYX|    10|{24.95, 20.2, 25.43}|  6 months warranty|Ships in 1-2 busi...|          In Stock|[{Very happy with...|    No return policy|                   5|{2913244159666, 2...|[https://cdn.dumm...|https://cdn.dummy...|\n| 14|Knoll Saarinen Ex...|The Knoll Saarine...| furniture| 499.99|             15.23|  4.11|   47|[furniture, offic...|           Knoll|RKHVJ4FE|     3|{29.07, 21.46, 16...|  Lifetime warranty|Ships in 3-5 busi...|          In Stock|[{Very happy with...|30 days return po...|                   5|{0726316339746, 2...|[https://cdn.dumm...|https://cdn.dummy...|\n| 15|Wooden Bathroom S...|The Wooden Bathro...| furniture| 799.99|             11.22|  3.26|   95|[furniture, bathr...|     Bath Trends|7OLTIEVO|     6|{12.37, 22.64, 7.32}|  6 months warranty|Ships in 3-5 busi...|          In Stock|[{Highly recommen...|7 days return policy|                   1|{7839797529453, 2...|[https://cdn.dumm...|https://cdn.dummy...|\n| 17|          Beef Steak|High-quality beef...| groceries|  12.99|             17.99|  2.83|   96|              [meat]|            null|BWWA2MSO|     9|{26.4, 13.48, 23.35}|   1 month warranty|     Ships overnight|          In Stock|[{Very pleased!, ...|90 days return po...|                  21|{8335515097879, 2...|[https://cdn.dumm...|https://cdn.dummy...|\n| 22|            Dog Food|Specially formula...| groceries|  10.99|             18.15|  2.74|   40|[pet supplies, do...|            null|A6QRCH37|     2|{20.54, 29.77, 29...|    1 year warranty|    Ships in 1 month|          In Stock|[{Highly impresse...|90 days return po...|                  29|{7957222289508, 2...|[https://cdn.dumm...|https://cdn.dummy...|\n| 24|          Fish Steak|Quality fish stea...| groceries|  14.99|               7.0|  4.83|   99|           [seafood]|            null|XNIH1MTA|     8| {10.01, 8.4, 20.14}|    1 year warranty|    Ships in 1 month|          In Stock|[{Great value for...|30 days return po...|                  49|{4250692197342, 2...|[https://cdn.dumm...|https://cdn.dummy...|\n+---+--------------------+--------------------+----------+-------+------------------+------+-----+--------------------+----------------+--------+------+--------------------+-------------------+--------------------+------------------+--------------------+--------------------+--------------------+--------------------+--------------------+--------------------+\n\n"
     ]
    }
   ],
   "source": [
    "\n",
    "spark.sql(\"\"\"\n",
    "SELECT * \n",
    "FROM products\n",
    "WHERE price > 10\n",
    "\"\"\").show()\n"
   ]
  }
 ],
 "metadata": {
  "application/vnd.databricks.v1+notebook": {
   "computePreferences": null,
   "dashboards": [],
   "environmentMetadata": {
    "base_environment": "",
    "client": "1"
   },
   "language": "python",
   "notebookMetadata": {
    "pythonIndentUnit": 4
   },
   "notebookName": "Project",
   "widgets": {}
  }
 },
 "nbformat": 4,
 "nbformat_minor": 0
}
